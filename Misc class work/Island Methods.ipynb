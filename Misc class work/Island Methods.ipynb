{
 "cells": [
  {
   "cell_type": "code",
   "execution_count": 1,
   "id": "iraqi-youth",
   "metadata": {},
   "outputs": [],
   "source": [
    "import networkx as net"
   ]
  },
  {
   "cell_type": "code",
   "execution_count": 2,
   "id": "tamil-customer",
   "metadata": {},
   "outputs": [],
   "source": [
    "e=net.read_pajek(\"egypt_retweets.net\", encoding='UTF-8')"
   ]
  },
  {
   "cell_type": "code",
   "execution_count": 3,
   "id": "creative-remove",
   "metadata": {},
   "outputs": [
    {
     "data": {
      "text/plain": [
       "25178"
      ]
     },
     "execution_count": 3,
     "metadata": {},
     "output_type": "execute_result"
    }
   ],
   "source": [
    "len(e)"
   ]
  },
  {
   "cell_type": "code",
   "execution_count": 4,
   "id": "extended-casting",
   "metadata": {},
   "outputs": [],
   "source": [
    "#list(net.connected_component_subgraphs(e))"
   ]
  },
  {
   "cell_type": "code",
   "execution_count": 5,
   "id": "drawn-crossing",
   "metadata": {},
   "outputs": [],
   "source": [
    "import matplotlib.pyplot as plot\n",
    "x=[len(c) for c in net.connected_component_subgraphs(e)]"
   ]
  },
  {
   "cell_type": "code",
   "execution_count": 6,
   "id": "original-grace",
   "metadata": {},
   "outputs": [
    {
     "data": {
      "text/plain": [
       "(array([3.121e+03, 0.000e+00, 0.000e+00, 0.000e+00, 0.000e+00, 0.000e+00,\n",
       "        0.000e+00, 0.000e+00, 0.000e+00, 1.000e+00]),\n",
       " array([1.00000e+00, 1.77710e+03, 3.55320e+03, 5.32930e+03, 7.10540e+03,\n",
       "        8.88150e+03, 1.06576e+04, 1.24337e+04, 1.42098e+04, 1.59859e+04,\n",
       "        1.77620e+04]),\n",
       " <a list of 10 Patch objects>)"
      ]
     },
     "execution_count": 6,
     "metadata": {},
     "output_type": "execute_result"
    },
    {
     "data": {
      "image/png": "[encoded data removed]",
      "text/plain": [
       "<Figure size 432x288 with 1 Axes>"
      ]
     },
     "metadata": {
      "needs_background": "light"
     },
     "output_type": "display_data"
    }
   ],
   "source": [
    "plot.hist(x)"
   ]
  },
  {
   "cell_type": "code",
   "execution_count": 7,
   "id": "mysterious-hotel",
   "metadata": {},
   "outputs": [
    {
     "data": {
      "text/plain": [
       "[17762, 64, 16, 13, 11, 11, 14, 16]"
      ]
     },
     "execution_count": 7,
     "metadata": {},
     "output_type": "execute_result"
    }
   ],
   "source": [
    "[len(c) for c in net.connected_component_subgraphs(e) if len(c) > 10]"
   ]
  },
  {
   "cell_type": "code",
   "execution_count": 8,
   "id": "stuffed-soldier",
   "metadata": {},
   "outputs": [],
   "source": [
    "def trim_edges(g, weight=1):\n",
    "        g2=net.Graph()\n",
    "        for f, to, edata in g.edges(data=True):\n",
    "                if edata['weight'] > weight:\n",
    "                        g2.add_edge(f,to,edata)\n",
    "        return g2"
   ]
  },
  {
   "cell_type": "code",
   "execution_count": 9,
   "id": "billion-cedar",
   "metadata": {},
   "outputs": [],
   "source": [
    "def island_method(g, iterations=5):\n",
    "    weights= [edata['weight'] for f,to,edata in g.edges(data=True)]\n",
    "\n",
    "    mn=int(min(weights))\n",
    "    mx=int(max(weights))\n",
    "    #compute the size of the step, so we get a reasonable step in iterations\n",
    "    step=int((mx-mn)/iterations)\n",
    "\n",
    "    return [[threshold, trim_edges(g, threshold)] for threshold in range(mn,mx,step)]"
   ]
  },
  {
   "cell_type": "markdown",
   "id": "vietnamese-statement",
   "metadata": {},
   "source": [
    "The issue between the book method and the method which works is seen below.  The book never created the \"list\" of the network lists before having you call it. \n",
    "\n",
    "In order for this to work, you have to create the list of lists, THEN, run the def's, as defined above, across it.  "
   ]
  },
  {
   "cell_type": "code",
   "execution_count": 10,
   "id": "statistical-avatar",
   "metadata": {},
   "outputs": [],
   "source": [
    "#cc=net.connected_component_subgraphs(e)[0]\n",
    "CC = list(net.connected_component_subgraphs(e))[0]"
   ]
  },
  {
   "cell_type": "code",
   "execution_count": 11,
   "id": "sacred-patient",
   "metadata": {},
   "outputs": [],
   "source": [
    "islands=island_method(CC)"
   ]
  },
  {
   "cell_type": "code",
   "execution_count": 12,
   "id": "excess-blame",
   "metadata": {},
   "outputs": [
    {
     "name": "stdout",
     "output_type": "stream",
     "text": [
      "1 12360 314\n",
      "62 27 11\n",
      "123 8 3\n",
      "184 5 2\n",
      "245 5 2\n"
     ]
    }
   ],
   "source": [
    "for i in islands:\n",
    "    # print the threshold level, size of the graph, and number of connected components\n",
    "    print(i[0], len(i[1]), len(list(net.connected_component_subgraphs(i[1]))))"
   ]
  },
  {
   "cell_type": "markdown",
   "id": "simplified-reach",
   "metadata": {},
   "source": [
    "There are 5 levels to the graph due to the iterations=5 on island_method.  \n",
    "Level zero has 314 island, 12360 nodes\n",
    "Level one has 11 islands, 27 nodes\n",
    "Level two has 3 islands, 8 nodes\n",
    "So on and on...\n",
    "\n",
    "Below, I will plot levels 2-5.  "
   ]
  },
  {
   "cell_type": "code",
   "execution_count": 13,
   "id": "straight-maintenance",
   "metadata": {},
   "outputs": [],
   "source": [
    "#net.draw(islands[0][1])"
   ]
  },
  {
   "cell_type": "code",
   "execution_count": 14,
   "id": "copyrighted-payment",
   "metadata": {},
   "outputs": [
    {
     "name": "stderr",
     "output_type": "stream",
     "text": [
      "C:\\ProgramData\\Anaconda3\\envs\\data620_web\\lib\\site-packages\\networkx\\drawing\\nx_pylab.py:126: MatplotlibDeprecationWarning: pyplot.hold is deprecated.\n",
      "    Future behavior will be consistent with the long-time default:\n",
      "    plot commands add elements without first clearing the\n",
      "    Axes and/or Figure.\n",
      "  b = plt.ishold()\n",
      "C:\\ProgramData\\Anaconda3\\envs\\data620_web\\lib\\site-packages\\networkx\\drawing\\nx_pylab.py:522: MatplotlibDeprecationWarning: The is_string_like function was deprecated in version 2.1.\n",
      "  if not cb.is_string_like(edge_color) \\\n",
      "C:\\ProgramData\\Anaconda3\\envs\\data620_web\\lib\\site-packages\\networkx\\drawing\\nx_pylab.py:543: MatplotlibDeprecationWarning: The is_string_like function was deprecated in version 2.1.\n",
      "  if cb.is_string_like(edge_color) or len(edge_color) == 1:\n",
      "C:\\ProgramData\\Anaconda3\\envs\\data620_web\\lib\\site-packages\\networkx\\drawing\\nx_pylab.py:138: MatplotlibDeprecationWarning: pyplot.hold is deprecated.\n",
      "    Future behavior will be consistent with the long-time default:\n",
      "    plot commands add elements without first clearing the\n",
      "    Axes and/or Figure.\n",
      "  plt.hold(b)\n",
      "C:\\ProgramData\\Anaconda3\\envs\\data620_web\\lib\\site-packages\\matplotlib\\__init__.py:910: MatplotlibDeprecationWarning: axes.hold is deprecated. Please remove it from your matplotlibrc and/or style files.\n",
      "  mplDeprecation)\n",
      "C:\\ProgramData\\Anaconda3\\envs\\data620_web\\lib\\site-packages\\matplotlib\\rcsetup.py:156: MatplotlibDeprecationWarning: axes.hold is deprecated, will be removed in 3.0\n",
      "  mplDeprecation)\n"
     ]
    },
    {
     "data": {
      "image/png": "[encoded data removed]",
      "text/plain": [
       "<Figure size 432x288 with 1 Axes>"
      ]
     },
     "metadata": {},
     "output_type": "display_data"
    }
   ],
   "source": [
    "net.draw(islands[1][1])"
   ]
  },
  {
   "cell_type": "code",
   "execution_count": 15,
   "id": "centered-baseball",
   "metadata": {},
   "outputs": [
    {
     "data": {
      "image/png": "[encoded data removed]",
      "text/plain": [
       "<Figure size 432x288 with 1 Axes>"
      ]
     },
     "metadata": {},
     "output_type": "display_data"
    }
   ],
   "source": [
    "net.draw(islands[2][1])"
   ]
  },
  {
   "cell_type": "code",
   "execution_count": 16,
   "id": "arranged-exposure",
   "metadata": {},
   "outputs": [
    {
     "data": {
      "image/png": "[encoded data removed]",
      "text/plain": [
       "<Figure size 432x288 with 1 Axes>"
      ]
     },
     "metadata": {},
     "output_type": "display_data"
    }
   ],
   "source": [
    "net.draw(islands[3][1])"
   ]
  },
  {
   "cell_type": "code",
   "execution_count": 17,
   "id": "center-detection",
   "metadata": {},
   "outputs": [
    {
     "data": {
      "image/png": "[encoded data removed]",
      "text/plain": [
       "<Figure size 432x288 with 1 Axes>"
      ]
     },
     "metadata": {},
     "output_type": "display_data"
    }
   ],
   "source": [
    "net.draw(islands[4][1])"
   ]
  },
  {
   "cell_type": "code",
   "execution_count": null,
   "id": "gross-wrestling",
   "metadata": {},
   "outputs": [],
   "source": []
  }
 ],
 "metadata": {
  "kernelspec": {
   "display_name": "Python 3",
   "language": "python",
   "name": "python3"
  },
  "language_info": {
   "codemirror_mode": {
    "name": "ipython",
    "version": 3
   },
   "file_extension": ".py",
   "mimetype": "text/x-python",
   "name": "python",
   "nbconvert_exporter": "python",
   "pygments_lexer": "ipython3",
   "version": "3.7.9"
  }
 },
 "nbformat": 4,
 "nbformat_minor": 5
}
