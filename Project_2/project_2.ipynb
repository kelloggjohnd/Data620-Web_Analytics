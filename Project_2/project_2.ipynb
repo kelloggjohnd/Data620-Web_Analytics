{
 "cells": [
  {
   "cell_type": "markdown",
   "id": "liberal-fault",
   "metadata": {},
   "source": [
    "# Project Two - Global Terrorism Data\n",
    "---\n",
    "Jeff Shamp, John Kellogg, Grace Han - CUNY MSDS 620 - Spring 2021"
   ]
  },
  {
   "cell_type": "markdown",
   "id": "conscious-sheriff",
   "metadata": {},
   "source": [
    "## Purpose\n",
    "\n",
    "In this project, we were asked to:\n",
    "\n",
    "- Identify a large 2-node network dataset—you can start with a dataset in a repository.  \n",
    " - Your data should meet the criteria that it consists of ties between and not within two (or more) distinct groups.\n",
    "- Reduce the size of the network using a method such as the island method described in chapter 4 of social network analysis.\n",
    "- What can you infer about each of the distinct groups?\n",
    "\n",
    "We choose to use the same data from our project 1, data from Global Terrorism Database (GTD)."
   ]
  },
  {
   "cell_type": "markdown",
   "id": "owned-franchise",
   "metadata": {},
   "source": [
    "## Data\n",
    "\n",
    "The data is from Global Terrorism Database (GTD) at the University of Maryland. More information about the database, please visit the [UMD GTD Site](https://www.start.umd.edu/data-tools/global-terrorism-database-gtd).\n",
    "\n",
    "The GTD “is an open-source database including information on domestic and international terrorist attacks around the world from 1970 through 2019, and now includes more than 200,000 cases”. For each event, the team gather as much data as possible to include:\n",
    "\n",
    ">Date and location of the incident\n",
    "<br/>The weapons used and nature of the target\n",
    "<br/>The number of casualties\n",
    "<br/>When identifiable – the group or individual responsible\n",
    "\n",
    "We will subset this database to only the necessary columns for this project as well as subset the start year to 1985 to make the data set more manageable."
   ]
  },
  {
   "cell_type": "code",
   "execution_count": 1,
   "id": "inside-lighting",
   "metadata": {},
   "outputs": [
    {
     "name": "stderr",
     "output_type": "stream",
     "text": [
      "\n",
      "Bad key \"text.kerning_factor\" on line 4 in\n",
      "/Users/jeffshamp/.conda/envs/sps620/lib/python3.7/site-packages/matplotlib/mpl-data/stylelib/_classic_test_patch.mplstyle.\n",
      "You probably need to get an updated matplotlibrc file from\n",
      "http://github.com/matplotlib/matplotlib/blob/master/matplotlibrc.template\n",
      "or from the matplotlib source distribution\n"
     ]
    }
   ],
   "source": [
    "import pandas as pd\n",
    "import numpy as np\n",
    "import networkx as nx\n",
    "import matplotlib.pyplot as plt\n",
    "import seaborn as sns\n",
    "from pyvis.network import Network\n",
    "import networkx.algorithms.bipartite as bipartite\n",
    "\n",
    "import warnings\n",
    "warnings.filterwarnings('ignore')"
   ]
  },
  {
   "cell_type": "code",
   "execution_count": 2,
   "id": "bacterial-doctrine",
   "metadata": {},
   "outputs": [],
   "source": [
    "df=pd.read_csv('./global_terror_data_proj_1.csv')"
   ]
  },
  {
   "cell_type": "code",
   "execution_count": 3,
   "id": "mexican-hungarian",
   "metadata": {},
   "outputs": [],
   "source": [
    "# def from text book\n",
    "def trim_edges(g, weight=1):\n",
    "        g2=nx.Graph()\n",
    "        for f, to, edata in g.edges(data=True):\n",
    "                if edata['weight'] > weight:\n",
    "                        g2.add_edge(f,to,edata)\n",
    "        return g2"
   ]
  },
  {
   "cell_type": "code",
   "execution_count": 4,
   "id": "natural-impact",
   "metadata": {},
   "outputs": [],
   "source": [
    "# def from text book\n",
    "def island_method(g, iterations=5):\n",
    "    weights= [edata['weight'] for f,to,edata in g.edges(data=True)]\n",
    "\n",
    "    mn=int(min(weights))\n",
    "    mx=int(max(weights))\n",
    "    #compute the size of the step, so we get a reasonable step in iterations\n",
    "    step=int((mx-mn)/iterations)\n",
    "\n",
    "    return [[threshold, trim_edges(g, threshold)] for threshold in range(mn,mx,step)]"
   ]
  },
  {
   "cell_type": "code",
   "execution_count": 5,
   "id": "patient-heart",
   "metadata": {},
   "outputs": [],
   "source": [
    "# Separating the nodes\n",
    "ter_df = df[[\"country_txt\", \"gname\"]]\n",
    "G=nx.from_pandas_dataframe(ter_df, \"country_txt\", \"gname\")"
   ]
  },
  {
   "cell_type": "code",
   "execution_count": 6,
   "id": "legislative-roommate",
   "metadata": {},
   "outputs": [
    {
     "name": "stdout",
     "output_type": "stream",
     "text": [
      "Name: \n",
      "Type: Graph\n",
      "Number of nodes: 3046\n",
      "Number of edges: 4249\n",
      "Average degree:   2.7899\n"
     ]
    }
   ],
   "source": [
    "print (nx.info(G))"
   ]
  },
  {
   "cell_type": "markdown",
   "id": "driving-paste",
   "metadata": {},
   "source": [
    "The data has enough nodes and edges to continue for this project.  From previous work, we already know the data can easily be broken into 2 separate nodes for analysis."
   ]
  },
  {
   "cell_type": "code",
   "execution_count": 7,
   "id": "given-sleep",
   "metadata": {},
   "outputs": [
    {
     "data": {
      "text/html": [
       "<div>\n",
       "<style scoped>\n",
       "    .dataframe tbody tr th:only-of-type {\n",
       "        vertical-align: middle;\n",
       "    }\n",
       "\n",
       "    .dataframe tbody tr th {\n",
       "        vertical-align: top;\n",
       "    }\n",
       "\n",
       "    .dataframe thead th {\n",
       "        text-align: right;\n",
       "    }\n",
       "</style>\n",
       "<table border=\"1\" class=\"dataframe\">\n",
       "  <thead>\n",
       "    <tr style=\"text-align: right;\">\n",
       "      <th></th>\n",
       "      <th>country_txt</th>\n",
       "      <th>gname</th>\n",
       "    </tr>\n",
       "  </thead>\n",
       "  <tbody>\n",
       "    <tr>\n",
       "      <th>59</th>\n",
       "      <td>Lebanon</td>\n",
       "      <td>Relatives of terrorist</td>\n",
       "    </tr>\n",
       "    <tr>\n",
       "      <th>60</th>\n",
       "      <td>Lebanon</td>\n",
       "      <td>Unknown</td>\n",
       "    </tr>\n",
       "    <tr>\n",
       "      <th>71</th>\n",
       "      <td>Lebanon</td>\n",
       "      <td>Unknown</td>\n",
       "    </tr>\n",
       "    <tr>\n",
       "      <th>79</th>\n",
       "      <td>Lebanon</td>\n",
       "      <td>Unknown</td>\n",
       "    </tr>\n",
       "    <tr>\n",
       "      <th>80</th>\n",
       "      <td>Lebanon</td>\n",
       "      <td>Unknown</td>\n",
       "    </tr>\n",
       "  </tbody>\n",
       "</table>\n",
       "</div>"
      ],
      "text/plain": [
       "   country_txt                   gname\n",
       "59     Lebanon  Relatives of terrorist\n",
       "60     Lebanon                 Unknown\n",
       "71     Lebanon                 Unknown\n",
       "79     Lebanon                 Unknown\n",
       "80     Lebanon                 Unknown"
      ]
     },
     "execution_count": 7,
     "metadata": {},
     "output_type": "execute_result"
    }
   ],
   "source": [
    "#condencing the data down to United States involvement as in Project 1\n",
    "me_list = [\"Syria\", \"Turkey\", \"Iraq\",\"Jordan\", \n",
    "           \"Pakistan\", \"Afghanistan\",\"Iran\", \"Lebanon\"]\n",
    "ter_df =  ter_df[ter_df.country_txt.isin(me_list)]\n",
    "G=nx.from_pandas_dataframe(ter_df,\n",
    "                               \"country_txt\", \n",
    "                               \"gname\")\n",
    "ter_df.head()"
   ]
  },
  {
   "cell_type": "code",
   "execution_count": 8,
   "id": "entire-austria",
   "metadata": {},
   "outputs": [],
   "source": [
    "orgs = [node for node in G.nodes() if node in ter_df.gname.unique()]"
   ]
  },
  {
   "cell_type": "code",
   "execution_count": 9,
   "id": "extraordinary-airline",
   "metadata": {},
   "outputs": [],
   "source": [
    "W = bipartite.weighted_projected_graph(G, orgs)"
   ]
  },
  {
   "cell_type": "code",
   "execution_count": null,
   "id": "minute-voltage",
   "metadata": {},
   "outputs": [],
   "source": [
    "C = Network(height='1000px',\n",
    "            width='1000px',\n",
    "            bgcolor='#222222', \n",
    "            font_color='white', \n",
    "            notebook=True)\n",
    "\n",
    "C.barnes_hut()\n",
    "for n in W.nodes():\n",
    "    C.add_node(n)\n",
    "for e in W.edges():\n",
    "    C.add_edge(e[0], e[1])\n",
    "C.show('network_2.html')"
   ]
  },
  {
   "cell_type": "markdown",
   "id": "unusual-deficit",
   "metadata": {},
   "source": [
    "## Islands"
   ]
  },
  {
   "cell_type": "markdown",
   "id": "aggregate-lighter",
   "metadata": {},
   "source": [
    "Its difficult to make sense of the data as a whole.  We can glean insights into the general structure, however, deep analysis would take too much time; we could easily miss key features.  To break down the data further, we will employ both the Islands and cliques methods simultaneously.\n",
    "\n",
    "The island method uses a system of weights to drop off the lowest values. It allows us to take a graph, like the one above, and systematically \"raise the water level\" (apply weights) to leave only the strongest amount of activity; leaving them to become their own components.  \n",
    "\n",
    "Cliques identifies a cohesive group of points; tightly connected to each other and not as connected to other points outside the group. Basically, each point is directly connected to the other points in the group and no other point or node can be added without lessening the connection.  "
   ]
  },
  {
   "cell_type": "code",
   "execution_count": 11,
   "id": "organizational-distance",
   "metadata": {},
   "outputs": [],
   "source": [
    "# generating the data\n",
    "CC = list(nx.connected_component_subgraphs(W))[0]\n",
    "islands=island_method(CC)"
   ]
  },
  {
   "cell_type": "code",
   "execution_count": 12,
   "id": "julian-courtesy",
   "metadata": {},
   "outputs": [
    {
     "name": "stdout",
     "output_type": "stream",
     "text": [
      "1 53 1\n",
      "2 18 1\n",
      "3 9 1\n",
      "4 5 1\n",
      "5 5 1\n",
      "6 2 1\n",
      "7 2 1\n"
     ]
    }
   ],
   "source": [
    "for i in islands:\n",
    "    # print the threshold level, size of the graph, and number of connected components\n",
    "    print(i[0], len(i[1]), len(list(nx.connected_component_subgraphs(i[1]))))"
   ]
  },
  {
   "cell_type": "markdown",
   "id": "imported-crown",
   "metadata": {},
   "source": [
    "From the numbers above, we can deduce there will be at least 6 \"levels\" of useful data to analyze, the last two levels (6&7 are basically the same numerically).  While the first level will still have a large number of nodes (53), we can start looking at the nodes which DO NOT have strong connections.  Some times looking at the negative is as useful as looking at the positive.  "
   ]
  },
  {
   "cell_type": "code",
   "execution_count": 13,
   "id": "tropical-logging",
   "metadata": {},
   "outputs": [],
   "source": [
    "# Breaking the islands into seperate dataframes\n",
    "lvl1 = islands[0][1]\n",
    "lvl2 = islands[1][1]\n",
    "lvl3 = islands[2][1]\n",
    "lvl4 = islands[3][1]\n",
    "lvl5 = islands[4][1]\n",
    "lvl6 = islands[5][1]\n",
    "lvl7 = islands[6][1]"
   ]
  },
  {
   "cell_type": "code",
   "execution_count": 14,
   "id": "nearby-palestinian",
   "metadata": {},
   "outputs": [
    {
     "data": {
      "text/html": [
       "\n",
       "        <iframe\n",
       "            width=\"1000px\"\n",
       "            height=\"1000px\"\n",
       "            src=\"island1.html\"\n",
       "            frameborder=\"0\"\n",
       "            allowfullscreen\n",
       "        ></iframe>\n",
       "        "
      ],
      "text/plain": [
       "<IPython.lib.display.IFrame at 0x7f90dd917d50>"
      ]
     },
     "execution_count": 14,
     "metadata": {},
     "output_type": "execute_result"
    }
   ],
   "source": [
    "C = Network(height='1000px',\n",
    "            width='1000px',\n",
    "            bgcolor='#222222', \n",
    "            font_color='white', \n",
    "            notebook=True)\n",
    "\n",
    "C.barnes_hut()\n",
    "for n in lvl1.nodes():\n",
    "    C.add_node(n)\n",
    "for e in lvl1.edges():\n",
    "    C.add_edge(e[0], e[1])\n",
    "C.show('island1.html')"
   ]
  },
  {
   "cell_type": "code",
   "execution_count": 15,
   "id": "clear-indie",
   "metadata": {},
   "outputs": [
    {
     "data": {
      "text/html": [
       "<div>\n",
       "<style scoped>\n",
       "    .dataframe tbody tr th:only-of-type {\n",
       "        vertical-align: middle;\n",
       "    }\n",
       "\n",
       "    .dataframe tbody tr th {\n",
       "        vertical-align: top;\n",
       "    }\n",
       "\n",
       "    .dataframe thead th {\n",
       "        text-align: right;\n",
       "    }\n",
       "</style>\n",
       "<table border=\"1\" class=\"dataframe\">\n",
       "  <thead>\n",
       "    <tr style=\"text-align: right;\">\n",
       "      <th></th>\n",
       "      <th>0</th>\n",
       "      <th>1</th>\n",
       "      <th>2</th>\n",
       "      <th>3</th>\n",
       "      <th>4</th>\n",
       "      <th>5</th>\n",
       "      <th>6</th>\n",
       "      <th>7</th>\n",
       "      <th>8</th>\n",
       "      <th>9</th>\n",
       "    </tr>\n",
       "  </thead>\n",
       "  <tbody>\n",
       "    <tr>\n",
       "      <th>0</th>\n",
       "      <td>Muslim extremists</td>\n",
       "      <td>Unknown</td>\n",
       "      <td>Southern Front</td>\n",
       "      <td>ISIS network:  Islamic State of Iraq and the L...</td>\n",
       "      <td>Al-Qaida network:  Al-Qaida in Iraq</td>\n",
       "      <td>None</td>\n",
       "      <td>None</td>\n",
       "      <td>None</td>\n",
       "      <td>None</td>\n",
       "      <td>None</td>\n",
       "    </tr>\n",
       "    <tr>\n",
       "      <th>1</th>\n",
       "      <td>Muslim extremists</td>\n",
       "      <td>Unknown</td>\n",
       "      <td>Kurdistan Freedom Hawks (TAK)</td>\n",
       "      <td>Kurdistan Workers' Party (PKK)</td>\n",
       "      <td>ISIS network:  Islamic State of Iraq and the L...</td>\n",
       "      <td>Hezbollah</td>\n",
       "      <td>Kurdish Rebels</td>\n",
       "      <td>None</td>\n",
       "      <td>None</td>\n",
       "      <td>None</td>\n",
       "    </tr>\n",
       "    <tr>\n",
       "      <th>2</th>\n",
       "      <td>Muslim extremists</td>\n",
       "      <td>Unknown</td>\n",
       "      <td>Tawhid and Jihad</td>\n",
       "      <td>ISIS network:  Islamic State of Iraq and the L...</td>\n",
       "      <td>Islamist extremists</td>\n",
       "      <td>Al-Qaida network:  Al-Qaida in Iraq</td>\n",
       "      <td>None</td>\n",
       "      <td>None</td>\n",
       "      <td>None</td>\n",
       "      <td>None</td>\n",
       "    </tr>\n",
       "    <tr>\n",
       "      <th>3</th>\n",
       "      <td>Muslim extremists</td>\n",
       "      <td>Unknown</td>\n",
       "      <td>Baloch Nationalists</td>\n",
       "      <td>Sikh Extremists</td>\n",
       "      <td>Sipah-e-Sahaba/Pakistan (SSP)</td>\n",
       "      <td>Muslims</td>\n",
       "      <td>None</td>\n",
       "      <td>None</td>\n",
       "      <td>None</td>\n",
       "      <td>None</td>\n",
       "    </tr>\n",
       "    <tr>\n",
       "      <th>4</th>\n",
       "      <td>Muslim extremists</td>\n",
       "      <td>Unknown</td>\n",
       "      <td>Mujahedin-e Khalq (MEK)</td>\n",
       "      <td>Kurdistan Workers' Party (PKK)</td>\n",
       "      <td>ISIS network:  Islamic State of Iraq and the L...</td>\n",
       "      <td>None</td>\n",
       "      <td>None</td>\n",
       "      <td>None</td>\n",
       "      <td>None</td>\n",
       "      <td>None</td>\n",
       "    </tr>\n",
       "  </tbody>\n",
       "</table>\n",
       "</div>"
      ],
      "text/plain": [
       "                   0        1                              2  \\\n",
       "0  Muslim extremists  Unknown                 Southern Front   \n",
       "1  Muslim extremists  Unknown  Kurdistan Freedom Hawks (TAK)   \n",
       "2  Muslim extremists  Unknown               Tawhid and Jihad   \n",
       "3  Muslim extremists  Unknown            Baloch Nationalists   \n",
       "4  Muslim extremists  Unknown        Mujahedin-e Khalq (MEK)   \n",
       "\n",
       "                                                   3  \\\n",
       "0  ISIS network:  Islamic State of Iraq and the L...   \n",
       "1                     Kurdistan Workers' Party (PKK)   \n",
       "2  ISIS network:  Islamic State of Iraq and the L...   \n",
       "3                                    Sikh Extremists   \n",
       "4                     Kurdistan Workers' Party (PKK)   \n",
       "\n",
       "                                                   4  \\\n",
       "0                Al-Qaida network:  Al-Qaida in Iraq   \n",
       "1  ISIS network:  Islamic State of Iraq and the L...   \n",
       "2                                Islamist extremists   \n",
       "3                      Sipah-e-Sahaba/Pakistan (SSP)   \n",
       "4  ISIS network:  Islamic State of Iraq and the L...   \n",
       "\n",
       "                                     5               6     7     8     9  \n",
       "0                                 None            None  None  None  None  \n",
       "1                            Hezbollah  Kurdish Rebels  None  None  None  \n",
       "2  Al-Qaida network:  Al-Qaida in Iraq            None  None  None  None  \n",
       "3                              Muslims            None  None  None  None  \n",
       "4                                 None            None  None  None  None  "
      ]
     },
     "execution_count": 15,
     "metadata": {},
     "output_type": "execute_result"
    }
   ],
   "source": [
    "eco = bipartite.weighted_projected_graph(G, orgs)\n",
    "eco1 =  trim_edges(eco, weight = 1)\n",
    "cliques = pd.DataFrame(nx.find_cliques(eco1))\n",
    "#only showing the first 10 columns due to the size of the generated dataframe\n",
    "cliques.iloc[:5,:10]"
   ]
  },
  {
   "cell_type": "code",
   "execution_count": 16,
   "id": "brutal-voltage",
   "metadata": {},
   "outputs": [
    {
     "name": "stdout",
     "output_type": "stream",
     "text": [
      "Name: \n",
      "Type: Graph\n",
      "Number of nodes: 53\n",
      "Number of edges: 417\n",
      "Average degree:  15.7358\n"
     ]
    }
   ],
   "source": [
    "print(nx.info(eco1))"
   ]
  },
  {
   "cell_type": "markdown",
   "id": "coated-engineer",
   "metadata": {},
   "source": [
    "At level 1, we still see the strength of the networks in Pakistan.  It's the only country bubble left (Circle of nodes that include groups like Jundallah, Haqqani network, Korhaasan, and Al-Quida).  While any group in this stage of the analysis, does carry more weight than those not shown here, it's becomes clear even at this stage, there are powerhouses. \n",
    "\n",
    "When we look around the powerhouses, we can also see groups who's connection strength is still strong.  We can also assume some of the ones who will start to fall off as we get higher in the levels (Baloch Nationalists, Sikh extremists, etc...).  We do have to take this data with a grain of salt.  'Al-Qaida network: Al-Qaida in Iraq' does not have a lot of entries in the cliques, however, they are still present in the next level."
   ]
  },
  {
   "cell_type": "code",
   "execution_count": 17,
   "id": "silver-davis",
   "metadata": {},
   "outputs": [
    {
     "data": {
      "text/html": [
       "\n",
       "        <iframe\n",
       "            width=\"1000px\"\n",
       "            height=\"1000px\"\n",
       "            src=\"island2.html\"\n",
       "            frameborder=\"0\"\n",
       "            allowfullscreen\n",
       "        ></iframe>\n",
       "        "
      ],
      "text/plain": [
       "<IPython.lib.display.IFrame at 0x7f90c5fbd950>"
      ]
     },
     "execution_count": 17,
     "metadata": {},
     "output_type": "execute_result"
    }
   ],
   "source": [
    "C = Network(height='1000px',\n",
    "            width='1000px',\n",
    "            bgcolor='#222222', \n",
    "            font_color='white', \n",
    "            notebook=True)\n",
    "\n",
    "C.barnes_hut()\n",
    "for n in lvl2.nodes():\n",
    "    C.add_node(n)\n",
    "for e in lvl2.edges():\n",
    "    C.add_edge(e[0], e[1])\n",
    "C.show('island2.html')"
   ]
  },
  {
   "cell_type": "code",
   "execution_count": 18,
   "id": "commercial-helping",
   "metadata": {},
   "outputs": [
    {
     "data": {
      "text/html": [
       "<div>\n",
       "<style scoped>\n",
       "    .dataframe tbody tr th:only-of-type {\n",
       "        vertical-align: middle;\n",
       "    }\n",
       "\n",
       "    .dataframe tbody tr th {\n",
       "        vertical-align: top;\n",
       "    }\n",
       "\n",
       "    .dataframe thead th {\n",
       "        text-align: right;\n",
       "    }\n",
       "</style>\n",
       "<table border=\"1\" class=\"dataframe\">\n",
       "  <thead>\n",
       "    <tr style=\"text-align: right;\">\n",
       "      <th></th>\n",
       "      <th>0</th>\n",
       "      <th>1</th>\n",
       "      <th>2</th>\n",
       "      <th>3</th>\n",
       "      <th>4</th>\n",
       "      <th>5</th>\n",
       "    </tr>\n",
       "  </thead>\n",
       "  <tbody>\n",
       "    <tr>\n",
       "      <th>0</th>\n",
       "      <td>Unknown</td>\n",
       "      <td>Muslim extremists</td>\n",
       "      <td>Abdullah Azzam Brigades</td>\n",
       "      <td>Islamist extremists</td>\n",
       "      <td>None</td>\n",
       "      <td>None</td>\n",
       "    </tr>\n",
       "    <tr>\n",
       "      <th>1</th>\n",
       "      <td>Unknown</td>\n",
       "      <td>Muslim extremists</td>\n",
       "      <td>Gunmen</td>\n",
       "      <td>ISIS network:  Islamic State of Iraq and the L...</td>\n",
       "      <td>Kurdistan Workers' Party (PKK)</td>\n",
       "      <td>Kurdish extremists</td>\n",
       "    </tr>\n",
       "    <tr>\n",
       "      <th>2</th>\n",
       "      <td>Unknown</td>\n",
       "      <td>Muslim extremists</td>\n",
       "      <td>Gunmen</td>\n",
       "      <td>ISIS network:  Islamic State of Iraq and the L...</td>\n",
       "      <td>Kurdistan Workers' Party (PKK)</td>\n",
       "      <td>Hezbollah</td>\n",
       "    </tr>\n",
       "    <tr>\n",
       "      <th>3</th>\n",
       "      <td>Unknown</td>\n",
       "      <td>Muslim extremists</td>\n",
       "      <td>Gunmen</td>\n",
       "      <td>ISIS network:  Islamic State of Iraq and the L...</td>\n",
       "      <td>Islamist extremists</td>\n",
       "      <td>Shia Muslim extremists</td>\n",
       "    </tr>\n",
       "    <tr>\n",
       "      <th>4</th>\n",
       "      <td>Unknown</td>\n",
       "      <td>Muslim extremists</td>\n",
       "      <td>Gunmen</td>\n",
       "      <td>ISIS network:  Islamic State of Iraq and the L...</td>\n",
       "      <td>Free Syrian Army</td>\n",
       "      <td>Hezbollah</td>\n",
       "    </tr>\n",
       "    <tr>\n",
       "      <th>5</th>\n",
       "      <td>Unknown</td>\n",
       "      <td>Muslim extremists</td>\n",
       "      <td>Gunmen</td>\n",
       "      <td>ISIS network:  Islamic State of Iraq and the L...</td>\n",
       "      <td>Shia Muslim extremists</td>\n",
       "      <td>Al-Nusrah Front</td>\n",
       "    </tr>\n",
       "    <tr>\n",
       "      <th>6</th>\n",
       "      <td>Unknown</td>\n",
       "      <td>Muslim extremists</td>\n",
       "      <td>Gunmen</td>\n",
       "      <td>Separatists</td>\n",
       "      <td>Islamist extremists</td>\n",
       "      <td>None</td>\n",
       "    </tr>\n",
       "    <tr>\n",
       "      <th>7</th>\n",
       "      <td>Unknown</td>\n",
       "      <td>Muslim extremists</td>\n",
       "      <td>Gunmen</td>\n",
       "      <td>Muslim Militants</td>\n",
       "      <td>Al-Qaida network:  Al-Qaida</td>\n",
       "      <td>Islamist extremists</td>\n",
       "    </tr>\n",
       "    <tr>\n",
       "      <th>8</th>\n",
       "      <td>Unknown</td>\n",
       "      <td>Muslim extremists</td>\n",
       "      <td>Gunmen</td>\n",
       "      <td>Militants</td>\n",
       "      <td>Islamist extremists</td>\n",
       "      <td>None</td>\n",
       "    </tr>\n",
       "    <tr>\n",
       "      <th>9</th>\n",
       "      <td>Unknown</td>\n",
       "      <td>Muslim extremists</td>\n",
       "      <td>Gunmen</td>\n",
       "      <td>Abu Nidal Organization (ANO)</td>\n",
       "      <td>Shia Muslim extremists</td>\n",
       "      <td>Islamist extremists</td>\n",
       "    </tr>\n",
       "    <tr>\n",
       "      <th>10</th>\n",
       "      <td>Unknown</td>\n",
       "      <td>Muslim extremists</td>\n",
       "      <td>Al-Qaida network:  Al-Qaida in Iraq</td>\n",
       "      <td>ISIS network:  Islamic State of Iraq and the L...</td>\n",
       "      <td>None</td>\n",
       "      <td>None</td>\n",
       "    </tr>\n",
       "  </tbody>\n",
       "</table>\n",
       "</div>"
      ],
      "text/plain": [
       "          0                  1                                    2  \\\n",
       "0   Unknown  Muslim extremists              Abdullah Azzam Brigades   \n",
       "1   Unknown  Muslim extremists                               Gunmen   \n",
       "2   Unknown  Muslim extremists                               Gunmen   \n",
       "3   Unknown  Muslim extremists                               Gunmen   \n",
       "4   Unknown  Muslim extremists                               Gunmen   \n",
       "5   Unknown  Muslim extremists                               Gunmen   \n",
       "6   Unknown  Muslim extremists                               Gunmen   \n",
       "7   Unknown  Muslim extremists                               Gunmen   \n",
       "8   Unknown  Muslim extremists                               Gunmen   \n",
       "9   Unknown  Muslim extremists                               Gunmen   \n",
       "10  Unknown  Muslim extremists  Al-Qaida network:  Al-Qaida in Iraq   \n",
       "\n",
       "                                                    3  \\\n",
       "0                                 Islamist extremists   \n",
       "1   ISIS network:  Islamic State of Iraq and the L...   \n",
       "2   ISIS network:  Islamic State of Iraq and the L...   \n",
       "3   ISIS network:  Islamic State of Iraq and the L...   \n",
       "4   ISIS network:  Islamic State of Iraq and the L...   \n",
       "5   ISIS network:  Islamic State of Iraq and the L...   \n",
       "6                                         Separatists   \n",
       "7                                    Muslim Militants   \n",
       "8                                           Militants   \n",
       "9                        Abu Nidal Organization (ANO)   \n",
       "10  ISIS network:  Islamic State of Iraq and the L...   \n",
       "\n",
       "                                 4                       5  \n",
       "0                             None                    None  \n",
       "1   Kurdistan Workers' Party (PKK)      Kurdish extremists  \n",
       "2   Kurdistan Workers' Party (PKK)               Hezbollah  \n",
       "3              Islamist extremists  Shia Muslim extremists  \n",
       "4                 Free Syrian Army               Hezbollah  \n",
       "5           Shia Muslim extremists         Al-Nusrah Front  \n",
       "6              Islamist extremists                    None  \n",
       "7      Al-Qaida network:  Al-Qaida     Islamist extremists  \n",
       "8              Islamist extremists                    None  \n",
       "9           Shia Muslim extremists     Islamist extremists  \n",
       "10                            None                    None  "
      ]
     },
     "execution_count": 18,
     "metadata": {},
     "output_type": "execute_result"
    }
   ],
   "source": [
    "eco = bipartite.weighted_projected_graph(G, orgs)\n",
    "eco2 =  trim_edges(eco, weight = 2)\n",
    "cliques = pd.DataFrame(nx.find_cliques(eco2))\n",
    "cliques"
   ]
  },
  {
   "cell_type": "code",
   "execution_count": 19,
   "id": "prompt-sewing",
   "metadata": {},
   "outputs": [
    {
     "name": "stdout",
     "output_type": "stream",
     "text": [
      "Name: \n",
      "Type: Graph\n",
      "Number of nodes: 18\n",
      "Number of edges: 67\n",
      "Average degree:   7.4444\n"
     ]
    }
   ],
   "source": [
    "print(nx.info(eco2))"
   ]
  },
  {
   "cell_type": "markdown",
   "id": "fourth-pocket",
   "metadata": {},
   "source": [
    "At Level 2 we start getting into the the most important and dangerous groups.  As the average degree drops, the greater chance of having connections to all the other nodes.  As we get higher and higher in the levels, the more connected the nodes become until we are left with only 2 nodes at level 6 and 7. (note: level 7 omitted from this report, it is redundant to level 6).\n",
    "\n",
    "Above we are seeing the relative importance of ISIS, Al-Qaida, and Hezbolla. Additionally, we see that various Kurdish groups are very active in this network. While the west has partnered with some Kurdish group to combat ISIS, we see that others continue to engage in terrorist acts. It could an interesting project to analyze the extent to which US military involvement has increased or decreased attacks organized by groups like PKK. "
   ]
  },
  {
   "cell_type": "code",
   "execution_count": 20,
   "id": "restricted-genesis",
   "metadata": {},
   "outputs": [
    {
     "data": {
      "text/html": [
       "\n",
       "        <iframe\n",
       "            width=\"1000px\"\n",
       "            height=\"1000px\"\n",
       "            src=\"island3.html\"\n",
       "            frameborder=\"0\"\n",
       "            allowfullscreen\n",
       "        ></iframe>\n",
       "        "
      ],
      "text/plain": [
       "<IPython.lib.display.IFrame at 0x7f90c6b03490>"
      ]
     },
     "execution_count": 20,
     "metadata": {},
     "output_type": "execute_result"
    }
   ],
   "source": [
    "C = Network(height='1000px',\n",
    "            width='1000px',\n",
    "            bgcolor='#222222', \n",
    "            font_color='white', \n",
    "            notebook=True)\n",
    "\n",
    "C.barnes_hut()\n",
    "for n in lvl3.nodes():\n",
    "    C.add_node(n)\n",
    "for e in lvl3.edges():\n",
    "    C.add_edge(e[0], e[1])\n",
    "C.show('island3.html')"
   ]
  },
  {
   "cell_type": "code",
   "execution_count": 21,
   "id": "dying-barrier",
   "metadata": {},
   "outputs": [
    {
     "data": {
      "text/html": [
       "<div>\n",
       "<style scoped>\n",
       "    .dataframe tbody tr th:only-of-type {\n",
       "        vertical-align: middle;\n",
       "    }\n",
       "\n",
       "    .dataframe tbody tr th {\n",
       "        vertical-align: top;\n",
       "    }\n",
       "\n",
       "    .dataframe thead th {\n",
       "        text-align: right;\n",
       "    }\n",
       "</style>\n",
       "<table border=\"1\" class=\"dataframe\">\n",
       "  <thead>\n",
       "    <tr style=\"text-align: right;\">\n",
       "      <th></th>\n",
       "      <th>0</th>\n",
       "      <th>1</th>\n",
       "      <th>2</th>\n",
       "      <th>3</th>\n",
       "      <th>4</th>\n",
       "    </tr>\n",
       "  </thead>\n",
       "  <tbody>\n",
       "    <tr>\n",
       "      <th>0</th>\n",
       "      <td>Unknown</td>\n",
       "      <td>Muslim extremists</td>\n",
       "      <td>Muslim Militants</td>\n",
       "      <td>Gunmen</td>\n",
       "      <td>Islamist extremists</td>\n",
       "    </tr>\n",
       "    <tr>\n",
       "      <th>1</th>\n",
       "      <td>Unknown</td>\n",
       "      <td>Muslim extremists</td>\n",
       "      <td>ISIS network:  Islamic State of Iraq and the L...</td>\n",
       "      <td>Kurdistan Workers' Party (PKK)</td>\n",
       "      <td>None</td>\n",
       "    </tr>\n",
       "    <tr>\n",
       "      <th>2</th>\n",
       "      <td>Unknown</td>\n",
       "      <td>Muslim extremists</td>\n",
       "      <td>ISIS network:  Islamic State of Iraq and the L...</td>\n",
       "      <td>Gunmen</td>\n",
       "      <td>Islamist extremists</td>\n",
       "    </tr>\n",
       "    <tr>\n",
       "      <th>3</th>\n",
       "      <td>Unknown</td>\n",
       "      <td>Muslim extremists</td>\n",
       "      <td>ISIS network:  Islamic State of Iraq and the L...</td>\n",
       "      <td>Hezbollah</td>\n",
       "      <td>None</td>\n",
       "    </tr>\n",
       "    <tr>\n",
       "      <th>4</th>\n",
       "      <td>Unknown</td>\n",
       "      <td>Muslim extremists</td>\n",
       "      <td>Shia Muslim extremists</td>\n",
       "      <td>Gunmen</td>\n",
       "      <td>None</td>\n",
       "    </tr>\n",
       "  </tbody>\n",
       "</table>\n",
       "</div>"
      ],
      "text/plain": [
       "         0                  1  \\\n",
       "0  Unknown  Muslim extremists   \n",
       "1  Unknown  Muslim extremists   \n",
       "2  Unknown  Muslim extremists   \n",
       "3  Unknown  Muslim extremists   \n",
       "4  Unknown  Muslim extremists   \n",
       "\n",
       "                                                   2  \\\n",
       "0                                   Muslim Militants   \n",
       "1  ISIS network:  Islamic State of Iraq and the L...   \n",
       "2  ISIS network:  Islamic State of Iraq and the L...   \n",
       "3  ISIS network:  Islamic State of Iraq and the L...   \n",
       "4                             Shia Muslim extremists   \n",
       "\n",
       "                                3                    4  \n",
       "0                          Gunmen  Islamist extremists  \n",
       "1  Kurdistan Workers' Party (PKK)                 None  \n",
       "2                          Gunmen  Islamist extremists  \n",
       "3                       Hezbollah                 None  \n",
       "4                          Gunmen                 None  "
      ]
     },
     "execution_count": 21,
     "metadata": {},
     "output_type": "execute_result"
    }
   ],
   "source": [
    "eco = bipartite.weighted_projected_graph(G, orgs)\n",
    "eco3 =  trim_edges(eco, weight = 3)\n",
    "cliques = pd.DataFrame(nx.find_cliques(eco3))\n",
    "cliques"
   ]
  },
  {
   "cell_type": "code",
   "execution_count": 22,
   "id": "acoustic-hartford",
   "metadata": {},
   "outputs": [
    {
     "name": "stdout",
     "output_type": "stream",
     "text": [
      "Name: \n",
      "Type: Graph\n",
      "Number of nodes: 9\n",
      "Number of edges: 23\n",
      "Average degree:   5.1111\n"
     ]
    }
   ],
   "source": [
    "print(nx.info(eco3))"
   ]
  },
  {
   "cell_type": "markdown",
   "id": "marine-douglas",
   "metadata": {},
   "source": [
    "Again, we see the rising importance of ISIS as well as the general term for Shia extremism and Hezbollah. Hezbolla being the one group that is _not_ an off spring of the US involvement in the middle east. "
   ]
  },
  {
   "cell_type": "code",
   "execution_count": 23,
   "id": "juvenile-standing",
   "metadata": {},
   "outputs": [
    {
     "data": {
      "text/html": [
       "\n",
       "        <iframe\n",
       "            width=\"1000px\"\n",
       "            height=\"1000px\"\n",
       "            src=\"island4.html\"\n",
       "            frameborder=\"0\"\n",
       "            allowfullscreen\n",
       "        ></iframe>\n",
       "        "
      ],
      "text/plain": [
       "<IPython.lib.display.IFrame at 0x7f90c627ea90>"
      ]
     },
     "execution_count": 23,
     "metadata": {},
     "output_type": "execute_result"
    }
   ],
   "source": [
    "C = Network(height='1000px',\n",
    "            width='1000px',\n",
    "            bgcolor='#222222', \n",
    "            font_color='white', \n",
    "            notebook=True)\n",
    "\n",
    "C.barnes_hut()\n",
    "for n in lvl4.nodes():\n",
    "    C.add_node(n)\n",
    "for e in lvl4.edges():\n",
    "    C.add_edge(e[0], e[1])\n",
    "C.show('island4.html')"
   ]
  },
  {
   "cell_type": "code",
   "execution_count": 24,
   "id": "conscious-keeping",
   "metadata": {},
   "outputs": [
    {
     "data": {
      "text/html": [
       "<div>\n",
       "<style scoped>\n",
       "    .dataframe tbody tr th:only-of-type {\n",
       "        vertical-align: middle;\n",
       "    }\n",
       "\n",
       "    .dataframe tbody tr th {\n",
       "        vertical-align: top;\n",
       "    }\n",
       "\n",
       "    .dataframe thead th {\n",
       "        text-align: right;\n",
       "    }\n",
       "</style>\n",
       "<table border=\"1\" class=\"dataframe\">\n",
       "  <thead>\n",
       "    <tr style=\"text-align: right;\">\n",
       "      <th></th>\n",
       "      <th>0</th>\n",
       "      <th>1</th>\n",
       "      <th>2</th>\n",
       "      <th>3</th>\n",
       "    </tr>\n",
       "  </thead>\n",
       "  <tbody>\n",
       "    <tr>\n",
       "      <th>0</th>\n",
       "      <td>Unknown</td>\n",
       "      <td>Muslim extremists</td>\n",
       "      <td>ISIS network:  Islamic State of Iraq and the L...</td>\n",
       "      <td>None</td>\n",
       "    </tr>\n",
       "    <tr>\n",
       "      <th>1</th>\n",
       "      <td>Unknown</td>\n",
       "      <td>Muslim extremists</td>\n",
       "      <td>Gunmen</td>\n",
       "      <td>Islamist extremists</td>\n",
       "    </tr>\n",
       "  </tbody>\n",
       "</table>\n",
       "</div>"
      ],
      "text/plain": [
       "         0                  1  \\\n",
       "0  Unknown  Muslim extremists   \n",
       "1  Unknown  Muslim extremists   \n",
       "\n",
       "                                                   2                    3  \n",
       "0  ISIS network:  Islamic State of Iraq and the L...                 None  \n",
       "1                                             Gunmen  Islamist extremists  "
      ]
     },
     "execution_count": 24,
     "metadata": {},
     "output_type": "execute_result"
    }
   ],
   "source": [
    "eco = bipartite.weighted_projected_graph(G, orgs)\n",
    "eco4 =  trim_edges(eco, weight = 4)\n",
    "cliques = pd.DataFrame(nx.find_cliques(eco4))\n",
    "cliques"
   ]
  },
  {
   "cell_type": "markdown",
   "id": "loved-forth",
   "metadata": {},
   "source": [
    "At this level we see that ISIS is the dominate known group. Beyond a general moniker for Islamist extremists."
   ]
  },
  {
   "cell_type": "code",
   "execution_count": 25,
   "id": "another-development",
   "metadata": {},
   "outputs": [
    {
     "name": "stdout",
     "output_type": "stream",
     "text": [
      "Name: \n",
      "Type: Graph\n",
      "Number of nodes: 5\n",
      "Number of edges: 8\n",
      "Average degree:   3.2000\n"
     ]
    }
   ],
   "source": [
    "print(nx.info(eco4))"
   ]
  },
  {
   "cell_type": "code",
   "execution_count": 26,
   "id": "supreme-publication",
   "metadata": {},
   "outputs": [
    {
     "data": {
      "text/html": [
       "\n",
       "        <iframe\n",
       "            width=\"1000px\"\n",
       "            height=\"1000px\"\n",
       "            src=\"island5.html\"\n",
       "            frameborder=\"0\"\n",
       "            allowfullscreen\n",
       "        ></iframe>\n",
       "        "
      ],
      "text/plain": [
       "<IPython.lib.display.IFrame at 0x7f90c6afe950>"
      ]
     },
     "execution_count": 26,
     "metadata": {},
     "output_type": "execute_result"
    }
   ],
   "source": [
    "C = Network(height='1000px',\n",
    "            width='1000px',\n",
    "            bgcolor='#222222', \n",
    "            font_color='white', \n",
    "            notebook=True)\n",
    "\n",
    "C.barnes_hut()\n",
    "for n in lvl5.nodes():\n",
    "    C.add_node(n)\n",
    "for e in lvl5.edges():\n",
    "    C.add_edge(e[0], e[1])\n",
    "C.show('island5.html')"
   ]
  },
  {
   "cell_type": "code",
   "execution_count": 27,
   "id": "rapid-interstate",
   "metadata": {},
   "outputs": [
    {
     "data": {
      "text/html": [
       "<div>\n",
       "<style scoped>\n",
       "    .dataframe tbody tr th:only-of-type {\n",
       "        vertical-align: middle;\n",
       "    }\n",
       "\n",
       "    .dataframe tbody tr th {\n",
       "        vertical-align: top;\n",
       "    }\n",
       "\n",
       "    .dataframe thead th {\n",
       "        text-align: right;\n",
       "    }\n",
       "</style>\n",
       "<table border=\"1\" class=\"dataframe\">\n",
       "  <thead>\n",
       "    <tr style=\"text-align: right;\">\n",
       "      <th></th>\n",
       "      <th>0</th>\n",
       "      <th>1</th>\n",
       "      <th>2</th>\n",
       "    </tr>\n",
       "  </thead>\n",
       "  <tbody>\n",
       "    <tr>\n",
       "      <th>0</th>\n",
       "      <td>Unknown</td>\n",
       "      <td>Muslim extremists</td>\n",
       "      <td>ISIS network:  Islamic State of Iraq and the L...</td>\n",
       "    </tr>\n",
       "    <tr>\n",
       "      <th>1</th>\n",
       "      <td>Unknown</td>\n",
       "      <td>Muslim extremists</td>\n",
       "      <td>Gunmen</td>\n",
       "    </tr>\n",
       "    <tr>\n",
       "      <th>2</th>\n",
       "      <td>Unknown</td>\n",
       "      <td>Muslim extremists</td>\n",
       "      <td>Islamist extremists</td>\n",
       "    </tr>\n",
       "  </tbody>\n",
       "</table>\n",
       "</div>"
      ],
      "text/plain": [
       "         0                  1  \\\n",
       "0  Unknown  Muslim extremists   \n",
       "1  Unknown  Muslim extremists   \n",
       "2  Unknown  Muslim extremists   \n",
       "\n",
       "                                                   2  \n",
       "0  ISIS network:  Islamic State of Iraq and the L...  \n",
       "1                                             Gunmen  \n",
       "2                                Islamist extremists  "
      ]
     },
     "execution_count": 27,
     "metadata": {},
     "output_type": "execute_result"
    }
   ],
   "source": [
    "eco = bipartite.weighted_projected_graph(G, orgs)\n",
    "eco5 =  trim_edges(eco, weight = 5)\n",
    "cliques = pd.DataFrame(nx.find_cliques(eco5))\n",
    "cliques"
   ]
  },
  {
   "cell_type": "code",
   "execution_count": 28,
   "id": "vanilla-contact",
   "metadata": {},
   "outputs": [
    {
     "name": "stdout",
     "output_type": "stream",
     "text": [
      "Name: \n",
      "Type: Graph\n",
      "Number of nodes: 5\n",
      "Number of edges: 7\n",
      "Average degree:   2.8000\n"
     ]
    }
   ],
   "source": [
    "print(nx.info(eco5))"
   ]
  },
  {
   "cell_type": "code",
   "execution_count": null,
   "id": "threaded-nylon",
   "metadata": {},
   "outputs": [],
   "source": [
    "C = Network(height='1000px',\n",
    "            width='1000px',\n",
    "            bgcolor='#222222', \n",
    "            font_color='white', \n",
    "            notebook=True)\n",
    "\n",
    "C.barnes_hut()\n",
    "for n in lvl6.nodes():\n",
    "    C.add_node(n)\n",
    "for e in lvl6.edges():\n",
    "    C.add_edge(e[0], e[1])\n",
    "C.show('island6.html')"
   ]
  },
  {
   "cell_type": "code",
   "execution_count": 30,
   "id": "essential-ranking",
   "metadata": {},
   "outputs": [
    {
     "name": "stdout",
     "output_type": "stream",
     "text": [
      "Name: \n",
      "Type: Graph\n",
      "Number of nodes: 2\n",
      "Number of edges: 1\n",
      "Average degree:   1.0000\n"
     ]
    }
   ],
   "source": [
    "eco = bipartite.weighted_projected_graph(G, orgs)\n",
    "eco6 =  trim_edges(eco, weight = 6)\n",
    "print(nx.info(eco6))"
   ]
  },
  {
   "cell_type": "markdown",
   "id": "express-christopher",
   "metadata": {},
   "source": [
    "We finally get down to the strongest nodes. However, as unknown, by it's very nature is 'unknown', we are left with only one group who has the strongest connection to all the other groups: Muslim Extremists.  "
   ]
  },
  {
   "cell_type": "markdown",
   "id": "alpha-organizer",
   "metadata": {},
   "source": [
    "## Countries"
   ]
  },
  {
   "cell_type": "markdown",
   "id": "lonely-corrections",
   "metadata": {},
   "source": [
    "Next, as this is a dual mode network, we wanted to take a quick flip and analyze the the network from the other perspective.  Focusing on country instead of the groups, we can see which countries start to be the heaviest influencers in the terror groups.     "
   ]
  },
  {
   "cell_type": "code",
   "execution_count": 31,
   "id": "published-journal",
   "metadata": {},
   "outputs": [],
   "source": [
    "country = [node for node in G.nodes() if node in ter_df.country_txt.unique()]"
   ]
  },
  {
   "cell_type": "code",
   "execution_count": 32,
   "id": "musical-digest",
   "metadata": {},
   "outputs": [],
   "source": [
    "V = bipartite.weighted_projected_graph(G, country)"
   ]
  },
  {
   "cell_type": "code",
   "execution_count": 33,
   "id": "individual-strain",
   "metadata": {},
   "outputs": [
    {
     "data": {
      "text/html": [
       "\n",
       "        <iframe\n",
       "            width=\"1000px\"\n",
       "            height=\"1000px\"\n",
       "            src=\"network_3.html\"\n",
       "            frameborder=\"0\"\n",
       "            allowfullscreen\n",
       "        ></iframe>\n",
       "        "
      ],
      "text/plain": [
       "<IPython.lib.display.IFrame at 0x7f90c6afc410>"
      ]
     },
     "execution_count": 33,
     "metadata": {},
     "output_type": "execute_result"
    }
   ],
   "source": [
    "C = Network(height='1000px',\n",
    "            width='1000px',\n",
    "            bgcolor='#222222', \n",
    "            font_color='white', \n",
    "            notebook=True)\n",
    "\n",
    "C.barnes_hut()\n",
    "for n in V.nodes():\n",
    "    C.add_node(n)\n",
    "for e in V.edges():\n",
    "    C.add_edge(e[0], e[1])\n",
    "C.show('network_3.html')"
   ]
  },
  {
   "cell_type": "code",
   "execution_count": 34,
   "id": "proved-coaching",
   "metadata": {},
   "outputs": [],
   "source": [
    "CV = list(nx.connected_component_subgraphs(V))[0]\n",
    "islands=island_method(CV, 3)"
   ]
  },
  {
   "cell_type": "code",
   "execution_count": 35,
   "id": "decreased-leader",
   "metadata": {},
   "outputs": [
    {
     "name": "stdout",
     "output_type": "stream",
     "text": [
      "2 8 1\n",
      "7 6 1\n",
      "12 2 1\n",
      "17 2 1\n"
     ]
    }
   ],
   "source": [
    "for i in islands:\n",
    "    # print the threshold level, size of the graph, and number of connected components\n",
    "    print(i[0], len(i[1]), len(list(nx.connected_component_subgraphs(i[1]))))"
   ]
  },
  {
   "cell_type": "markdown",
   "id": "chronic-presence",
   "metadata": {},
   "source": [
    "The first island is the same as the weighted projection above.  We have chosen to skip it and move to level 2 and 3.  Some interesting differences between the islands and the cliques start to emerge.  "
   ]
  },
  {
   "cell_type": "code",
   "execution_count": 36,
   "id": "vocal-boring",
   "metadata": {},
   "outputs": [],
   "source": [
    "lvl1 = islands[0][1]\n",
    "lvl2 = islands[1][1]\n",
    "lvl3 = islands[2][1]"
   ]
  },
  {
   "cell_type": "code",
   "execution_count": 37,
   "id": "sudden-small",
   "metadata": {},
   "outputs": [
    {
     "data": {
      "text/html": [
       "\n",
       "        <iframe\n",
       "            width=\"1000px\"\n",
       "            height=\"1000px\"\n",
       "            src=\"C_island2.html\"\n",
       "            frameborder=\"0\"\n",
       "            allowfullscreen\n",
       "        ></iframe>\n",
       "        "
      ],
      "text/plain": [
       "<IPython.lib.display.IFrame at 0x7f90c6afcad0>"
      ]
     },
     "execution_count": 37,
     "metadata": {},
     "output_type": "execute_result"
    }
   ],
   "source": [
    "C = Network(height='1000px',\n",
    "            width='1000px',\n",
    "            bgcolor='#222222', \n",
    "            font_color='white', \n",
    "            notebook=True)\n",
    "\n",
    "C.barnes_hut()\n",
    "for n in lvl2.nodes():\n",
    "    C.add_node(n)\n",
    "for e in lvl2.edges():\n",
    "    C.add_edge(e[0], e[1])\n",
    "C.show('C_island2.html')"
   ]
  },
  {
   "cell_type": "code",
   "execution_count": 38,
   "id": "addressed-franchise",
   "metadata": {},
   "outputs": [
    {
     "data": {
      "text/html": [
       "<div>\n",
       "<style scoped>\n",
       "    .dataframe tbody tr th:only-of-type {\n",
       "        vertical-align: middle;\n",
       "    }\n",
       "\n",
       "    .dataframe tbody tr th {\n",
       "        vertical-align: top;\n",
       "    }\n",
       "\n",
       "    .dataframe thead th {\n",
       "        text-align: right;\n",
       "    }\n",
       "</style>\n",
       "<table border=\"1\" class=\"dataframe\">\n",
       "  <thead>\n",
       "    <tr style=\"text-align: right;\">\n",
       "      <th></th>\n",
       "      <th>0</th>\n",
       "      <th>1</th>\n",
       "      <th>2</th>\n",
       "      <th>3</th>\n",
       "      <th>4</th>\n",
       "      <th>5</th>\n",
       "      <th>6</th>\n",
       "    </tr>\n",
       "  </thead>\n",
       "  <tbody>\n",
       "    <tr>\n",
       "      <th>0</th>\n",
       "      <td>Turkey</td>\n",
       "      <td>Pakistan</td>\n",
       "      <td>Iraq</td>\n",
       "      <td>Jordan</td>\n",
       "      <td>Syria</td>\n",
       "      <td>Lebanon</td>\n",
       "      <td>Iran</td>\n",
       "    </tr>\n",
       "    <tr>\n",
       "      <th>1</th>\n",
       "      <td>Turkey</td>\n",
       "      <td>Pakistan</td>\n",
       "      <td>Iraq</td>\n",
       "      <td>Jordan</td>\n",
       "      <td>Syria</td>\n",
       "      <td>Lebanon</td>\n",
       "      <td>Afghanistan</td>\n",
       "    </tr>\n",
       "  </tbody>\n",
       "</table>\n",
       "</div>"
      ],
      "text/plain": [
       "        0         1     2       3      4        5            6\n",
       "0  Turkey  Pakistan  Iraq  Jordan  Syria  Lebanon         Iran\n",
       "1  Turkey  Pakistan  Iraq  Jordan  Syria  Lebanon  Afghanistan"
      ]
     },
     "execution_count": 38,
     "metadata": {},
     "output_type": "execute_result"
    }
   ],
   "source": [
    "eco = bipartite.weighted_projected_graph(G, country)\n",
    "eco2c =  trim_edges(eco, weight = 2)\n",
    "cliques = pd.DataFrame(nx.find_cliques(eco2c))\n",
    "cliques"
   ]
  },
  {
   "cell_type": "code",
   "execution_count": 39,
   "id": "requested-marsh",
   "metadata": {},
   "outputs": [
    {
     "name": "stdout",
     "output_type": "stream",
     "text": [
      "Name: \n",
      "Type: Graph\n",
      "Number of nodes: 8\n",
      "Number of edges: 27\n",
      "Average degree:   6.7500\n"
     ]
    }
   ],
   "source": [
    "print(nx.info(eco2c))"
   ]
  },
  {
   "cell_type": "markdown",
   "id": "spectacular-screw",
   "metadata": {},
   "source": [
    "Remember as stated earlier, cliques are a measure of cohesion between groups.  The strength of the cohesiveness is measured or adjusted by levels.  Here we have a clear example of a clique which does not follow the island.  Jordan is not part of the Level 2 island but still has a strong cohesion to tie to these countries. This is interesting that Jordan is a neighbor to almost all of major countries with active terror network, but manages to avoid the relative frequency of attacks. "
   ]
  },
  {
   "cell_type": "code",
   "execution_count": null,
   "id": "unable-liverpool",
   "metadata": {},
   "outputs": [],
   "source": [
    "C = Network(height='1000px',\n",
    "            width='1000px',\n",
    "            bgcolor='#222222', \n",
    "            font_color='white', \n",
    "            notebook=True)\n",
    "\n",
    "C.barnes_hut()\n",
    "for n in lvl3.nodes():\n",
    "    C.add_node(n)\n",
    "for e in lvl3.edges():\n",
    "    C.add_edge(e[0], e[1])\n",
    "C.show('island3.html')"
   ]
  },
  {
   "cell_type": "code",
   "execution_count": 41,
   "id": "ranging-scale",
   "metadata": {},
   "outputs": [
    {
     "data": {
      "text/html": [
       "<div>\n",
       "<style scoped>\n",
       "    .dataframe tbody tr th:only-of-type {\n",
       "        vertical-align: middle;\n",
       "    }\n",
       "\n",
       "    .dataframe tbody tr th {\n",
       "        vertical-align: top;\n",
       "    }\n",
       "\n",
       "    .dataframe thead th {\n",
       "        text-align: right;\n",
       "    }\n",
       "</style>\n",
       "<table border=\"1\" class=\"dataframe\">\n",
       "  <thead>\n",
       "    <tr style=\"text-align: right;\">\n",
       "      <th></th>\n",
       "      <th>0</th>\n",
       "      <th>1</th>\n",
       "      <th>2</th>\n",
       "      <th>3</th>\n",
       "      <th>4</th>\n",
       "      <th>5</th>\n",
       "    </tr>\n",
       "  </thead>\n",
       "  <tbody>\n",
       "    <tr>\n",
       "      <th>0</th>\n",
       "      <td>Turkey</td>\n",
       "      <td>Pakistan</td>\n",
       "      <td>Iraq</td>\n",
       "      <td>Lebanon</td>\n",
       "      <td>Afghanistan</td>\n",
       "      <td>None</td>\n",
       "    </tr>\n",
       "    <tr>\n",
       "      <th>1</th>\n",
       "      <td>Turkey</td>\n",
       "      <td>Pakistan</td>\n",
       "      <td>Iraq</td>\n",
       "      <td>Lebanon</td>\n",
       "      <td>Syria</td>\n",
       "      <td>Jordan</td>\n",
       "    </tr>\n",
       "    <tr>\n",
       "      <th>2</th>\n",
       "      <td>Turkey</td>\n",
       "      <td>Pakistan</td>\n",
       "      <td>Iraq</td>\n",
       "      <td>Lebanon</td>\n",
       "      <td>Syria</td>\n",
       "      <td>Iran</td>\n",
       "    </tr>\n",
       "  </tbody>\n",
       "</table>\n",
       "</div>"
      ],
      "text/plain": [
       "        0         1     2        3            4       5\n",
       "0  Turkey  Pakistan  Iraq  Lebanon  Afghanistan    None\n",
       "1  Turkey  Pakistan  Iraq  Lebanon        Syria  Jordan\n",
       "2  Turkey  Pakistan  Iraq  Lebanon        Syria    Iran"
      ]
     },
     "execution_count": 41,
     "metadata": {},
     "output_type": "execute_result"
    }
   ],
   "source": [
    "eco = bipartite.weighted_projected_graph(G, country)\n",
    "eco3c =  trim_edges(eco, weight = 3)\n",
    "cliques = pd.DataFrame(nx.find_cliques(eco3c))\n",
    "cliques"
   ]
  },
  {
   "cell_type": "markdown",
   "id": "olive-jungle",
   "metadata": {},
   "source": [
    "Finally, we can reach the conclusion, Afghanistan and Pakistan are the central countries of these terror groups.  "
   ]
  },
  {
   "cell_type": "markdown",
   "id": "vocational-intent",
   "metadata": {},
   "source": [
    "## Final thoughts"
   ]
  },
  {
   "cell_type": "markdown",
   "id": "manual-poverty",
   "metadata": {},
   "source": [
    "1) Neighbors Pakistan and Afghanistan are the strongest sources of terrorism. \n",
    "\n",
    "   - Afghanistan has been at war for 30 of the last 40 years, so this comes as no surprise.\n",
    "   - Pakistan has not shared the same fate as its neighbor but is still a strong source for terror by the same groups. One might infer that perhaps Pakistan is a bit more than complicit.\n",
    "    \n",
    "2) Jordan maintains stability\n",
    "\n",
    "   - For a small country (10MM) that borders Syria, Iraq, Saudi Arabia, Palestine, and Israel they are able to avoid the formation of connections in regard to terror.  \n",
    "    \n",
    "3) Lebanon \n",
    "\n",
    "   - This small country has a long standing terror group in Hezbollah that forges strong connections with our other countries through acts of terror. "
   ]
  },
  {
   "cell_type": "markdown",
   "id": "backed-thesis",
   "metadata": {},
   "source": [
    "### Video Submission"
   ]
  },
  {
   "cell_type": "markdown",
   "id": "raised-cambridge",
   "metadata": {},
   "source": [
    "[youtube](https://www.youtube.com/watch?v=WSUSleBMXXc)"
   ]
  },
  {
   "cell_type": "code",
   "execution_count": null,
   "id": "rotary-compromise",
   "metadata": {},
   "outputs": [],
   "source": []
  }
 ],
 "metadata": {
  "hide_input": false,
  "kernelspec": {
   "display_name": "Python 3",
   "language": "python",
   "name": "python3"
  },
  "language_info": {
   "codemirror_mode": {
    "name": "ipython",
    "version": 3
   },
   "file_extension": ".py",
   "mimetype": "text/x-python",
   "name": "python",
   "nbconvert_exporter": "python",
   "pygments_lexer": "ipython3",
   "version": "3.7.9"
  }
 },
 "nbformat": 4,
 "nbformat_minor": 5
}
