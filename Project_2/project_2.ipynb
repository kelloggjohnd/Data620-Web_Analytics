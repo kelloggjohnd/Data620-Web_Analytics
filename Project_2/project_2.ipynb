{
 "cells": [
  {
   "cell_type": "code",
   "execution_count": 1,
   "id": "bearing-grave",
   "metadata": {},
   "outputs": [],
   "source": [
    "import pandas as pd\n",
    "import numpy as np\n",
    "import networkx as nx\n",
    "import matplotlib.pyplot as plt\n",
    "import seaborn as sns\n",
    "from pyvis.network import Network\n",
    "import networkx.algorithms.bipartite as bipartite\n",
    "\n",
    "import warnings\n",
    "warnings.filterwarnings('ignore')"
   ]
  },
  {
   "cell_type": "code",
   "execution_count": 2,
   "id": "tracked-advice",
   "metadata": {},
   "outputs": [],
   "source": [
    "df=pd.read_csv('./global_terror_data_proj_1.csv')"
   ]
  },
  {
   "cell_type": "code",
   "execution_count": 12,
   "id": "metric-joshua",
   "metadata": {},
   "outputs": [],
   "source": [
    "def trim_edges(g, weight=1):\n",
    "        g2=nx.Graph()\n",
    "        for f, to, edata in g.edges(data=True):\n",
    "                if edata['weight'] > weight:\n",
    "                        g2.add_edge(f,to,edata)\n",
    "        return g2"
   ]
  },
  {
   "cell_type": "code",
   "execution_count": 13,
   "id": "underlying-police",
   "metadata": {},
   "outputs": [],
   "source": [
    "def island_method(g, iterations=5):\n",
    "    weights= [edata['weight'] for f,to,edata in g.edges(data=True)]\n",
    "\n",
    "    mn=int(min(weights))\n",
    "    mx=int(max(weights))\n",
    "    #compute the size of the step, so we get a reasonable step in iterations\n",
    "    step=int((mx-mn)/iterations)\n",
    "\n",
    "    return [[threshold, trim_edges(g, threshold)] for threshold in range(mn,mx,step)]"
   ]
  },
  {
   "cell_type": "code",
   "execution_count": 3,
   "id": "perceived-pressing",
   "metadata": {},
   "outputs": [],
   "source": [
    "ter_df = df[[\"country_txt\", \"gname\"]]\n",
    "G=nx.from_pandas_dataframe(ter_df, \"country_txt\", \"gname\")"
   ]
  },
  {
   "cell_type": "code",
   "execution_count": 4,
   "id": "hearing-outline",
   "metadata": {},
   "outputs": [
    {
     "name": "stdout",
     "output_type": "stream",
     "text": [
      "Name: \n",
      "Type: Graph\n",
      "Number of nodes: 3046\n",
      "Number of edges: 4249\n",
      "Average degree:   2.7899\n"
     ]
    }
   ],
   "source": [
    "print (nx.info(G))"
   ]
  },
  {
   "cell_type": "code",
   "execution_count": 5,
   "id": "juvenile-herald",
   "metadata": {},
   "outputs": [
    {
     "data": {
      "text/html": [
       "<div>\n",
       "<style scoped>\n",
       "    .dataframe tbody tr th:only-of-type {\n",
       "        vertical-align: middle;\n",
       "    }\n",
       "\n",
       "    .dataframe tbody tr th {\n",
       "        vertical-align: top;\n",
       "    }\n",
       "\n",
       "    .dataframe thead th {\n",
       "        text-align: right;\n",
       "    }\n",
       "</style>\n",
       "<table border=\"1\" class=\"dataframe\">\n",
       "  <thead>\n",
       "    <tr style=\"text-align: right;\">\n",
       "      <th></th>\n",
       "      <th>country_txt</th>\n",
       "      <th>gname</th>\n",
       "    </tr>\n",
       "  </thead>\n",
       "  <tbody>\n",
       "    <tr>\n",
       "      <th>59</th>\n",
       "      <td>Lebanon</td>\n",
       "      <td>Relatives of terrorist</td>\n",
       "    </tr>\n",
       "    <tr>\n",
       "      <th>60</th>\n",
       "      <td>Lebanon</td>\n",
       "      <td>Unknown</td>\n",
       "    </tr>\n",
       "    <tr>\n",
       "      <th>71</th>\n",
       "      <td>Lebanon</td>\n",
       "      <td>Unknown</td>\n",
       "    </tr>\n",
       "    <tr>\n",
       "      <th>79</th>\n",
       "      <td>Lebanon</td>\n",
       "      <td>Unknown</td>\n",
       "    </tr>\n",
       "    <tr>\n",
       "      <th>80</th>\n",
       "      <td>Lebanon</td>\n",
       "      <td>Unknown</td>\n",
       "    </tr>\n",
       "  </tbody>\n",
       "</table>\n",
       "</div>"
      ],
      "text/plain": [
       "   country_txt                   gname\n",
       "59     Lebanon  Relatives of terrorist\n",
       "60     Lebanon                 Unknown\n",
       "71     Lebanon                 Unknown\n",
       "79     Lebanon                 Unknown\n",
       "80     Lebanon                 Unknown"
      ]
     },
     "execution_count": 5,
     "metadata": {},
     "output_type": "execute_result"
    }
   ],
   "source": [
    "me_list = [\"Syria\", \"Turkey\", \"Iraq\",\"Jordan\", \n",
    "           \"Pakistan\", \"Afghanistan\",\"Iran\", \"Lebanon\"]\n",
    "ter_df =  ter_df[ter_df.country_txt.isin(me_list)]\n",
    "G=nx.from_pandas_dataframe(ter_df,\n",
    "                               \"country_txt\", \n",
    "                               \"gname\")\n",
    "ter_df.head()"
   ]
  },
  {
   "cell_type": "code",
   "execution_count": 6,
   "id": "physical-brunei",
   "metadata": {},
   "outputs": [],
   "source": [
    "orgs = [node for node in G.nodes() if node in ter_df.gname.unique()]"
   ]
  },
  {
   "cell_type": "code",
   "execution_count": 7,
   "id": "distant-kelly",
   "metadata": {},
   "outputs": [],
   "source": [
    "W = bipartite.weighted_projected_graph(G, orgs)"
   ]
  },
  {
   "cell_type": "code",
   "execution_count": 8,
   "id": "conventional-occurrence",
   "metadata": {
    "scrolled": true
   },
   "outputs": [
    {
     "data": {
      "text/html": [
       "\n",
       "        <iframe\n",
       "            width=\"1000px\"\n",
       "            height=\"1000px\"\n",
       "            src=\"network_2.html\"\n",
       "            frameborder=\"0\"\n",
       "            allowfullscreen\n",
       "        ></iframe>\n",
       "        "
      ],
      "text/plain": [
       "<IPython.lib.display.IFrame at 0x21288dfe748>"
      ]
     },
     "execution_count": 8,
     "metadata": {},
     "output_type": "execute_result"
    }
   ],
   "source": [
    "C = Network(height='1000px',\n",
    "            width='1000px',\n",
    "            bgcolor='#222222', \n",
    "            font_color='white', \n",
    "            notebook=True)\n",
    "\n",
    "C.barnes_hut()\n",
    "for n in W.nodes():\n",
    "    C.add_node(n)\n",
    "for e in W.edges():\n",
    "    C.add_edge(e[0], e[1])\n",
    "C.show('network_2.html')"
   ]
  },
  {
   "cell_type": "code",
   "execution_count": 14,
   "id": "adult-sheet",
   "metadata": {},
   "outputs": [],
   "source": [
    "CC = list(nx.connected_component_subgraphs(W))[0]"
   ]
  },
  {
   "cell_type": "code",
   "execution_count": 15,
   "id": "collect-merchandise",
   "metadata": {},
   "outputs": [],
   "source": [
    "islands=island_method(CC)"
   ]
  },
  {
   "cell_type": "code",
   "execution_count": 17,
   "id": "radio-deposit",
   "metadata": {},
   "outputs": [
    {
     "name": "stdout",
     "output_type": "stream",
     "text": [
      "1 53 1\n",
      "2 18 1\n",
      "3 9 1\n",
      "4 5 1\n",
      "5 5 1\n",
      "6 2 1\n",
      "7 2 1\n"
     ]
    }
   ],
   "source": [
    "for i in islands:\n",
    "    # print the threshold level, size of the graph, and number of connected components\n",
    "    print(i[0], len(i[1]), len(list(nx.connected_component_subgraphs(i[1]))))"
   ]
  },
  {
   "cell_type": "code",
   "execution_count": 19,
   "id": "suspected-marine",
   "metadata": {},
   "outputs": [],
   "source": [
    "lvl1 = islands[0][1]\n",
    "lvl2 = islands[1][1]\n",
    "lvl3 = islands[2][1]\n",
    "lvl4 = islands[3][1]\n",
    "lvl5 = islands[4][1]\n",
    "lvl6 = islands[5][1]\n",
    "lvl7 = islands[6][1]"
   ]
  },
  {
   "cell_type": "code",
   "execution_count": 21,
   "id": "integrated-narrow",
   "metadata": {},
   "outputs": [
    {
     "data": {
      "text/html": [
       "\n",
       "        <iframe\n",
       "            width=\"1000px\"\n",
       "            height=\"1000px\"\n",
       "            src=\"network_3.html\"\n",
       "            frameborder=\"0\"\n",
       "            allowfullscreen\n",
       "        ></iframe>\n",
       "        "
      ],
      "text/plain": [
       "<IPython.lib.display.IFrame at 0x212842be808>"
      ]
     },
     "execution_count": 21,
     "metadata": {},
     "output_type": "execute_result"
    }
   ],
   "source": [
    "C = Network(height='1000px',\n",
    "            width='1000px',\n",
    "            bgcolor='#222222', \n",
    "            font_color='white', \n",
    "            notebook=True)\n",
    "\n",
    "C.barnes_hut()\n",
    "for n in lvl1.nodes():\n",
    "    C.add_node(n)\n",
    "for e in lvl1.edges():\n",
    "    C.add_edge(e[0], e[1])\n",
    "C.show('island1.html')"
   ]
  },
  {
   "cell_type": "code",
   "execution_count": 22,
   "id": "floppy-excerpt",
   "metadata": {},
   "outputs": [
    {
     "data": {
      "text/html": [
       "\n",
       "        <iframe\n",
       "            width=\"1000px\"\n",
       "            height=\"1000px\"\n",
       "            src=\"island2.html\"\n",
       "            frameborder=\"0\"\n",
       "            allowfullscreen\n",
       "        ></iframe>\n",
       "        "
      ],
      "text/plain": [
       "<IPython.lib.display.IFrame at 0x21284197308>"
      ]
     },
     "execution_count": 22,
     "metadata": {},
     "output_type": "execute_result"
    }
   ],
   "source": [
    "C = Network(height='1000px',\n",
    "            width='1000px',\n",
    "            bgcolor='#222222', \n",
    "            font_color='white', \n",
    "            notebook=True)\n",
    "\n",
    "C.barnes_hut()\n",
    "for n in lvl2.nodes():\n",
    "    C.add_node(n)\n",
    "for e in lvl2.edges():\n",
    "    C.add_edge(e[0], e[1])\n",
    "C.show('island2.html')"
   ]
  },
  {
   "cell_type": "code",
   "execution_count": 23,
   "id": "fifth-person",
   "metadata": {},
   "outputs": [
    {
     "data": {
      "text/html": [
       "\n",
       "        <iframe\n",
       "            width=\"1000px\"\n",
       "            height=\"1000px\"\n",
       "            src=\"island3.html\"\n",
       "            frameborder=\"0\"\n",
       "            allowfullscreen\n",
       "        ></iframe>\n",
       "        "
      ],
      "text/plain": [
       "<IPython.lib.display.IFrame at 0x212ff954788>"
      ]
     },
     "execution_count": 23,
     "metadata": {},
     "output_type": "execute_result"
    }
   ],
   "source": [
    "C = Network(height='1000px',\n",
    "            width='1000px',\n",
    "            bgcolor='#222222', \n",
    "            font_color='white', \n",
    "            notebook=True)\n",
    "\n",
    "C.barnes_hut()\n",
    "for n in lvl3.nodes():\n",
    "    C.add_node(n)\n",
    "for e in lvl3.edges():\n",
    "    C.add_edge(e[0], e[1])\n",
    "C.show('island3.html')"
   ]
  },
  {
   "cell_type": "code",
   "execution_count": 24,
   "id": "found-district",
   "metadata": {},
   "outputs": [
    {
     "data": {
      "text/html": [
       "\n",
       "        <iframe\n",
       "            width=\"1000px\"\n",
       "            height=\"1000px\"\n",
       "            src=\"island4.html\"\n",
       "            frameborder=\"0\"\n",
       "            allowfullscreen\n",
       "        ></iframe>\n",
       "        "
      ],
      "text/plain": [
       "<IPython.lib.display.IFrame at 0x21284241108>"
      ]
     },
     "execution_count": 24,
     "metadata": {},
     "output_type": "execute_result"
    }
   ],
   "source": [
    "C = Network(height='1000px',\n",
    "            width='1000px',\n",
    "            bgcolor='#222222', \n",
    "            font_color='white', \n",
    "            notebook=True)\n",
    "\n",
    "C.barnes_hut()\n",
    "for n in lvl4.nodes():\n",
    "    C.add_node(n)\n",
    "for e in lvl4.edges():\n",
    "    C.add_edge(e[0], e[1])\n",
    "C.show('island4.html')"
   ]
  },
  {
   "cell_type": "code",
   "execution_count": 25,
   "id": "comfortable-civilian",
   "metadata": {},
   "outputs": [
    {
     "data": {
      "text/html": [
       "\n",
       "        <iframe\n",
       "            width=\"1000px\"\n",
       "            height=\"1000px\"\n",
       "            src=\"island5.html\"\n",
       "            frameborder=\"0\"\n",
       "            allowfullscreen\n",
       "        ></iframe>\n",
       "        "
      ],
      "text/plain": [
       "<IPython.lib.display.IFrame at 0x212ff956748>"
      ]
     },
     "execution_count": 25,
     "metadata": {},
     "output_type": "execute_result"
    }
   ],
   "source": [
    "C = Network(height='1000px',\n",
    "            width='1000px',\n",
    "            bgcolor='#222222', \n",
    "            font_color='white', \n",
    "            notebook=True)\n",
    "\n",
    "C.barnes_hut()\n",
    "for n in lvl5.nodes():\n",
    "    C.add_node(n)\n",
    "for e in lvl5.edges():\n",
    "    C.add_edge(e[0], e[1])\n",
    "C.show('island5.html')"
   ]
  },
  {
   "cell_type": "code",
   "execution_count": 26,
   "id": "nearby-crisis",
   "metadata": {},
   "outputs": [
    {
     "data": {
      "text/html": [
       "\n",
       "        <iframe\n",
       "            width=\"1000px\"\n",
       "            height=\"1000px\"\n",
       "            src=\"island6.html\"\n",
       "            frameborder=\"0\"\n",
       "            allowfullscreen\n",
       "        ></iframe>\n",
       "        "
      ],
      "text/plain": [
       "<IPython.lib.display.IFrame at 0x212842c61c8>"
      ]
     },
     "execution_count": 26,
     "metadata": {},
     "output_type": "execute_result"
    }
   ],
   "source": [
    "C = Network(height='1000px',\n",
    "            width='1000px',\n",
    "            bgcolor='#222222', \n",
    "            font_color='white', \n",
    "            notebook=True)\n",
    "\n",
    "C.barnes_hut()\n",
    "for n in lvl6.nodes():\n",
    "    C.add_node(n)\n",
    "for e in lvl6.edges():\n",
    "    C.add_edge(e[0], e[1])\n",
    "C.show('island6.html')"
   ]
  },
  {
   "cell_type": "code",
   "execution_count": 27,
   "id": "generic-michael",
   "metadata": {},
   "outputs": [
    {
     "data": {
      "text/html": [
       "\n",
       "        <iframe\n",
       "            width=\"1000px\"\n",
       "            height=\"1000px\"\n",
       "            src=\"island7.html\"\n",
       "            frameborder=\"0\"\n",
       "            allowfullscreen\n",
       "        ></iframe>\n",
       "        "
      ],
      "text/plain": [
       "<IPython.lib.display.IFrame at 0x212842c6888>"
      ]
     },
     "execution_count": 27,
     "metadata": {},
     "output_type": "execute_result"
    }
   ],
   "source": [
    "C = Network(height='1000px',\n",
    "            width='1000px',\n",
    "            bgcolor='#222222', \n",
    "            font_color='white', \n",
    "            notebook=True)\n",
    "\n",
    "C.barnes_hut()\n",
    "for n in lvl7.nodes():\n",
    "    C.add_node(n)\n",
    "for e in lvl7.edges():\n",
    "    C.add_edge(e[0], e[1])\n",
    "C.show('island7.html')"
   ]
  },
  {
   "cell_type": "code",
   "execution_count": null,
   "id": "similar-bahamas",
   "metadata": {},
   "outputs": [],
   "source": []
  },
  {
   "cell_type": "code",
   "execution_count": null,
   "id": "graduate-tucson",
   "metadata": {},
   "outputs": [],
   "source": []
  },
  {
   "cell_type": "code",
   "execution_count": null,
   "id": "historic-requirement",
   "metadata": {},
   "outputs": [],
   "source": []
  }
 ],
 "metadata": {
  "kernelspec": {
   "display_name": "Python 3",
   "language": "python",
   "name": "python3"
  },
  "language_info": {
   "codemirror_mode": {
    "name": "ipython",
    "version": 3
   },
   "file_extension": ".py",
   "mimetype": "text/x-python",
   "name": "python",
   "nbconvert_exporter": "python",
   "pygments_lexer": "ipython3",
   "version": "3.7.9"
  }
 },
 "nbformat": 4,
 "nbformat_minor": 5
}
