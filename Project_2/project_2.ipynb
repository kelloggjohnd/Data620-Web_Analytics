{
 "cells": [
  {
   "cell_type": "markdown",
   "id": "limiting-bailey",
   "metadata": {},
   "source": [
    "# Project Two - Global Terrorism Data\n",
    "---\n",
    "Jeff Shamp, John Kellogg, Grace Han - CUNY MSDS 620 - Spring 2021"
   ]
  },
  {
   "cell_type": "markdown",
   "id": "cognitive-instruction",
   "metadata": {},
   "source": [
    "## Purpose\n",
    "\n",
    "In this project, we were asked to:\n",
    "\n",
    "- Identify a large 2-node network dataset—you can start with a dataset in a repository.  \n",
    " - Your data should meet the criteria that it consists of ties between and not within two (or more) distinct groups.\n",
    "- Reduce the size of the network using a method such as the island method described in chapter 4 of social network analysis.\n",
    "- What can you infer about each of the distinct groups?\n",
    "\n",
    "We choose to use the same data from our project 1, data from Global Terrorism Database (GTD)."
   ]
  },
  {
   "cell_type": "markdown",
   "id": "brutal-oklahoma",
   "metadata": {},
   "source": [
    "## Data\n",
    "\n",
    "The data is from Global Terrorism Database (GTD) at the University of Maryland. More information about the database, please visit the UMD GTD Site.\n",
    "\n",
    "The GTD “is an open-source database including information on domestic and international terrorist attacks around the world from 1970 through 2019, and now includes more than 200,000 cases”. For each event, the team gather as much data as possible to include:\n",
    "\n",
    "Date and location of the incident\n",
    "The weapons used and nature of the target\n",
    "The number of casualties\n",
    "When identifiable – the group or individual responsible\n",
    "We will subset this database to only the necessary columns for this project as well as subset the start year to 1985 to make the data set more manageable."
   ]
  },
  {
   "cell_type": "code",
   "execution_count": 1,
   "id": "bearing-grave",
   "metadata": {},
   "outputs": [],
   "source": [
    "import pandas as pd\n",
    "import numpy as np\n",
    "import networkx as nx\n",
    "import matplotlib.pyplot as plt\n",
    "import seaborn as sns\n",
    "from pyvis.network import Network\n",
    "import networkx.algorithms.bipartite as bipartite\n",
    "\n",
    "import warnings\n",
    "warnings.filterwarnings('ignore')"
   ]
  },
  {
   "cell_type": "code",
   "execution_count": 2,
   "id": "tracked-advice",
   "metadata": {},
   "outputs": [],
   "source": [
    "df=pd.read_csv('./global_terror_data_proj_1.csv')"
   ]
  },
  {
   "cell_type": "code",
   "execution_count": 3,
   "id": "civilian-studio",
   "metadata": {},
   "outputs": [],
   "source": [
    "# def from text book\n",
    "def trim_edges(g, weight=1):\n",
    "        g2=nx.Graph()\n",
    "        for f, to, edata in g.edges(data=True):\n",
    "                if edata['weight'] > weight:\n",
    "                        g2.add_edge(f,to,edata)\n",
    "        return g2"
   ]
  },
  {
   "cell_type": "code",
   "execution_count": 4,
   "id": "thrown-penny",
   "metadata": {},
   "outputs": [],
   "source": [
    "# def from text book\n",
    "def island_method(g, iterations=5):\n",
    "    weights= [edata['weight'] for f,to,edata in g.edges(data=True)]\n",
    "\n",
    "    mn=int(min(weights))\n",
    "    mx=int(max(weights))\n",
    "    #compute the size of the step, so we get a reasonable step in iterations\n",
    "    step=int((mx-mn)/iterations)\n",
    "\n",
    "    return [[threshold, trim_edges(g, threshold)] for threshold in range(mn,mx,step)]"
   ]
  },
  {
   "cell_type": "code",
   "execution_count": 5,
   "id": "perceived-pressing",
   "metadata": {},
   "outputs": [],
   "source": [
    "# Separating the nodes\n",
    "ter_df = df[[\"country_txt\", \"gname\"]]\n",
    "G=nx.from_pandas_dataframe(ter_df, \"country_txt\", \"gname\")"
   ]
  },
  {
   "cell_type": "code",
   "execution_count": 6,
   "id": "hearing-outline",
   "metadata": {},
   "outputs": [
    {
     "name": "stdout",
     "output_type": "stream",
     "text": [
      "Name: \n",
      "Type: Graph\n",
      "Number of nodes: 3046\n",
      "Number of edges: 4249\n",
      "Average degree:   2.7899\n"
     ]
    }
   ],
   "source": [
    "print (nx.info(G))"
   ]
  },
  {
   "cell_type": "markdown",
   "id": "automated-swiss",
   "metadata": {},
   "source": [
    "The data has enough nodes and edges to continue for this project.  From previous work, we already know the data can easily be broken into 2 separate nodes for analysis."
   ]
  },
  {
   "cell_type": "code",
   "execution_count": 7,
   "id": "juvenile-herald",
   "metadata": {},
   "outputs": [
    {
     "data": {
      "text/html": [
       "<div>\n",
       "<style scoped>\n",
       "    .dataframe tbody tr th:only-of-type {\n",
       "        vertical-align: middle;\n",
       "    }\n",
       "\n",
       "    .dataframe tbody tr th {\n",
       "        vertical-align: top;\n",
       "    }\n",
       "\n",
       "    .dataframe thead th {\n",
       "        text-align: right;\n",
       "    }\n",
       "</style>\n",
       "<table border=\"1\" class=\"dataframe\">\n",
       "  <thead>\n",
       "    <tr style=\"text-align: right;\">\n",
       "      <th></th>\n",
       "      <th>country_txt</th>\n",
       "      <th>gname</th>\n",
       "    </tr>\n",
       "  </thead>\n",
       "  <tbody>\n",
       "    <tr>\n",
       "      <th>59</th>\n",
       "      <td>Lebanon</td>\n",
       "      <td>Relatives of terrorist</td>\n",
       "    </tr>\n",
       "    <tr>\n",
       "      <th>60</th>\n",
       "      <td>Lebanon</td>\n",
       "      <td>Unknown</td>\n",
       "    </tr>\n",
       "    <tr>\n",
       "      <th>71</th>\n",
       "      <td>Lebanon</td>\n",
       "      <td>Unknown</td>\n",
       "    </tr>\n",
       "    <tr>\n",
       "      <th>79</th>\n",
       "      <td>Lebanon</td>\n",
       "      <td>Unknown</td>\n",
       "    </tr>\n",
       "    <tr>\n",
       "      <th>80</th>\n",
       "      <td>Lebanon</td>\n",
       "      <td>Unknown</td>\n",
       "    </tr>\n",
       "  </tbody>\n",
       "</table>\n",
       "</div>"
      ],
      "text/plain": [
       "   country_txt                   gname\n",
       "59     Lebanon  Relatives of terrorist\n",
       "60     Lebanon                 Unknown\n",
       "71     Lebanon                 Unknown\n",
       "79     Lebanon                 Unknown\n",
       "80     Lebanon                 Unknown"
      ]
     },
     "execution_count": 7,
     "metadata": {},
     "output_type": "execute_result"
    }
   ],
   "source": [
    "#condencing the data down to United States involvement as in Project 1\n",
    "me_list = [\"Syria\", \"Turkey\", \"Iraq\",\"Jordan\", \n",
    "           \"Pakistan\", \"Afghanistan\",\"Iran\", \"Lebanon\"]\n",
    "ter_df =  ter_df[ter_df.country_txt.isin(me_list)]\n",
    "G=nx.from_pandas_dataframe(ter_df,\n",
    "                               \"country_txt\", \n",
    "                               \"gname\")\n",
    "ter_df.head()"
   ]
  },
  {
   "cell_type": "code",
   "execution_count": 8,
   "id": "physical-brunei",
   "metadata": {},
   "outputs": [],
   "source": [
    "orgs = [node for node in G.nodes() if node in ter_df.gname.unique()]"
   ]
  },
  {
   "cell_type": "code",
   "execution_count": 9,
   "id": "distant-kelly",
   "metadata": {},
   "outputs": [],
   "source": [
    "W = bipartite.weighted_projected_graph(G, orgs)"
   ]
  },
  {
   "cell_type": "code",
   "execution_count": 10,
   "id": "conventional-occurrence",
   "metadata": {},
   "outputs": [
    {
     "data": {
      "text/html": [
       "\n",
       "        <iframe\n",
       "            width=\"1000px\"\n",
       "            height=\"1000px\"\n",
       "            src=\"network_2.html\"\n",
       "            frameborder=\"0\"\n",
       "            allowfullscreen\n",
       "        ></iframe>\n",
       "        "
      ],
      "text/plain": [
       "<IPython.lib.display.IFrame at 0x1ca82a7a308>"
      ]
     },
     "execution_count": 10,
     "metadata": {},
     "output_type": "execute_result"
    }
   ],
   "source": [
    "C = Network(height='1000px',\n",
    "            width='1000px',\n",
    "            bgcolor='#222222', \n",
    "            font_color='white', \n",
    "            notebook=True)\n",
    "\n",
    "C.barnes_hut()\n",
    "for n in W.nodes():\n",
    "    C.add_node(n)\n",
    "for e in W.edges():\n",
    "    C.add_edge(e[0], e[1])\n",
    "C.show('network_2.html')"
   ]
  },
  {
   "cell_type": "markdown",
   "id": "champion-passion",
   "metadata": {},
   "source": [
    "## Islands"
   ]
  },
  {
   "cell_type": "markdown",
   "id": "inclusive-measurement",
   "metadata": {},
   "source": [
    "Its difficult to make sense of the data as a whole.  We can gleam insights into the general structure, however, deep analysis would take too much time; we could easily miss key features.  To break down the data further, we will employ both the Islands and cliques methods simultaneously.\n",
    "\n",
    "The island method uses a system of weights to drop off the lowest values. It allows us to take a graph, like the one above, and systematically \"raise the water level\" (apply weights) to leave only the strongest amount of activity; leaving them to become their own components.  \n",
    "\n",
    "Cliques identifies a cohesive group of points; tightly connected to each other and not as connected to other points outside the group. Basically, each point is directly connected to the other points in the group and no other point or node can be added without lessening the connection.  "
   ]
  },
  {
   "cell_type": "code",
   "execution_count": 11,
   "id": "adult-sheet",
   "metadata": {},
   "outputs": [],
   "source": [
    "# generating the data\n",
    "CC = list(nx.connected_component_subgraphs(W))[0]\n",
    "islands=island_method(CC)"
   ]
  },
  {
   "cell_type": "code",
   "execution_count": 12,
   "id": "sized-looking",
   "metadata": {},
   "outputs": [
    {
     "name": "stdout",
     "output_type": "stream",
     "text": [
      "1 53 1\n",
      "2 18 1\n",
      "3 9 1\n",
      "4 5 1\n",
      "5 5 1\n",
      "6 2 1\n",
      "7 2 1\n"
     ]
    }
   ],
   "source": [
    "for i in islands:\n",
    "    # print the threshold level, size of the graph, and number of connected components\n",
    "    print(i[0], len(i[1]), len(list(nx.connected_component_subgraphs(i[1]))))"
   ]
  },
  {
   "cell_type": "markdown",
   "id": "metallic-operation",
   "metadata": {},
   "source": [
    "From the numbers above, we can deduce there will be at least 6 \"levels\" of useful data to analyze, the last two levels (6&7 are basically the same numerically).  While the first level will still have a large number of nodes (53), we can start looking at the nodes which DO NOT have strong connections.  Some times looking at the negative is as useful as looking at the positive.  "
   ]
  },
  {
   "cell_type": "code",
   "execution_count": 13,
   "id": "ongoing-journalist",
   "metadata": {},
   "outputs": [],
   "source": [
    "# Breaking the islands into seperate dataframes\n",
    "lvl1 = islands[0][1]\n",
    "lvl2 = islands[1][1]\n",
    "lvl3 = islands[2][1]\n",
    "lvl4 = islands[3][1]\n",
    "lvl5 = islands[4][1]\n",
    "lvl6 = islands[5][1]\n",
    "lvl7 = islands[6][1]"
   ]
  },
  {
   "cell_type": "code",
   "execution_count": 14,
   "id": "skilled-information",
   "metadata": {},
   "outputs": [
    {
     "data": {
      "text/html": [
       "\n",
       "        <iframe\n",
       "            width=\"1000px\"\n",
       "            height=\"1000px\"\n",
       "            src=\"island1.html\"\n",
       "            frameborder=\"0\"\n",
       "            allowfullscreen\n",
       "        ></iframe>\n",
       "        "
      ],
      "text/plain": [
       "<IPython.lib.display.IFrame at 0x1ca80b6c808>"
      ]
     },
     "execution_count": 14,
     "metadata": {},
     "output_type": "execute_result"
    }
   ],
   "source": [
    "C = Network(height='1000px',\n",
    "            width='1000px',\n",
    "            bgcolor='#222222', \n",
    "            font_color='white', \n",
    "            notebook=True)\n",
    "\n",
    "C.barnes_hut()\n",
    "for n in lvl1.nodes():\n",
    "    C.add_node(n)\n",
    "for e in lvl1.edges():\n",
    "    C.add_edge(e[0], e[1])\n",
    "C.show('island1.html')"
   ]
  },
  {
   "cell_type": "code",
   "execution_count": 15,
   "id": "engaging-survivor",
   "metadata": {},
   "outputs": [
    {
     "data": {
      "text/html": [
       "<div>\n",
       "<style scoped>\n",
       "    .dataframe tbody tr th:only-of-type {\n",
       "        vertical-align: middle;\n",
       "    }\n",
       "\n",
       "    .dataframe tbody tr th {\n",
       "        vertical-align: top;\n",
       "    }\n",
       "\n",
       "    .dataframe thead th {\n",
       "        text-align: right;\n",
       "    }\n",
       "</style>\n",
       "<table border=\"1\" class=\"dataframe\">\n",
       "  <thead>\n",
       "    <tr style=\"text-align: right;\">\n",
       "      <th></th>\n",
       "      <th>0</th>\n",
       "      <th>1</th>\n",
       "      <th>2</th>\n",
       "      <th>3</th>\n",
       "      <th>4</th>\n",
       "      <th>5</th>\n",
       "      <th>6</th>\n",
       "      <th>7</th>\n",
       "      <th>8</th>\n",
       "      <th>9</th>\n",
       "    </tr>\n",
       "  </thead>\n",
       "  <tbody>\n",
       "    <tr>\n",
       "      <th>0</th>\n",
       "      <td>Muslim extremists</td>\n",
       "      <td>Unknown</td>\n",
       "      <td>Southern Front</td>\n",
       "      <td>ISIS network:  Islamic State of Iraq and the L...</td>\n",
       "      <td>Al-Qaida network:  Al-Qaida in Iraq</td>\n",
       "      <td>None</td>\n",
       "      <td>None</td>\n",
       "      <td>None</td>\n",
       "      <td>None</td>\n",
       "      <td>None</td>\n",
       "    </tr>\n",
       "    <tr>\n",
       "      <th>1</th>\n",
       "      <td>Muslim extremists</td>\n",
       "      <td>Unknown</td>\n",
       "      <td>Sipah-e-Sahaba/Pakistan (SSP)</td>\n",
       "      <td>Baloch Nationalists</td>\n",
       "      <td>Muslims</td>\n",
       "      <td>Sikh Extremists</td>\n",
       "      <td>None</td>\n",
       "      <td>None</td>\n",
       "      <td>None</td>\n",
       "      <td>None</td>\n",
       "    </tr>\n",
       "    <tr>\n",
       "      <th>2</th>\n",
       "      <td>Muslim extremists</td>\n",
       "      <td>Unknown</td>\n",
       "      <td>Mujahedin-e Khalq (MEK)</td>\n",
       "      <td>Kurdistan Workers' Party (PKK)</td>\n",
       "      <td>ISIS network:  Islamic State of Iraq and the L...</td>\n",
       "      <td>None</td>\n",
       "      <td>None</td>\n",
       "      <td>None</td>\n",
       "      <td>None</td>\n",
       "      <td>None</td>\n",
       "    </tr>\n",
       "    <tr>\n",
       "      <th>3</th>\n",
       "      <td>Muslim extremists</td>\n",
       "      <td>Unknown</td>\n",
       "      <td>Gunmen</td>\n",
       "      <td>Islamist extremists</td>\n",
       "      <td>Al-Nusrah Front</td>\n",
       "      <td>ISIS network:  Islamic State of Iraq and the L...</td>\n",
       "      <td>Shia Muslim extremists</td>\n",
       "      <td>Kurdistan Workers' Party (PKK)</td>\n",
       "      <td>Kurdish extremists</td>\n",
       "      <td>Hezbollah</td>\n",
       "    </tr>\n",
       "    <tr>\n",
       "      <th>4</th>\n",
       "      <td>Muslim extremists</td>\n",
       "      <td>Unknown</td>\n",
       "      <td>Gunmen</td>\n",
       "      <td>Islamist extremists</td>\n",
       "      <td>Al-Nusrah Front</td>\n",
       "      <td>ISIS network:  Islamic State of Iraq and the L...</td>\n",
       "      <td>Shia Muslim extremists</td>\n",
       "      <td>Kurdistan Workers' Party (PKK)</td>\n",
       "      <td>Kurdish extremists</td>\n",
       "      <td>Al-Qaida network:  Al-Qaida in Iraq</td>\n",
       "    </tr>\n",
       "    <tr>\n",
       "      <th>5</th>\n",
       "      <td>Muslim extremists</td>\n",
       "      <td>Unknown</td>\n",
       "      <td>Gunmen</td>\n",
       "      <td>Islamist extremists</td>\n",
       "      <td>Al-Nusrah Front</td>\n",
       "      <td>ISIS network:  Islamic State of Iraq and the L...</td>\n",
       "      <td>Shia Muslim extremists</td>\n",
       "      <td>Abu Nidal Organization (ANO)</td>\n",
       "      <td>None</td>\n",
       "      <td>None</td>\n",
       "    </tr>\n",
       "    <tr>\n",
       "      <th>6</th>\n",
       "      <td>Muslim extremists</td>\n",
       "      <td>Unknown</td>\n",
       "      <td>Gunmen</td>\n",
       "      <td>Islamist extremists</td>\n",
       "      <td>Kurdistan Workers' Party (PKK)</td>\n",
       "      <td>ISIS network:  Islamic State of Iraq and the L...</td>\n",
       "      <td>Kurdish extremists</td>\n",
       "      <td>Kurds</td>\n",
       "      <td>Separatists</td>\n",
       "      <td>Patriotic Union of Kurdistan (PUK)</td>\n",
       "    </tr>\n",
       "    <tr>\n",
       "      <th>7</th>\n",
       "      <td>Muslim extremists</td>\n",
       "      <td>Unknown</td>\n",
       "      <td>Gunmen</td>\n",
       "      <td>Islamist extremists</td>\n",
       "      <td>Kurdistan Workers' Party (PKK)</td>\n",
       "      <td>ISIS network:  Islamic State of Iraq and the L...</td>\n",
       "      <td>Kurdish extremists</td>\n",
       "      <td>Separatists</td>\n",
       "      <td>Shia Muslim extremists</td>\n",
       "      <td>None</td>\n",
       "    </tr>\n",
       "    <tr>\n",
       "      <th>8</th>\n",
       "      <td>Muslim extremists</td>\n",
       "      <td>Unknown</td>\n",
       "      <td>Gunmen</td>\n",
       "      <td>Islamist extremists</td>\n",
       "      <td>Sunni Muslim extremists</td>\n",
       "      <td>Tribesmen</td>\n",
       "      <td>Shia Muslim extremists</td>\n",
       "      <td>Militants</td>\n",
       "      <td>Separatists</td>\n",
       "      <td>Abu Nidal Organization (ANO)</td>\n",
       "    </tr>\n",
       "    <tr>\n",
       "      <th>9</th>\n",
       "      <td>Muslim extremists</td>\n",
       "      <td>Unknown</td>\n",
       "      <td>Gunmen</td>\n",
       "      <td>Islamist extremists</td>\n",
       "      <td>Muslim Militants</td>\n",
       "      <td>Soldiers of Truth</td>\n",
       "      <td>Shia Muslim extremists</td>\n",
       "      <td>Muslim Fundamentalists</td>\n",
       "      <td>Abu Nidal Organization (ANO)</td>\n",
       "      <td>Abdullah Azzam Brigades</td>\n",
       "    </tr>\n",
       "    <tr>\n",
       "      <th>10</th>\n",
       "      <td>Muslim extremists</td>\n",
       "      <td>Unknown</td>\n",
       "      <td>Gunmen</td>\n",
       "      <td>Islamist extremists</td>\n",
       "      <td>Muslim Militants</td>\n",
       "      <td>Abdullah Azzam Brigades</td>\n",
       "      <td>ISIS network:  Islamic State of Iraq and the L...</td>\n",
       "      <td>Shia Muslim extremists</td>\n",
       "      <td>Abu Nidal Organization (ANO)</td>\n",
       "      <td>None</td>\n",
       "    </tr>\n",
       "    <tr>\n",
       "      <th>11</th>\n",
       "      <td>Muslim extremists</td>\n",
       "      <td>Unknown</td>\n",
       "      <td>Gunmen</td>\n",
       "      <td>Islamist extremists</td>\n",
       "      <td>Muslim Militants</td>\n",
       "      <td>Free Syrian Army</td>\n",
       "      <td>Shia Muslim extremists</td>\n",
       "      <td>Hezbollah</td>\n",
       "      <td>ISIS network:  Islamic State of Iraq and the L...</td>\n",
       "      <td>None</td>\n",
       "    </tr>\n",
       "    <tr>\n",
       "      <th>12</th>\n",
       "      <td>Muslim extremists</td>\n",
       "      <td>Unknown</td>\n",
       "      <td>Gunmen</td>\n",
       "      <td>Islamist extremists</td>\n",
       "      <td>Muslim Militants</td>\n",
       "      <td>Kaka-Tribesmen</td>\n",
       "      <td>Al-Qaida network:  Al-Qaida</td>\n",
       "      <td>Separatists</td>\n",
       "      <td>None</td>\n",
       "      <td>None</td>\n",
       "    </tr>\n",
       "    <tr>\n",
       "      <th>13</th>\n",
       "      <td>Muslim extremists</td>\n",
       "      <td>Unknown</td>\n",
       "      <td>Gunmen</td>\n",
       "      <td>Islamist extremists</td>\n",
       "      <td>Muslim Militants</td>\n",
       "      <td>ISIS network:  Islamic State of Iraq and the L...</td>\n",
       "      <td>Shia Muslim extremists</td>\n",
       "      <td>Separatists</td>\n",
       "      <td>Abu Nidal Organization (ANO)</td>\n",
       "      <td>None</td>\n",
       "    </tr>\n",
       "    <tr>\n",
       "      <th>14</th>\n",
       "      <td>Muslim extremists</td>\n",
       "      <td>Unknown</td>\n",
       "      <td>Gunmen</td>\n",
       "      <td>Islamist extremists</td>\n",
       "      <td>Muslim Militants</td>\n",
       "      <td>Militants</td>\n",
       "      <td>Al-Qaida network:  Al-Qaida</td>\n",
       "      <td>Tehrik-i-Taliban Pakistan (TTP)</td>\n",
       "      <td>Ittehad-i-Islami</td>\n",
       "      <td>Jundallah (Pakistan)</td>\n",
       "    </tr>\n",
       "    <tr>\n",
       "      <th>15</th>\n",
       "      <td>Muslim extremists</td>\n",
       "      <td>Unknown</td>\n",
       "      <td>Gunmen</td>\n",
       "      <td>Islamist extremists</td>\n",
       "      <td>Muslim Militants</td>\n",
       "      <td>Militants</td>\n",
       "      <td>Al-Qaida network:  Al-Qaida</td>\n",
       "      <td>Separatists</td>\n",
       "      <td>None</td>\n",
       "      <td>None</td>\n",
       "    </tr>\n",
       "    <tr>\n",
       "      <th>16</th>\n",
       "      <td>Muslim extremists</td>\n",
       "      <td>Unknown</td>\n",
       "      <td>Gunmen</td>\n",
       "      <td>Islamist extremists</td>\n",
       "      <td>Muslim Militants</td>\n",
       "      <td>Militants</td>\n",
       "      <td>Abu Nidal Organization (ANO)</td>\n",
       "      <td>Shia Muslim extremists</td>\n",
       "      <td>Separatists</td>\n",
       "      <td>None</td>\n",
       "    </tr>\n",
       "    <tr>\n",
       "      <th>17</th>\n",
       "      <td>Muslim extremists</td>\n",
       "      <td>Unknown</td>\n",
       "      <td>Gunmen</td>\n",
       "      <td>Islamist extremists</td>\n",
       "      <td>Muslim Militants</td>\n",
       "      <td>Al-Fatah</td>\n",
       "      <td>None</td>\n",
       "      <td>None</td>\n",
       "      <td>None</td>\n",
       "      <td>None</td>\n",
       "    </tr>\n",
       "    <tr>\n",
       "      <th>18</th>\n",
       "      <td>Muslim extremists</td>\n",
       "      <td>Unknown</td>\n",
       "      <td>Gunmen</td>\n",
       "      <td>Syrian Democratic Forces (SDF)</td>\n",
       "      <td>Free Syrian Army</td>\n",
       "      <td>Kurdistan Workers' Party (PKK)</td>\n",
       "      <td>Kurdish extremists</td>\n",
       "      <td>Hezbollah</td>\n",
       "      <td>People's Protection Units (YPG)</td>\n",
       "      <td>ISIS network:  Islamic State of Iraq and the L...</td>\n",
       "    </tr>\n",
       "    <tr>\n",
       "      <th>19</th>\n",
       "      <td>Muslim extremists</td>\n",
       "      <td>Unknown</td>\n",
       "      <td>Gunmen</td>\n",
       "      <td>Hay'at Tahrir al-Sham</td>\n",
       "      <td>Al-Nusrah Front</td>\n",
       "      <td>Free Syrian Army</td>\n",
       "      <td>Shia Muslim extremists</td>\n",
       "      <td>Hezbollah</td>\n",
       "      <td>ISIS network:  Islamic State of Iraq and the L...</td>\n",
       "      <td>Popular Front for the Liberation of Palestine,...</td>\n",
       "    </tr>\n",
       "    <tr>\n",
       "      <th>20</th>\n",
       "      <td>Muslim extremists</td>\n",
       "      <td>Unknown</td>\n",
       "      <td>Gunmen</td>\n",
       "      <td>Iran-backed militia</td>\n",
       "      <td>Al-Nusrah Front</td>\n",
       "      <td>Kurdistan Workers' Party (PKK)</td>\n",
       "      <td>ISIS network:  Islamic State of Iraq and the L...</td>\n",
       "      <td>Shia Muslim extremists</td>\n",
       "      <td>Kurdish extremists</td>\n",
       "      <td>Ansar al-Islam</td>\n",
       "    </tr>\n",
       "    <tr>\n",
       "      <th>21</th>\n",
       "      <td>Muslim extremists</td>\n",
       "      <td>Unknown</td>\n",
       "      <td>Kurdish Rebels</td>\n",
       "      <td>Kurdistan Workers' Party (PKK)</td>\n",
       "      <td>Hezbollah</td>\n",
       "      <td>ISIS network:  Islamic State of Iraq and the L...</td>\n",
       "      <td>Kurdistan Freedom Hawks (TAK)</td>\n",
       "      <td>None</td>\n",
       "      <td>None</td>\n",
       "      <td>None</td>\n",
       "    </tr>\n",
       "    <tr>\n",
       "      <th>22</th>\n",
       "      <td>Muslim extremists</td>\n",
       "      <td>Unknown</td>\n",
       "      <td>Tawhid and Jihad</td>\n",
       "      <td>ISIS network:  Islamic State of Iraq and the L...</td>\n",
       "      <td>Islamist extremists</td>\n",
       "      <td>Al-Qaida network:  Al-Qaida in Iraq</td>\n",
       "      <td>None</td>\n",
       "      <td>None</td>\n",
       "      <td>None</td>\n",
       "      <td>None</td>\n",
       "    </tr>\n",
       "  </tbody>\n",
       "</table>\n",
       "</div>"
      ],
      "text/plain": [
       "                    0        1                              2  \\\n",
       "0   Muslim extremists  Unknown                 Southern Front   \n",
       "1   Muslim extremists  Unknown  Sipah-e-Sahaba/Pakistan (SSP)   \n",
       "2   Muslim extremists  Unknown        Mujahedin-e Khalq (MEK)   \n",
       "3   Muslim extremists  Unknown                         Gunmen   \n",
       "4   Muslim extremists  Unknown                         Gunmen   \n",
       "5   Muslim extremists  Unknown                         Gunmen   \n",
       "6   Muslim extremists  Unknown                         Gunmen   \n",
       "7   Muslim extremists  Unknown                         Gunmen   \n",
       "8   Muslim extremists  Unknown                         Gunmen   \n",
       "9   Muslim extremists  Unknown                         Gunmen   \n",
       "10  Muslim extremists  Unknown                         Gunmen   \n",
       "11  Muslim extremists  Unknown                         Gunmen   \n",
       "12  Muslim extremists  Unknown                         Gunmen   \n",
       "13  Muslim extremists  Unknown                         Gunmen   \n",
       "14  Muslim extremists  Unknown                         Gunmen   \n",
       "15  Muslim extremists  Unknown                         Gunmen   \n",
       "16  Muslim extremists  Unknown                         Gunmen   \n",
       "17  Muslim extremists  Unknown                         Gunmen   \n",
       "18  Muslim extremists  Unknown                         Gunmen   \n",
       "19  Muslim extremists  Unknown                         Gunmen   \n",
       "20  Muslim extremists  Unknown                         Gunmen   \n",
       "21  Muslim extremists  Unknown                 Kurdish Rebels   \n",
       "22  Muslim extremists  Unknown               Tawhid and Jihad   \n",
       "\n",
       "                                                    3  \\\n",
       "0   ISIS network:  Islamic State of Iraq and the L...   \n",
       "1                                 Baloch Nationalists   \n",
       "2                      Kurdistan Workers' Party (PKK)   \n",
       "3                                 Islamist extremists   \n",
       "4                                 Islamist extremists   \n",
       "5                                 Islamist extremists   \n",
       "6                                 Islamist extremists   \n",
       "7                                 Islamist extremists   \n",
       "8                                 Islamist extremists   \n",
       "9                                 Islamist extremists   \n",
       "10                                Islamist extremists   \n",
       "11                                Islamist extremists   \n",
       "12                                Islamist extremists   \n",
       "13                                Islamist extremists   \n",
       "14                                Islamist extremists   \n",
       "15                                Islamist extremists   \n",
       "16                                Islamist extremists   \n",
       "17                                Islamist extremists   \n",
       "18                     Syrian Democratic Forces (SDF)   \n",
       "19                              Hay'at Tahrir al-Sham   \n",
       "20                                Iran-backed militia   \n",
       "21                     Kurdistan Workers' Party (PKK)   \n",
       "22  ISIS network:  Islamic State of Iraq and the L...   \n",
       "\n",
       "                                                    4  \\\n",
       "0                 Al-Qaida network:  Al-Qaida in Iraq   \n",
       "1                                             Muslims   \n",
       "2   ISIS network:  Islamic State of Iraq and the L...   \n",
       "3                                     Al-Nusrah Front   \n",
       "4                                     Al-Nusrah Front   \n",
       "5                                     Al-Nusrah Front   \n",
       "6                      Kurdistan Workers' Party (PKK)   \n",
       "7                      Kurdistan Workers' Party (PKK)   \n",
       "8                             Sunni Muslim extremists   \n",
       "9                                    Muslim Militants   \n",
       "10                                   Muslim Militants   \n",
       "11                                   Muslim Militants   \n",
       "12                                   Muslim Militants   \n",
       "13                                   Muslim Militants   \n",
       "14                                   Muslim Militants   \n",
       "15                                   Muslim Militants   \n",
       "16                                   Muslim Militants   \n",
       "17                                   Muslim Militants   \n",
       "18                                   Free Syrian Army   \n",
       "19                                    Al-Nusrah Front   \n",
       "20                                    Al-Nusrah Front   \n",
       "21                                          Hezbollah   \n",
       "22                                Islamist extremists   \n",
       "\n",
       "                                                    5  \\\n",
       "0                                                None   \n",
       "1                                     Sikh Extremists   \n",
       "2                                                None   \n",
       "3   ISIS network:  Islamic State of Iraq and the L...   \n",
       "4   ISIS network:  Islamic State of Iraq and the L...   \n",
       "5   ISIS network:  Islamic State of Iraq and the L...   \n",
       "6   ISIS network:  Islamic State of Iraq and the L...   \n",
       "7   ISIS network:  Islamic State of Iraq and the L...   \n",
       "8                                           Tribesmen   \n",
       "9                                   Soldiers of Truth   \n",
       "10                            Abdullah Azzam Brigades   \n",
       "11                                   Free Syrian Army   \n",
       "12                                     Kaka-Tribesmen   \n",
       "13  ISIS network:  Islamic State of Iraq and the L...   \n",
       "14                                          Militants   \n",
       "15                                          Militants   \n",
       "16                                          Militants   \n",
       "17                                           Al-Fatah   \n",
       "18                     Kurdistan Workers' Party (PKK)   \n",
       "19                                   Free Syrian Army   \n",
       "20                     Kurdistan Workers' Party (PKK)   \n",
       "21  ISIS network:  Islamic State of Iraq and the L...   \n",
       "22                Al-Qaida network:  Al-Qaida in Iraq   \n",
       "\n",
       "                                                    6  \\\n",
       "0                                                None   \n",
       "1                                                None   \n",
       "2                                                None   \n",
       "3                              Shia Muslim extremists   \n",
       "4                              Shia Muslim extremists   \n",
       "5                              Shia Muslim extremists   \n",
       "6                                  Kurdish extremists   \n",
       "7                                  Kurdish extremists   \n",
       "8                              Shia Muslim extremists   \n",
       "9                              Shia Muslim extremists   \n",
       "10  ISIS network:  Islamic State of Iraq and the L...   \n",
       "11                             Shia Muslim extremists   \n",
       "12                        Al-Qaida network:  Al-Qaida   \n",
       "13                             Shia Muslim extremists   \n",
       "14                        Al-Qaida network:  Al-Qaida   \n",
       "15                        Al-Qaida network:  Al-Qaida   \n",
       "16                       Abu Nidal Organization (ANO)   \n",
       "17                                               None   \n",
       "18                                 Kurdish extremists   \n",
       "19                             Shia Muslim extremists   \n",
       "20  ISIS network:  Islamic State of Iraq and the L...   \n",
       "21                      Kurdistan Freedom Hawks (TAK)   \n",
       "22                                               None   \n",
       "\n",
       "                                  7  \\\n",
       "0                              None   \n",
       "1                              None   \n",
       "2                              None   \n",
       "3    Kurdistan Workers' Party (PKK)   \n",
       "4    Kurdistan Workers' Party (PKK)   \n",
       "5      Abu Nidal Organization (ANO)   \n",
       "6                             Kurds   \n",
       "7                       Separatists   \n",
       "8                         Militants   \n",
       "9            Muslim Fundamentalists   \n",
       "10           Shia Muslim extremists   \n",
       "11                        Hezbollah   \n",
       "12                      Separatists   \n",
       "13                      Separatists   \n",
       "14  Tehrik-i-Taliban Pakistan (TTP)   \n",
       "15                      Separatists   \n",
       "16           Shia Muslim extremists   \n",
       "17                             None   \n",
       "18                        Hezbollah   \n",
       "19                        Hezbollah   \n",
       "20           Shia Muslim extremists   \n",
       "21                             None   \n",
       "22                             None   \n",
       "\n",
       "                                                    8  \\\n",
       "0                                                None   \n",
       "1                                                None   \n",
       "2                                                None   \n",
       "3                                  Kurdish extremists   \n",
       "4                                  Kurdish extremists   \n",
       "5                                                None   \n",
       "6                                         Separatists   \n",
       "7                              Shia Muslim extremists   \n",
       "8                                         Separatists   \n",
       "9                        Abu Nidal Organization (ANO)   \n",
       "10                       Abu Nidal Organization (ANO)   \n",
       "11  ISIS network:  Islamic State of Iraq and the L...   \n",
       "12                                               None   \n",
       "13                       Abu Nidal Organization (ANO)   \n",
       "14                                   Ittehad-i-Islami   \n",
       "15                                               None   \n",
       "16                                        Separatists   \n",
       "17                                               None   \n",
       "18                    People's Protection Units (YPG)   \n",
       "19  ISIS network:  Islamic State of Iraq and the L...   \n",
       "20                                 Kurdish extremists   \n",
       "21                                               None   \n",
       "22                                               None   \n",
       "\n",
       "                                                    9  \n",
       "0                                                None  \n",
       "1                                                None  \n",
       "2                                                None  \n",
       "3                                           Hezbollah  \n",
       "4                 Al-Qaida network:  Al-Qaida in Iraq  \n",
       "5                                                None  \n",
       "6                  Patriotic Union of Kurdistan (PUK)  \n",
       "7                                                None  \n",
       "8                        Abu Nidal Organization (ANO)  \n",
       "9                             Abdullah Azzam Brigades  \n",
       "10                                               None  \n",
       "11                                               None  \n",
       "12                                               None  \n",
       "13                                               None  \n",
       "14                               Jundallah (Pakistan)  \n",
       "15                                               None  \n",
       "16                                               None  \n",
       "17                                               None  \n",
       "18  ISIS network:  Islamic State of Iraq and the L...  \n",
       "19  Popular Front for the Liberation of Palestine,...  \n",
       "20                                     Ansar al-Islam  \n",
       "21                                               None  \n",
       "22                                               None  "
      ]
     },
     "execution_count": 15,
     "metadata": {},
     "output_type": "execute_result"
    }
   ],
   "source": [
    "eco = bipartite.weighted_projected_graph(G, orgs)\n",
    "eco1 =  trim_edges(eco, weight = 1)\n",
    "cliques = pd.DataFrame(nx.find_cliques(eco1))\n",
    "#only showing the first 10 columns due to the size of the generated dataframe\n",
    "cliques.iloc[:, : 10]"
   ]
  },
  {
   "cell_type": "code",
   "execution_count": 16,
   "id": "official-coast",
   "metadata": {},
   "outputs": [
    {
     "name": "stdout",
     "output_type": "stream",
     "text": [
      "Name: \n",
      "Type: Graph\n",
      "Number of nodes: 53\n",
      "Number of edges: 417\n",
      "Average degree:  15.7358\n"
     ]
    }
   ],
   "source": [
    "print(nx.info(eco1))"
   ]
  },
  {
   "cell_type": "markdown",
   "id": "allied-omega",
   "metadata": {},
   "source": [
    "At level 1, we still see the strength of the networks in Pakistan.  It's the only country bubble left (Circle of nodes in the lower left).  While any group in this stage of the analysis, does carry more weight than those not shown here, it's becomes clear even at this stage, there are powerhouses. \n",
    "\n",
    "When we look around the powerhouses, we can also see groups who's connection strength is still strong.  We can also assume some of the ones who will start to fall off as we get higher in the levels (Baloch Nationalists, Sikh extremists, etc...).  We do have to take this data with a grain of salt.  'Al-Qaida network: Al-Qaida in Iraq' does not have a lot of entries in the cliques, however, they are still present in the next level."
   ]
  },
  {
   "cell_type": "code",
   "execution_count": 17,
   "id": "crazy-railway",
   "metadata": {},
   "outputs": [
    {
     "data": {
      "text/html": [
       "\n",
       "        <iframe\n",
       "            width=\"1000px\"\n",
       "            height=\"1000px\"\n",
       "            src=\"island2.html\"\n",
       "            frameborder=\"0\"\n",
       "            allowfullscreen\n",
       "        ></iframe>\n",
       "        "
      ],
      "text/plain": [
       "<IPython.lib.display.IFrame at 0x1ca809b5988>"
      ]
     },
     "execution_count": 17,
     "metadata": {},
     "output_type": "execute_result"
    }
   ],
   "source": [
    "C = Network(height='1000px',\n",
    "            width='1000px',\n",
    "            bgcolor='#222222', \n",
    "            font_color='white', \n",
    "            notebook=True)\n",
    "\n",
    "C.barnes_hut()\n",
    "for n in lvl2.nodes():\n",
    "    C.add_node(n)\n",
    "for e in lvl2.edges():\n",
    "    C.add_edge(e[0], e[1])\n",
    "C.show('island2.html')"
   ]
  },
  {
   "cell_type": "code",
   "execution_count": 18,
   "id": "thousand-trick",
   "metadata": {},
   "outputs": [
    {
     "data": {
      "text/html": [
       "<div>\n",
       "<style scoped>\n",
       "    .dataframe tbody tr th:only-of-type {\n",
       "        vertical-align: middle;\n",
       "    }\n",
       "\n",
       "    .dataframe tbody tr th {\n",
       "        vertical-align: top;\n",
       "    }\n",
       "\n",
       "    .dataframe thead th {\n",
       "        text-align: right;\n",
       "    }\n",
       "</style>\n",
       "<table border=\"1\" class=\"dataframe\">\n",
       "  <thead>\n",
       "    <tr style=\"text-align: right;\">\n",
       "      <th></th>\n",
       "      <th>0</th>\n",
       "      <th>1</th>\n",
       "      <th>2</th>\n",
       "      <th>3</th>\n",
       "      <th>4</th>\n",
       "      <th>5</th>\n",
       "    </tr>\n",
       "  </thead>\n",
       "  <tbody>\n",
       "    <tr>\n",
       "      <th>0</th>\n",
       "      <td>Unknown</td>\n",
       "      <td>Muslim extremists</td>\n",
       "      <td>Gunmen</td>\n",
       "      <td>Islamist extremists</td>\n",
       "      <td>Al-Qaida network:  Al-Qaida</td>\n",
       "      <td>Muslim Militants</td>\n",
       "    </tr>\n",
       "    <tr>\n",
       "      <th>1</th>\n",
       "      <td>Unknown</td>\n",
       "      <td>Muslim extremists</td>\n",
       "      <td>Gunmen</td>\n",
       "      <td>Islamist extremists</td>\n",
       "      <td>Separatists</td>\n",
       "      <td>None</td>\n",
       "    </tr>\n",
       "    <tr>\n",
       "      <th>2</th>\n",
       "      <td>Unknown</td>\n",
       "      <td>Muslim extremists</td>\n",
       "      <td>Gunmen</td>\n",
       "      <td>Islamist extremists</td>\n",
       "      <td>Militants</td>\n",
       "      <td>None</td>\n",
       "    </tr>\n",
       "    <tr>\n",
       "      <th>3</th>\n",
       "      <td>Unknown</td>\n",
       "      <td>Muslim extremists</td>\n",
       "      <td>Gunmen</td>\n",
       "      <td>Islamist extremists</td>\n",
       "      <td>Shia Muslim extremists</td>\n",
       "      <td>ISIS network:  Islamic State of Iraq and the L...</td>\n",
       "    </tr>\n",
       "    <tr>\n",
       "      <th>4</th>\n",
       "      <td>Unknown</td>\n",
       "      <td>Muslim extremists</td>\n",
       "      <td>Gunmen</td>\n",
       "      <td>Islamist extremists</td>\n",
       "      <td>Shia Muslim extremists</td>\n",
       "      <td>Abu Nidal Organization (ANO)</td>\n",
       "    </tr>\n",
       "    <tr>\n",
       "      <th>5</th>\n",
       "      <td>Unknown</td>\n",
       "      <td>Muslim extremists</td>\n",
       "      <td>Gunmen</td>\n",
       "      <td>Al-Nusrah Front</td>\n",
       "      <td>Shia Muslim extremists</td>\n",
       "      <td>ISIS network:  Islamic State of Iraq and the L...</td>\n",
       "    </tr>\n",
       "    <tr>\n",
       "      <th>6</th>\n",
       "      <td>Unknown</td>\n",
       "      <td>Muslim extremists</td>\n",
       "      <td>Gunmen</td>\n",
       "      <td>Free Syrian Army</td>\n",
       "      <td>Hezbollah</td>\n",
       "      <td>ISIS network:  Islamic State of Iraq and the L...</td>\n",
       "    </tr>\n",
       "    <tr>\n",
       "      <th>7</th>\n",
       "      <td>Unknown</td>\n",
       "      <td>Muslim extremists</td>\n",
       "      <td>Gunmen</td>\n",
       "      <td>Kurdistan Workers' Party (PKK)</td>\n",
       "      <td>ISIS network:  Islamic State of Iraq and the L...</td>\n",
       "      <td>Kurdish extremists</td>\n",
       "    </tr>\n",
       "    <tr>\n",
       "      <th>8</th>\n",
       "      <td>Unknown</td>\n",
       "      <td>Muslim extremists</td>\n",
       "      <td>Gunmen</td>\n",
       "      <td>Kurdistan Workers' Party (PKK)</td>\n",
       "      <td>ISIS network:  Islamic State of Iraq and the L...</td>\n",
       "      <td>Hezbollah</td>\n",
       "    </tr>\n",
       "    <tr>\n",
       "      <th>9</th>\n",
       "      <td>Unknown</td>\n",
       "      <td>Muslim extremists</td>\n",
       "      <td>Abdullah Azzam Brigades</td>\n",
       "      <td>Islamist extremists</td>\n",
       "      <td>None</td>\n",
       "      <td>None</td>\n",
       "    </tr>\n",
       "    <tr>\n",
       "      <th>10</th>\n",
       "      <td>Unknown</td>\n",
       "      <td>Muslim extremists</td>\n",
       "      <td>Al-Qaida network:  Al-Qaida in Iraq</td>\n",
       "      <td>ISIS network:  Islamic State of Iraq and the L...</td>\n",
       "      <td>None</td>\n",
       "      <td>None</td>\n",
       "    </tr>\n",
       "  </tbody>\n",
       "</table>\n",
       "</div>"
      ],
      "text/plain": [
       "          0                  1                                    2  \\\n",
       "0   Unknown  Muslim extremists                               Gunmen   \n",
       "1   Unknown  Muslim extremists                               Gunmen   \n",
       "2   Unknown  Muslim extremists                               Gunmen   \n",
       "3   Unknown  Muslim extremists                               Gunmen   \n",
       "4   Unknown  Muslim extremists                               Gunmen   \n",
       "5   Unknown  Muslim extremists                               Gunmen   \n",
       "6   Unknown  Muslim extremists                               Gunmen   \n",
       "7   Unknown  Muslim extremists                               Gunmen   \n",
       "8   Unknown  Muslim extremists                               Gunmen   \n",
       "9   Unknown  Muslim extremists              Abdullah Azzam Brigades   \n",
       "10  Unknown  Muslim extremists  Al-Qaida network:  Al-Qaida in Iraq   \n",
       "\n",
       "                                                    3  \\\n",
       "0                                 Islamist extremists   \n",
       "1                                 Islamist extremists   \n",
       "2                                 Islamist extremists   \n",
       "3                                 Islamist extremists   \n",
       "4                                 Islamist extremists   \n",
       "5                                     Al-Nusrah Front   \n",
       "6                                    Free Syrian Army   \n",
       "7                      Kurdistan Workers' Party (PKK)   \n",
       "8                      Kurdistan Workers' Party (PKK)   \n",
       "9                                 Islamist extremists   \n",
       "10  ISIS network:  Islamic State of Iraq and the L...   \n",
       "\n",
       "                                                    4  \\\n",
       "0                         Al-Qaida network:  Al-Qaida   \n",
       "1                                         Separatists   \n",
       "2                                           Militants   \n",
       "3                              Shia Muslim extremists   \n",
       "4                              Shia Muslim extremists   \n",
       "5                              Shia Muslim extremists   \n",
       "6                                           Hezbollah   \n",
       "7   ISIS network:  Islamic State of Iraq and the L...   \n",
       "8   ISIS network:  Islamic State of Iraq and the L...   \n",
       "9                                                None   \n",
       "10                                               None   \n",
       "\n",
       "                                                    5  \n",
       "0                                    Muslim Militants  \n",
       "1                                                None  \n",
       "2                                                None  \n",
       "3   ISIS network:  Islamic State of Iraq and the L...  \n",
       "4                        Abu Nidal Organization (ANO)  \n",
       "5   ISIS network:  Islamic State of Iraq and the L...  \n",
       "6   ISIS network:  Islamic State of Iraq and the L...  \n",
       "7                                  Kurdish extremists  \n",
       "8                                           Hezbollah  \n",
       "9                                                None  \n",
       "10                                               None  "
      ]
     },
     "execution_count": 18,
     "metadata": {},
     "output_type": "execute_result"
    }
   ],
   "source": [
    "eco = bipartite.weighted_projected_graph(G, orgs)\n",
    "eco2 =  trim_edges(eco, weight = 2)\n",
    "cliques = pd.DataFrame(nx.find_cliques(eco2))\n",
    "cliques"
   ]
  },
  {
   "cell_type": "code",
   "execution_count": 19,
   "id": "southern-holder",
   "metadata": {},
   "outputs": [
    {
     "name": "stdout",
     "output_type": "stream",
     "text": [
      "Name: \n",
      "Type: Graph\n",
      "Number of nodes: 18\n",
      "Number of edges: 67\n",
      "Average degree:   7.4444\n"
     ]
    }
   ],
   "source": [
    "print(nx.info(eco2))"
   ]
  },
  {
   "cell_type": "markdown",
   "id": "hidden-massage",
   "metadata": {},
   "source": [
    "At Level 2 we start getting into the the most important and dangerous groups.  As the average degree drops, the greater chance of having connections to all the other nodes.  As we get higher and higher in the levels, the more connected the nodes become until we are left with only 2 nodes at level 6 and 7. (note: level 7 omitted from this report, it is redundant to level 6)."
   ]
  },
  {
   "cell_type": "code",
   "execution_count": 20,
   "id": "driven-university",
   "metadata": {},
   "outputs": [
    {
     "data": {
      "text/html": [
       "\n",
       "        <iframe\n",
       "            width=\"1000px\"\n",
       "            height=\"1000px\"\n",
       "            src=\"island3.html\"\n",
       "            frameborder=\"0\"\n",
       "            allowfullscreen\n",
       "        ></iframe>\n",
       "        "
      ],
      "text/plain": [
       "<IPython.lib.display.IFrame at 0x1ca809a64c8>"
      ]
     },
     "execution_count": 20,
     "metadata": {},
     "output_type": "execute_result"
    }
   ],
   "source": [
    "C = Network(height='1000px',\n",
    "            width='1000px',\n",
    "            bgcolor='#222222', \n",
    "            font_color='white', \n",
    "            notebook=True)\n",
    "\n",
    "C.barnes_hut()\n",
    "for n in lvl3.nodes():\n",
    "    C.add_node(n)\n",
    "for e in lvl3.edges():\n",
    "    C.add_edge(e[0], e[1])\n",
    "C.show('island3.html')"
   ]
  },
  {
   "cell_type": "code",
   "execution_count": 21,
   "id": "tested-price",
   "metadata": {},
   "outputs": [
    {
     "data": {
      "text/html": [
       "<div>\n",
       "<style scoped>\n",
       "    .dataframe tbody tr th:only-of-type {\n",
       "        vertical-align: middle;\n",
       "    }\n",
       "\n",
       "    .dataframe tbody tr th {\n",
       "        vertical-align: top;\n",
       "    }\n",
       "\n",
       "    .dataframe thead th {\n",
       "        text-align: right;\n",
       "    }\n",
       "</style>\n",
       "<table border=\"1\" class=\"dataframe\">\n",
       "  <thead>\n",
       "    <tr style=\"text-align: right;\">\n",
       "      <th></th>\n",
       "      <th>0</th>\n",
       "      <th>1</th>\n",
       "      <th>2</th>\n",
       "      <th>3</th>\n",
       "      <th>4</th>\n",
       "    </tr>\n",
       "  </thead>\n",
       "  <tbody>\n",
       "    <tr>\n",
       "      <th>0</th>\n",
       "      <td>Unknown</td>\n",
       "      <td>Muslim extremists</td>\n",
       "      <td>Shia Muslim extremists</td>\n",
       "      <td>Gunmen</td>\n",
       "      <td>None</td>\n",
       "    </tr>\n",
       "    <tr>\n",
       "      <th>1</th>\n",
       "      <td>Unknown</td>\n",
       "      <td>Muslim extremists</td>\n",
       "      <td>Muslim Militants</td>\n",
       "      <td>Gunmen</td>\n",
       "      <td>Islamist extremists</td>\n",
       "    </tr>\n",
       "    <tr>\n",
       "      <th>2</th>\n",
       "      <td>Unknown</td>\n",
       "      <td>Muslim extremists</td>\n",
       "      <td>ISIS network:  Islamic State of Iraq and the L...</td>\n",
       "      <td>Gunmen</td>\n",
       "      <td>Islamist extremists</td>\n",
       "    </tr>\n",
       "    <tr>\n",
       "      <th>3</th>\n",
       "      <td>Unknown</td>\n",
       "      <td>Muslim extremists</td>\n",
       "      <td>ISIS network:  Islamic State of Iraq and the L...</td>\n",
       "      <td>Hezbollah</td>\n",
       "      <td>None</td>\n",
       "    </tr>\n",
       "    <tr>\n",
       "      <th>4</th>\n",
       "      <td>Unknown</td>\n",
       "      <td>Muslim extremists</td>\n",
       "      <td>ISIS network:  Islamic State of Iraq and the L...</td>\n",
       "      <td>Kurdistan Workers' Party (PKK)</td>\n",
       "      <td>None</td>\n",
       "    </tr>\n",
       "  </tbody>\n",
       "</table>\n",
       "</div>"
      ],
      "text/plain": [
       "         0                  1  \\\n",
       "0  Unknown  Muslim extremists   \n",
       "1  Unknown  Muslim extremists   \n",
       "2  Unknown  Muslim extremists   \n",
       "3  Unknown  Muslim extremists   \n",
       "4  Unknown  Muslim extremists   \n",
       "\n",
       "                                                   2  \\\n",
       "0                             Shia Muslim extremists   \n",
       "1                                   Muslim Militants   \n",
       "2  ISIS network:  Islamic State of Iraq and the L...   \n",
       "3  ISIS network:  Islamic State of Iraq and the L...   \n",
       "4  ISIS network:  Islamic State of Iraq and the L...   \n",
       "\n",
       "                                3                    4  \n",
       "0                          Gunmen                 None  \n",
       "1                          Gunmen  Islamist extremists  \n",
       "2                          Gunmen  Islamist extremists  \n",
       "3                       Hezbollah                 None  \n",
       "4  Kurdistan Workers' Party (PKK)                 None  "
      ]
     },
     "execution_count": 21,
     "metadata": {},
     "output_type": "execute_result"
    }
   ],
   "source": [
    "eco = bipartite.weighted_projected_graph(G, orgs)\n",
    "eco3 =  trim_edges(eco, weight = 3)\n",
    "cliques = pd.DataFrame(nx.find_cliques(eco3))\n",
    "cliques"
   ]
  },
  {
   "cell_type": "code",
   "execution_count": 22,
   "id": "circular-alloy",
   "metadata": {},
   "outputs": [
    {
     "name": "stdout",
     "output_type": "stream",
     "text": [
      "Name: \n",
      "Type: Graph\n",
      "Number of nodes: 9\n",
      "Number of edges: 23\n",
      "Average degree:   5.1111\n"
     ]
    }
   ],
   "source": [
    "print(nx.info(eco3))"
   ]
  },
  {
   "cell_type": "code",
   "execution_count": 23,
   "id": "usual-mainland",
   "metadata": {},
   "outputs": [
    {
     "data": {
      "text/html": [
       "\n",
       "        <iframe\n",
       "            width=\"1000px\"\n",
       "            height=\"1000px\"\n",
       "            src=\"island4.html\"\n",
       "            frameborder=\"0\"\n",
       "            allowfullscreen\n",
       "        ></iframe>\n",
       "        "
      ],
      "text/plain": [
       "<IPython.lib.display.IFrame at 0x1ca82a5ddc8>"
      ]
     },
     "execution_count": 23,
     "metadata": {},
     "output_type": "execute_result"
    }
   ],
   "source": [
    "C = Network(height='1000px',\n",
    "            width='1000px',\n",
    "            bgcolor='#222222', \n",
    "            font_color='white', \n",
    "            notebook=True)\n",
    "\n",
    "C.barnes_hut()\n",
    "for n in lvl4.nodes():\n",
    "    C.add_node(n)\n",
    "for e in lvl4.edges():\n",
    "    C.add_edge(e[0], e[1])\n",
    "C.show('island4.html')"
   ]
  },
  {
   "cell_type": "code",
   "execution_count": 24,
   "id": "hazardous-teens",
   "metadata": {},
   "outputs": [
    {
     "data": {
      "text/html": [
       "<div>\n",
       "<style scoped>\n",
       "    .dataframe tbody tr th:only-of-type {\n",
       "        vertical-align: middle;\n",
       "    }\n",
       "\n",
       "    .dataframe tbody tr th {\n",
       "        vertical-align: top;\n",
       "    }\n",
       "\n",
       "    .dataframe thead th {\n",
       "        text-align: right;\n",
       "    }\n",
       "</style>\n",
       "<table border=\"1\" class=\"dataframe\">\n",
       "  <thead>\n",
       "    <tr style=\"text-align: right;\">\n",
       "      <th></th>\n",
       "      <th>0</th>\n",
       "      <th>1</th>\n",
       "      <th>2</th>\n",
       "      <th>3</th>\n",
       "    </tr>\n",
       "  </thead>\n",
       "  <tbody>\n",
       "    <tr>\n",
       "      <th>0</th>\n",
       "      <td>Unknown</td>\n",
       "      <td>Muslim extremists</td>\n",
       "      <td>Gunmen</td>\n",
       "      <td>Islamist extremists</td>\n",
       "    </tr>\n",
       "    <tr>\n",
       "      <th>1</th>\n",
       "      <td>Unknown</td>\n",
       "      <td>Muslim extremists</td>\n",
       "      <td>ISIS network:  Islamic State of Iraq and the L...</td>\n",
       "      <td>None</td>\n",
       "    </tr>\n",
       "  </tbody>\n",
       "</table>\n",
       "</div>"
      ],
      "text/plain": [
       "         0                  1  \\\n",
       "0  Unknown  Muslim extremists   \n",
       "1  Unknown  Muslim extremists   \n",
       "\n",
       "                                                   2                    3  \n",
       "0                                             Gunmen  Islamist extremists  \n",
       "1  ISIS network:  Islamic State of Iraq and the L...                 None  "
      ]
     },
     "execution_count": 24,
     "metadata": {},
     "output_type": "execute_result"
    }
   ],
   "source": [
    "eco = bipartite.weighted_projected_graph(G, orgs)\n",
    "eco4 =  trim_edges(eco, weight = 4)\n",
    "cliques = pd.DataFrame(nx.find_cliques(eco4))\n",
    "cliques"
   ]
  },
  {
   "cell_type": "code",
   "execution_count": 25,
   "id": "hydraulic-southwest",
   "metadata": {},
   "outputs": [
    {
     "name": "stdout",
     "output_type": "stream",
     "text": [
      "Name: \n",
      "Type: Graph\n",
      "Number of nodes: 5\n",
      "Number of edges: 8\n",
      "Average degree:   3.2000\n"
     ]
    }
   ],
   "source": [
    "print(nx.info(eco4))"
   ]
  },
  {
   "cell_type": "code",
   "execution_count": 26,
   "id": "ancient-colon",
   "metadata": {},
   "outputs": [
    {
     "data": {
      "text/html": [
       "\n",
       "        <iframe\n",
       "            width=\"1000px\"\n",
       "            height=\"1000px\"\n",
       "            src=\"island5.html\"\n",
       "            frameborder=\"0\"\n",
       "            allowfullscreen\n",
       "        ></iframe>\n",
       "        "
      ],
      "text/plain": [
       "<IPython.lib.display.IFrame at 0x1caf9924388>"
      ]
     },
     "execution_count": 26,
     "metadata": {},
     "output_type": "execute_result"
    }
   ],
   "source": [
    "C = Network(height='1000px',\n",
    "            width='1000px',\n",
    "            bgcolor='#222222', \n",
    "            font_color='white', \n",
    "            notebook=True)\n",
    "\n",
    "C.barnes_hut()\n",
    "for n in lvl5.nodes():\n",
    "    C.add_node(n)\n",
    "for e in lvl5.edges():\n",
    "    C.add_edge(e[0], e[1])\n",
    "C.show('island5.html')"
   ]
  },
  {
   "cell_type": "code",
   "execution_count": 27,
   "id": "collect-rotation",
   "metadata": {},
   "outputs": [
    {
     "data": {
      "text/html": [
       "<div>\n",
       "<style scoped>\n",
       "    .dataframe tbody tr th:only-of-type {\n",
       "        vertical-align: middle;\n",
       "    }\n",
       "\n",
       "    .dataframe tbody tr th {\n",
       "        vertical-align: top;\n",
       "    }\n",
       "\n",
       "    .dataframe thead th {\n",
       "        text-align: right;\n",
       "    }\n",
       "</style>\n",
       "<table border=\"1\" class=\"dataframe\">\n",
       "  <thead>\n",
       "    <tr style=\"text-align: right;\">\n",
       "      <th></th>\n",
       "      <th>0</th>\n",
       "      <th>1</th>\n",
       "      <th>2</th>\n",
       "    </tr>\n",
       "  </thead>\n",
       "  <tbody>\n",
       "    <tr>\n",
       "      <th>0</th>\n",
       "      <td>Unknown</td>\n",
       "      <td>Muslim extremists</td>\n",
       "      <td>ISIS network:  Islamic State of Iraq and the L...</td>\n",
       "    </tr>\n",
       "    <tr>\n",
       "      <th>1</th>\n",
       "      <td>Unknown</td>\n",
       "      <td>Muslim extremists</td>\n",
       "      <td>Gunmen</td>\n",
       "    </tr>\n",
       "    <tr>\n",
       "      <th>2</th>\n",
       "      <td>Unknown</td>\n",
       "      <td>Muslim extremists</td>\n",
       "      <td>Islamist extremists</td>\n",
       "    </tr>\n",
       "  </tbody>\n",
       "</table>\n",
       "</div>"
      ],
      "text/plain": [
       "         0                  1  \\\n",
       "0  Unknown  Muslim extremists   \n",
       "1  Unknown  Muslim extremists   \n",
       "2  Unknown  Muslim extremists   \n",
       "\n",
       "                                                   2  \n",
       "0  ISIS network:  Islamic State of Iraq and the L...  \n",
       "1                                             Gunmen  \n",
       "2                                Islamist extremists  "
      ]
     },
     "execution_count": 27,
     "metadata": {},
     "output_type": "execute_result"
    }
   ],
   "source": [
    "eco = bipartite.weighted_projected_graph(G, orgs)\n",
    "eco5 =  trim_edges(eco, weight = 5)\n",
    "cliques = pd.DataFrame(nx.find_cliques(eco5))\n",
    "cliques"
   ]
  },
  {
   "cell_type": "code",
   "execution_count": 28,
   "id": "excess-oasis",
   "metadata": {},
   "outputs": [
    {
     "name": "stdout",
     "output_type": "stream",
     "text": [
      "Name: \n",
      "Type: Graph\n",
      "Number of nodes: 5\n",
      "Number of edges: 7\n",
      "Average degree:   2.8000\n"
     ]
    }
   ],
   "source": [
    "print(nx.info(eco5))"
   ]
  },
  {
   "cell_type": "code",
   "execution_count": 29,
   "id": "phantom-shaft",
   "metadata": {},
   "outputs": [
    {
     "data": {
      "text/html": [
       "\n",
       "        <iframe\n",
       "            width=\"1000px\"\n",
       "            height=\"1000px\"\n",
       "            src=\"island6.html\"\n",
       "            frameborder=\"0\"\n",
       "            allowfullscreen\n",
       "        ></iframe>\n",
       "        "
      ],
      "text/plain": [
       "<IPython.lib.display.IFrame at 0x1ca80fd2fc8>"
      ]
     },
     "execution_count": 29,
     "metadata": {},
     "output_type": "execute_result"
    }
   ],
   "source": [
    "C = Network(height='1000px',\n",
    "            width='1000px',\n",
    "            bgcolor='#222222', \n",
    "            font_color='white', \n",
    "            notebook=True)\n",
    "\n",
    "C.barnes_hut()\n",
    "for n in lvl6.nodes():\n",
    "    C.add_node(n)\n",
    "for e in lvl6.edges():\n",
    "    C.add_edge(e[0], e[1])\n",
    "C.show('island6.html')"
   ]
  },
  {
   "cell_type": "code",
   "execution_count": 30,
   "id": "ahead-stable",
   "metadata": {},
   "outputs": [
    {
     "name": "stdout",
     "output_type": "stream",
     "text": [
      "Name: \n",
      "Type: Graph\n",
      "Number of nodes: 2\n",
      "Number of edges: 1\n",
      "Average degree:   1.0000\n"
     ]
    }
   ],
   "source": [
    "eco = bipartite.weighted_projected_graph(G, orgs)\n",
    "eco6 =  trim_edges(eco, weight = 6)\n",
    "print(nx.info(eco6))"
   ]
  },
  {
   "cell_type": "markdown",
   "id": "varying-coating",
   "metadata": {},
   "source": [
    "We finally get down to the strongest nodes. However, as unknown, by it's very nature is 'unknown', we are left with only one group who has the strongest connection to all the other groups: Muslim Extremists.  "
   ]
  },
  {
   "cell_type": "markdown",
   "id": "tested-formation",
   "metadata": {},
   "source": [
    "## Countries"
   ]
  },
  {
   "cell_type": "markdown",
   "id": "corresponding-bones",
   "metadata": {},
   "source": [
    "Next, as this is a dual mode network, we wanted to take a quick flip and analyze the the network from the other perspective.  Focusing on country instead of the groups, we can see which countries start to be the heaviest influencers in the terror groups.     "
   ]
  },
  {
   "cell_type": "code",
   "execution_count": 31,
   "id": "educational-argentina",
   "metadata": {},
   "outputs": [],
   "source": [
    "country = [node for node in G.nodes() if node in ter_df.country_txt.unique()]"
   ]
  },
  {
   "cell_type": "code",
   "execution_count": 32,
   "id": "elementary-customs",
   "metadata": {},
   "outputs": [],
   "source": [
    "V = bipartite.weighted_projected_graph(G, country)"
   ]
  },
  {
   "cell_type": "code",
   "execution_count": 33,
   "id": "tender-restriction",
   "metadata": {},
   "outputs": [
    {
     "data": {
      "text/html": [
       "\n",
       "        <iframe\n",
       "            width=\"1000px\"\n",
       "            height=\"1000px\"\n",
       "            src=\"network_3.html\"\n",
       "            frameborder=\"0\"\n",
       "            allowfullscreen\n",
       "        ></iframe>\n",
       "        "
      ],
      "text/plain": [
       "<IPython.lib.display.IFrame at 0x1ca82a7ab08>"
      ]
     },
     "execution_count": 33,
     "metadata": {},
     "output_type": "execute_result"
    }
   ],
   "source": [
    "C = Network(height='1000px',\n",
    "            width='1000px',\n",
    "            bgcolor='#222222', \n",
    "            font_color='white', \n",
    "            notebook=True)\n",
    "\n",
    "C.barnes_hut()\n",
    "for n in V.nodes():\n",
    "    C.add_node(n)\n",
    "for e in V.edges():\n",
    "    C.add_edge(e[0], e[1])\n",
    "C.show('network_3.html')"
   ]
  },
  {
   "cell_type": "code",
   "execution_count": 34,
   "id": "confident-thread",
   "metadata": {},
   "outputs": [],
   "source": [
    "CV = list(nx.connected_component_subgraphs(V))[0]\n",
    "islands=island_method(CV, 3)"
   ]
  },
  {
   "cell_type": "code",
   "execution_count": 35,
   "id": "spread-stone",
   "metadata": {},
   "outputs": [
    {
     "name": "stdout",
     "output_type": "stream",
     "text": [
      "2 8 1\n",
      "7 6 1\n",
      "12 2 1\n",
      "17 2 1\n"
     ]
    }
   ],
   "source": [
    "for i in islands:\n",
    "    # print the threshold level, size of the graph, and number of connected components\n",
    "    print(i[0], len(i[1]), len(list(nx.connected_component_subgraphs(i[1]))))"
   ]
  },
  {
   "cell_type": "markdown",
   "id": "intensive-portrait",
   "metadata": {},
   "source": [
    "The first island is the same as the weighted projection above.  We have chosen to skip it and move to level 2 and 3.  Some interesting differences between the islands and the cliques start to emerge.  "
   ]
  },
  {
   "cell_type": "code",
   "execution_count": 36,
   "id": "individual-highway",
   "metadata": {},
   "outputs": [],
   "source": [
    "lvl1 = islands[0][1]\n",
    "lvl2 = islands[1][1]\n",
    "lvl3 = islands[2][1]"
   ]
  },
  {
   "cell_type": "code",
   "execution_count": 37,
   "id": "ordered-dressing",
   "metadata": {},
   "outputs": [
    {
     "data": {
      "text/html": [
       "\n",
       "        <iframe\n",
       "            width=\"1000px\"\n",
       "            height=\"1000px\"\n",
       "            src=\"C_island2.html\"\n",
       "            frameborder=\"0\"\n",
       "            allowfullscreen\n",
       "        ></iframe>\n",
       "        "
      ],
      "text/plain": [
       "<IPython.lib.display.IFrame at 0x1ca809a68c8>"
      ]
     },
     "execution_count": 37,
     "metadata": {},
     "output_type": "execute_result"
    }
   ],
   "source": [
    "C = Network(height='1000px',\n",
    "            width='1000px',\n",
    "            bgcolor='#222222', \n",
    "            font_color='white', \n",
    "            notebook=True)\n",
    "\n",
    "C.barnes_hut()\n",
    "for n in lvl2.nodes():\n",
    "    C.add_node(n)\n",
    "for e in lvl2.edges():\n",
    "    C.add_edge(e[0], e[1])\n",
    "C.show('C_island2.html')"
   ]
  },
  {
   "cell_type": "code",
   "execution_count": 38,
   "id": "exciting-material",
   "metadata": {},
   "outputs": [
    {
     "data": {
      "text/html": [
       "<div>\n",
       "<style scoped>\n",
       "    .dataframe tbody tr th:only-of-type {\n",
       "        vertical-align: middle;\n",
       "    }\n",
       "\n",
       "    .dataframe tbody tr th {\n",
       "        vertical-align: top;\n",
       "    }\n",
       "\n",
       "    .dataframe thead th {\n",
       "        text-align: right;\n",
       "    }\n",
       "</style>\n",
       "<table border=\"1\" class=\"dataframe\">\n",
       "  <thead>\n",
       "    <tr style=\"text-align: right;\">\n",
       "      <th></th>\n",
       "      <th>0</th>\n",
       "      <th>1</th>\n",
       "      <th>2</th>\n",
       "      <th>3</th>\n",
       "      <th>4</th>\n",
       "      <th>5</th>\n",
       "      <th>6</th>\n",
       "    </tr>\n",
       "  </thead>\n",
       "  <tbody>\n",
       "    <tr>\n",
       "      <th>0</th>\n",
       "      <td>Jordan</td>\n",
       "      <td>Iraq</td>\n",
       "      <td>Pakistan</td>\n",
       "      <td>Turkey</td>\n",
       "      <td>Lebanon</td>\n",
       "      <td>Syria</td>\n",
       "      <td>Iran</td>\n",
       "    </tr>\n",
       "    <tr>\n",
       "      <th>1</th>\n",
       "      <td>Jordan</td>\n",
       "      <td>Iraq</td>\n",
       "      <td>Pakistan</td>\n",
       "      <td>Turkey</td>\n",
       "      <td>Lebanon</td>\n",
       "      <td>Syria</td>\n",
       "      <td>Afghanistan</td>\n",
       "    </tr>\n",
       "  </tbody>\n",
       "</table>\n",
       "</div>"
      ],
      "text/plain": [
       "        0     1         2       3        4      5            6\n",
       "0  Jordan  Iraq  Pakistan  Turkey  Lebanon  Syria         Iran\n",
       "1  Jordan  Iraq  Pakistan  Turkey  Lebanon  Syria  Afghanistan"
      ]
     },
     "execution_count": 38,
     "metadata": {},
     "output_type": "execute_result"
    }
   ],
   "source": [
    "eco = bipartite.weighted_projected_graph(G, country)\n",
    "eco2c =  trim_edges(eco, weight = 2)\n",
    "cliques = pd.DataFrame(nx.find_cliques(eco2c))\n",
    "cliques"
   ]
  },
  {
   "cell_type": "code",
   "execution_count": 39,
   "id": "random-bachelor",
   "metadata": {},
   "outputs": [
    {
     "name": "stdout",
     "output_type": "stream",
     "text": [
      "Name: \n",
      "Type: Graph\n",
      "Number of nodes: 8\n",
      "Number of edges: 27\n",
      "Average degree:   6.7500\n"
     ]
    }
   ],
   "source": [
    "print(nx.info(eco2c))"
   ]
  },
  {
   "cell_type": "markdown",
   "id": "freelance-insulin",
   "metadata": {},
   "source": [
    "Remember as stated earlier, cliques are a measure of cohesion between groups.  The strength of the cohesiveness is measured or adjusted by levels.  Here we have a clear example of a clique which does not follow the island.  Jordan is not part of the Level 2 island but still has a strong cohesion to tie to these countries.  "
   ]
  },
  {
   "cell_type": "code",
   "execution_count": 40,
   "id": "silver-harvey",
   "metadata": {},
   "outputs": [
    {
     "data": {
      "text/html": [
       "\n",
       "        <iframe\n",
       "            width=\"1000px\"\n",
       "            height=\"1000px\"\n",
       "            src=\"island3.html\"\n",
       "            frameborder=\"0\"\n",
       "            allowfullscreen\n",
       "        ></iframe>\n",
       "        "
      ],
      "text/plain": [
       "<IPython.lib.display.IFrame at 0x1ca819e4688>"
      ]
     },
     "execution_count": 40,
     "metadata": {},
     "output_type": "execute_result"
    }
   ],
   "source": [
    "C = Network(height='1000px',\n",
    "            width='1000px',\n",
    "            bgcolor='#222222', \n",
    "            font_color='white', \n",
    "            notebook=True)\n",
    "\n",
    "C.barnes_hut()\n",
    "for n in lvl3.nodes():\n",
    "    C.add_node(n)\n",
    "for e in lvl3.edges():\n",
    "    C.add_edge(e[0], e[1])\n",
    "C.show('island3.html')"
   ]
  },
  {
   "cell_type": "code",
   "execution_count": 41,
   "id": "stunning-knitting",
   "metadata": {},
   "outputs": [
    {
     "data": {
      "text/html": [
       "<div>\n",
       "<style scoped>\n",
       "    .dataframe tbody tr th:only-of-type {\n",
       "        vertical-align: middle;\n",
       "    }\n",
       "\n",
       "    .dataframe tbody tr th {\n",
       "        vertical-align: top;\n",
       "    }\n",
       "\n",
       "    .dataframe thead th {\n",
       "        text-align: right;\n",
       "    }\n",
       "</style>\n",
       "<table border=\"1\" class=\"dataframe\">\n",
       "  <thead>\n",
       "    <tr style=\"text-align: right;\">\n",
       "      <th></th>\n",
       "      <th>0</th>\n",
       "      <th>1</th>\n",
       "      <th>2</th>\n",
       "      <th>3</th>\n",
       "      <th>4</th>\n",
       "      <th>5</th>\n",
       "    </tr>\n",
       "  </thead>\n",
       "  <tbody>\n",
       "    <tr>\n",
       "      <th>0</th>\n",
       "      <td>Iraq</td>\n",
       "      <td>Pakistan</td>\n",
       "      <td>Turkey</td>\n",
       "      <td>Lebanon</td>\n",
       "      <td>Afghanistan</td>\n",
       "      <td>None</td>\n",
       "    </tr>\n",
       "    <tr>\n",
       "      <th>1</th>\n",
       "      <td>Iraq</td>\n",
       "      <td>Pakistan</td>\n",
       "      <td>Turkey</td>\n",
       "      <td>Lebanon</td>\n",
       "      <td>Syria</td>\n",
       "      <td>Iran</td>\n",
       "    </tr>\n",
       "    <tr>\n",
       "      <th>2</th>\n",
       "      <td>Iraq</td>\n",
       "      <td>Pakistan</td>\n",
       "      <td>Turkey</td>\n",
       "      <td>Lebanon</td>\n",
       "      <td>Syria</td>\n",
       "      <td>Jordan</td>\n",
       "    </tr>\n",
       "  </tbody>\n",
       "</table>\n",
       "</div>"
      ],
      "text/plain": [
       "      0         1       2        3            4       5\n",
       "0  Iraq  Pakistan  Turkey  Lebanon  Afghanistan    None\n",
       "1  Iraq  Pakistan  Turkey  Lebanon        Syria    Iran\n",
       "2  Iraq  Pakistan  Turkey  Lebanon        Syria  Jordan"
      ]
     },
     "execution_count": 41,
     "metadata": {},
     "output_type": "execute_result"
    }
   ],
   "source": [
    "eco = bipartite.weighted_projected_graph(G, country)\n",
    "eco3c =  trim_edges(eco, weight = 3)\n",
    "cliques = pd.DataFrame(nx.find_cliques(eco3c))\n",
    "cliques"
   ]
  },
  {
   "cell_type": "markdown",
   "id": "collective-destiny",
   "metadata": {},
   "source": [
    "Finally, we can reach the conclusion, Afghanistan and Pakistan are the central countries of these terror groups.  "
   ]
  },
  {
   "cell_type": "markdown",
   "id": "corporate-insulation",
   "metadata": {},
   "source": [
    "## Final thoughts"
   ]
  },
  {
   "cell_type": "markdown",
   "id": "broad-oasis",
   "metadata": {},
   "source": [
    "Enter more thoughts and wrap up."
   ]
  }
 ],
 "metadata": {
  "hide_input": false,
  "kernelspec": {
   "display_name": "Python 3",
   "language": "python",
   "name": "python3"
  },
  "language_info": {
   "codemirror_mode": {
    "name": "ipython",
    "version": 3
   },
   "file_extension": ".py",
   "mimetype": "text/x-python",
   "name": "python",
   "nbconvert_exporter": "python",
   "pygments_lexer": "ipython3",
   "version": "3.7.9"
  }
 },
 "nbformat": 4,
 "nbformat_minor": 5
}
