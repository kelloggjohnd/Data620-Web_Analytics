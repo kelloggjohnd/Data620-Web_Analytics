{
 "cells": [
  {
   "cell_type": "markdown",
   "id": "liquid-trade",
   "metadata": {},
   "source": [
    "# Project One - Global Terrorism Data\n",
    "---\n",
    "Jeff Shamp, John Kellogg, Grace Han - CUNY MSDS 620 - Spring 2021"
   ]
  },
  {
   "cell_type": "code",
   "execution_count": 1,
   "id": "physical-diploma",
   "metadata": {},
   "outputs": [],
   "source": [
    "import pandas as pd\n",
    "import numpy as np\n",
    "import networkx as nx\n",
    "import matplotlib.pyplot as plt\n",
    "import seaborn as sns\n",
    "import warnings\n",
    "warnings.filterwarnings('ignore')"
   ]
  },
  {
   "cell_type": "code",
   "execution_count": 2,
   "id": "iraqi-valentine",
   "metadata": {},
   "outputs": [],
   "source": [
    "df=pd.read_csv('./global_terror_data_proj_1.csv')"
   ]
  },
  {
   "cell_type": "markdown",
   "id": "specialized-issue",
   "metadata": {},
   "source": [
    "## Purpose"
   ]
  },
  {
   "cell_type": "markdown",
   "id": "affecting-senior",
   "metadata": {},
   "source": [
    "Covert Networks and Terror networks are some of the most interesting data networks currently analyzed.  Finding links and networks within this data not only helps us understand the the past but helps us plan for future events.  Terrorism is not going away, digging into this data researchers learn where we are vulnerable and where enhanced security may be needed.    "
   ]
  },
  {
   "cell_type": "markdown",
   "id": "animated-custody",
   "metadata": {},
   "source": [
    "## Data"
   ]
  },
  {
   "cell_type": "markdown",
   "id": "exotic-aquarium",
   "metadata": {},
   "source": [
    "The data is from Global Terrorism Database (GTD) at the University of Maryland.\n",
    "More information about the database, please visit the UMD [GTD Site](!https://www.start.umd.edu/gtd/).\n",
    "\n",
    "\n",
    "The GTD “is an open-source database including information on domestic and international terrorist attacks around the world from 1970 through 2019, and now includes more than 200,000 cases”. For each event, the team gather as much data as possible to include:\n",
    "* Date and location of the incident\n",
    "* The weapons used and nature of the target\n",
    "* The number of casualties\n",
    "* When identifiable – the group or individual responsible\n",
    "\n",
    "We will subset this database to only the necessary columns for this project as well as \n",
    "subset the start year to 1985 to make the data set more manageable. "
   ]
  },
  {
   "cell_type": "markdown",
   "id": "concerned-portal",
   "metadata": {},
   "source": [
    "## Country, Attack, Target"
   ]
  },
  {
   "cell_type": "markdown",
   "id": "small-workplace",
   "metadata": {},
   "source": [
    "The first network we will analyze will be comprised of the country in which an act of terror takes place, the attach type (bombing, assassination, etc), and the target of the attack (government building, private citizens, etc). For this project, the categorical information will the the target type. "
   ]
  },
  {
   "cell_type": "code",
   "execution_count": 3,
   "id": "adjacent-quebec",
   "metadata": {},
   "outputs": [
    {
     "data": {
      "text/html": [
       "<div>\n",
       "<style scoped>\n",
       "    .dataframe tbody tr th:only-of-type {\n",
       "        vertical-align: middle;\n",
       "    }\n",
       "\n",
       "    .dataframe tbody tr th {\n",
       "        vertical-align: top;\n",
       "    }\n",
       "\n",
       "    .dataframe thead th {\n",
       "        text-align: right;\n",
       "    }\n",
       "</style>\n",
       "<table border=\"1\" class=\"dataframe\">\n",
       "  <thead>\n",
       "    <tr style=\"text-align: right;\">\n",
       "      <th></th>\n",
       "      <th>country_txt</th>\n",
       "      <th>attacktype1_txt</th>\n",
       "      <th>attacktype1</th>\n",
       "      <th>targtype1_txt</th>\n",
       "    </tr>\n",
       "  </thead>\n",
       "  <tbody>\n",
       "    <tr>\n",
       "      <th>0</th>\n",
       "      <td>Sweden</td>\n",
       "      <td>Armed Assault</td>\n",
       "      <td>2</td>\n",
       "      <td>Government (General)</td>\n",
       "    </tr>\n",
       "    <tr>\n",
       "      <th>1</th>\n",
       "      <td>West Germany (FRG)</td>\n",
       "      <td>Bombing/Explosion</td>\n",
       "      <td>3</td>\n",
       "      <td>Military</td>\n",
       "    </tr>\n",
       "    <tr>\n",
       "      <th>2</th>\n",
       "      <td>France</td>\n",
       "      <td>Unknown</td>\n",
       "      <td>9</td>\n",
       "      <td>Police</td>\n",
       "    </tr>\n",
       "    <tr>\n",
       "      <th>3</th>\n",
       "      <td>France</td>\n",
       "      <td>Unknown</td>\n",
       "      <td>9</td>\n",
       "      <td>Unknown</td>\n",
       "    </tr>\n",
       "    <tr>\n",
       "      <th>4</th>\n",
       "      <td>France</td>\n",
       "      <td>Unknown</td>\n",
       "      <td>9</td>\n",
       "      <td>Unknown</td>\n",
       "    </tr>\n",
       "  </tbody>\n",
       "</table>\n",
       "</div>"
      ],
      "text/plain": [
       "          country_txt    attacktype1_txt  attacktype1         targtype1_txt\n",
       "0              Sweden      Armed Assault            2  Government (General)\n",
       "1  West Germany (FRG)  Bombing/Explosion            3              Military\n",
       "2              France            Unknown            9                Police\n",
       "3              France            Unknown            9               Unknown\n",
       "4              France            Unknown            9               Unknown"
      ]
     },
     "execution_count": 3,
     "metadata": {},
     "output_type": "execute_result"
    }
   ],
   "source": [
    "#subsetting the data to required columns\n",
    "ter_df = df[[\"country_txt\", \"attacktype1_txt\", \"attacktype1\", \"targtype1_txt\"]]\n",
    "ter_df.head()"
   ]
  },
  {
   "cell_type": "markdown",
   "id": "broken-sending",
   "metadata": {},
   "source": [
    "The initial columns we are going to look at are Country, Attack Type, and Target Type.  Our goal is to find the links between    what attacks happen to a country and what types of sites are hit.  With some very basic information of the constructed network, we can continue. "
   ]
  },
  {
   "cell_type": "code",
   "execution_count": 4,
   "id": "changed-springfield",
   "metadata": {},
   "outputs": [
    {
     "name": "stdout",
     "output_type": "stream",
     "text": [
      "Name: \n",
      "Type: Graph\n",
      "Number of nodes: 204\n",
      "Number of edges: 1226\n",
      "Average degree:  12.0196\n"
     ]
    }
   ],
   "source": [
    "G=nx.from_pandas_dataframe(ter_df, \"country_txt\", \"attacktype1_txt\", \"targtype1_txt\")\n",
    "print (nx.info(G))"
   ]
  },
  {
   "cell_type": "markdown",
   "id": "based-cruise",
   "metadata": {},
   "source": [
    "The dataset does have a large degree between the nodes, however, this is expected.  We are casting a large net across a lot of countries.  As we need to bring down those stats, next, we will subset the data to active war zones in the middle east, focusing on areas where the United States was involved. "
   ]
  },
  {
   "cell_type": "code",
   "execution_count": 5,
   "id": "armed-adelaide",
   "metadata": {},
   "outputs": [
    {
     "data": {
      "text/html": [
       "<div>\n",
       "<style scoped>\n",
       "    .dataframe tbody tr th:only-of-type {\n",
       "        vertical-align: middle;\n",
       "    }\n",
       "\n",
       "    .dataframe tbody tr th {\n",
       "        vertical-align: top;\n",
       "    }\n",
       "\n",
       "    .dataframe thead th {\n",
       "        text-align: right;\n",
       "    }\n",
       "</style>\n",
       "<table border=\"1\" class=\"dataframe\">\n",
       "  <thead>\n",
       "    <tr style=\"text-align: right;\">\n",
       "      <th></th>\n",
       "      <th>country_txt</th>\n",
       "      <th>attacktype1_txt</th>\n",
       "      <th>attacktype1</th>\n",
       "      <th>targtype1_txt</th>\n",
       "    </tr>\n",
       "  </thead>\n",
       "  <tbody>\n",
       "    <tr>\n",
       "      <th>16</th>\n",
       "      <td>Israel</td>\n",
       "      <td>Bombing/Explosion</td>\n",
       "      <td>3</td>\n",
       "      <td>Government (General)</td>\n",
       "    </tr>\n",
       "    <tr>\n",
       "      <th>17</th>\n",
       "      <td>Israel</td>\n",
       "      <td>Bombing/Explosion</td>\n",
       "      <td>3</td>\n",
       "      <td>Private Citizens &amp; Property</td>\n",
       "    </tr>\n",
       "    <tr>\n",
       "      <th>268</th>\n",
       "      <td>Iran</td>\n",
       "      <td>Bombing/Explosion</td>\n",
       "      <td>3</td>\n",
       "      <td>Private Citizens &amp; Property</td>\n",
       "    </tr>\n",
       "    <tr>\n",
       "      <th>506</th>\n",
       "      <td>Iran</td>\n",
       "      <td>Bombing/Explosion</td>\n",
       "      <td>3</td>\n",
       "      <td>Government (General)</td>\n",
       "    </tr>\n",
       "    <tr>\n",
       "      <th>979</th>\n",
       "      <td>Iran</td>\n",
       "      <td>Bombing/Explosion</td>\n",
       "      <td>3</td>\n",
       "      <td>Private Citizens &amp; Property</td>\n",
       "    </tr>\n",
       "  </tbody>\n",
       "</table>\n",
       "</div>"
      ],
      "text/plain": [
       "    country_txt    attacktype1_txt  attacktype1                targtype1_txt\n",
       "16       Israel  Bombing/Explosion            3         Government (General)\n",
       "17       Israel  Bombing/Explosion            3  Private Citizens & Property\n",
       "268        Iran  Bombing/Explosion            3  Private Citizens & Property\n",
       "506        Iran  Bombing/Explosion            3         Government (General)\n",
       "979        Iran  Bombing/Explosion            3  Private Citizens & Property"
      ]
     },
     "execution_count": 5,
     "metadata": {},
     "output_type": "execute_result"
    }
   ],
   "source": [
    "us_involved = [\"Syria\", \"Turkey\", \"Iraq\",\"Jordan\", \n",
    "               \"Pakistan\", \"Afghanistan\", \"Israel\", \"Iran\"]\n",
    "ter_df_2 =  ter_df[ter_df.country_txt.isin(us_involved)]\n",
    "G=nx.from_pandas_dataframe(ter_df_2,\n",
    "                               \"country_txt\", \n",
    "                               \"attacktype1_txt\",\n",
    "                               \"targtype1_txt\")\n",
    "ter_df_2.head()"
   ]
  },
  {
   "cell_type": "markdown",
   "id": "numerical-democrat",
   "metadata": {},
   "source": [
    "This is a fairly large network so viewing it in matplotlib can burdensome. To visualize the network using pyvis please set the below variable `view_pyvis` to `True`. We will further subset the data to make a more viewbale network in following cells."
   ]
  },
  {
   "cell_type": "code",
   "execution_count": 6,
   "id": "strange-diamond",
   "metadata": {},
   "outputs": [],
   "source": [
    "view_pyvis = False"
   ]
  },
  {
   "cell_type": "code",
   "execution_count": 7,
   "id": "packed-gnome",
   "metadata": {},
   "outputs": [],
   "source": [
    "if view_pyvis:\n",
    "    N_2 = net.Network(bgcolor='#222222',\n",
    "                      font_color='white',\n",
    "                      height='1000px',\n",
    "                      width='1000px',\n",
    "                      notebook=True)\n",
    "    N_2.barnes_hut()\n",
    "    for n in G.nodes():\n",
    "        N_2.add_node(n)\n",
    "    for e in G.edges():\n",
    "        N_2.add_edge(e[0], e[1])\n",
    "    N_2.show('active_.html')"
   ]
  },
  {
   "cell_type": "markdown",
   "id": "identified-criticism",
   "metadata": {},
   "source": [
    "### Centrality and Target Type"
   ]
  },
  {
   "cell_type": "markdown",
   "id": "natural-queue",
   "metadata": {},
   "source": [
    "Next we will look at a few centrality measures of the nodes. First, we will look at the eigenvector centrality, which is a measure of how well connected a node is to other nodes. "
   ]
  },
  {
   "cell_type": "code",
   "execution_count": 8,
   "id": "defensive-prompt",
   "metadata": {},
   "outputs": [],
   "source": [
    "node_1 = [node[0] for node in G.edges()]\n",
    "node_2 = [node[1] for node in G.edges()]\n",
    "attr_node = [G.get_edge_data(G.edges()[i][0],\n",
    "                             G.edges()[i][1])['targtype1_txt']\n",
    "            for i in range(len(G.edges()))]\n",
    "data = zip(node_1, node_2, attr_node)\n",
    "test_df = pd.DataFrame(data=data,\n",
    "                      columns= [\"source\", \"target\", \"type\"])"
   ]
  },
  {
   "cell_type": "code",
   "execution_count": 9,
   "id": "vanilla-parcel",
   "metadata": {},
   "outputs": [
    {
     "data": {
      "text/html": [
       "<div>\n",
       "<style scoped>\n",
       "    .dataframe tbody tr th:only-of-type {\n",
       "        vertical-align: middle;\n",
       "    }\n",
       "\n",
       "    .dataframe tbody tr th {\n",
       "        vertical-align: top;\n",
       "    }\n",
       "\n",
       "    .dataframe thead th {\n",
       "        text-align: right;\n",
       "    }\n",
       "</style>\n",
       "<table border=\"1\" class=\"dataframe\">\n",
       "  <thead>\n",
       "    <tr style=\"text-align: right;\">\n",
       "      <th></th>\n",
       "      <th>node</th>\n",
       "      <th>eigen_central</th>\n",
       "    </tr>\n",
       "  </thead>\n",
       "  <tbody>\n",
       "    <tr>\n",
       "      <th>0</th>\n",
       "      <td>Pakistan</td>\n",
       "      <td>0.265242</td>\n",
       "    </tr>\n",
       "    <tr>\n",
       "      <th>1</th>\n",
       "      <td>Turkey</td>\n",
       "      <td>0.265242</td>\n",
       "    </tr>\n",
       "    <tr>\n",
       "      <th>2</th>\n",
       "      <td>Syria</td>\n",
       "      <td>0.265242</td>\n",
       "    </tr>\n",
       "    <tr>\n",
       "      <th>3</th>\n",
       "      <td>Iraq</td>\n",
       "      <td>0.265242</td>\n",
       "    </tr>\n",
       "    <tr>\n",
       "      <th>4</th>\n",
       "      <td>Afghanistan</td>\n",
       "      <td>0.265242</td>\n",
       "    </tr>\n",
       "    <tr>\n",
       "      <th>5</th>\n",
       "      <td>Facility/Infrastructure Attack</td>\n",
       "      <td>0.249362</td>\n",
       "    </tr>\n",
       "    <tr>\n",
       "      <th>6</th>\n",
       "      <td>Unknown</td>\n",
       "      <td>0.249362</td>\n",
       "    </tr>\n",
       "    <tr>\n",
       "      <th>7</th>\n",
       "      <td>Bombing/Explosion</td>\n",
       "      <td>0.249362</td>\n",
       "    </tr>\n",
       "    <tr>\n",
       "      <th>8</th>\n",
       "      <td>Assassination</td>\n",
       "      <td>0.249362</td>\n",
       "    </tr>\n",
       "    <tr>\n",
       "      <th>9</th>\n",
       "      <td>Armed Assault</td>\n",
       "      <td>0.249362</td>\n",
       "    </tr>\n",
       "  </tbody>\n",
       "</table>\n",
       "</div>"
      ],
      "text/plain": [
       "                             node  eigen_central\n",
       "0                        Pakistan       0.265242\n",
       "1                          Turkey       0.265242\n",
       "2                           Syria       0.265242\n",
       "3                            Iraq       0.265242\n",
       "4                     Afghanistan       0.265242\n",
       "5  Facility/Infrastructure Attack       0.249362\n",
       "6                         Unknown       0.249362\n",
       "7               Bombing/Explosion       0.249362\n",
       "8                   Assassination       0.249362\n",
       "9                   Armed Assault       0.249362"
      ]
     },
     "execution_count": 9,
     "metadata": {},
     "output_type": "execute_result"
    }
   ],
   "source": [
    "eigen_G = nx.eigenvector_centrality_numpy(G)\n",
    "eigen_sort = sorted(eigen_G.items(),\n",
    "       key=lambda x:x[1],\n",
    "       reverse=True)\n",
    "eigen_df = pd.DataFrame(eigen_sort, \n",
    "                        columns=['node', 'eigen_central'])\n",
    "eigen_df[['node', 'eigen_central']][:10]"
   ]
  },
  {
   "cell_type": "markdown",
   "id": "hearing-priority",
   "metadata": {},
   "source": [
    "Here we see that the countries that are active participants in war are the most central, and that they are tied in eigenvector centrality. One possible exception being Pakistan. It seems the pourous border between Pakistan and Afghanistan, or Syria/Iraq and Turkey might indicate more likely terrorist activities. We should note that this is not the case for all countries. Countries like, Iran, Israel, and Jordan are much further down the list, which makes sense given that they are _less_ involved in the current conflict."
   ]
  },
  {
   "cell_type": "code",
   "execution_count": 10,
   "id": "worse-march",
   "metadata": {},
   "outputs": [],
   "source": [
    "eigen_list = eigen_df[eigen_df.eigen_central >= .24].node.to_list()\n",
    "eigen_plot_df = test_df[test_df.source.isin(eigen_list)] "
   ]
  },
  {
   "cell_type": "markdown",
   "id": "bridal-working",
   "metadata": {},
   "source": [
    "If we filter the network for the most central nodes in this analysis and plot the counts of there respective target type category will see the following."
   ]
  },
  {
   "cell_type": "code",
   "execution_count": 11,
   "id": "included-norman",
   "metadata": {},
   "outputs": [
    {
     "data": {
      "image/png": "[encoded data removed]",
      "text/plain": [
       "<Figure size 1008x432 with 1 Axes>"
      ]
     },
     "metadata": {
      "needs_background": "light"
     },
     "output_type": "display_data"
    }
   ],
   "source": [
    "plt.figure(figsize=(14,6))\n",
    "sns.countplot(data=eigen_plot_df, \n",
    "              x='type',\n",
    "              palette='viridis',\n",
    "              order=test_df.type.value_counts().index)\n",
    "plt.xticks(rotation=90)\n",
    "plt.title(\"Count of Target Type Category for the most Central Nodes\")\n",
    "plt.show()"
   ]
  },
  {
   "cell_type": "markdown",
   "id": "threaded-search",
   "metadata": {},
   "source": [
    "Attacks against private citizens, the military, and the government make up the three most common target type. "
   ]
  },
  {
   "cell_type": "markdown",
   "id": "matched-organization",
   "metadata": {},
   "source": [
    "### Degree Centrality"
   ]
  },
  {
   "cell_type": "markdown",
   "id": "above-closer",
   "metadata": {},
   "source": [
    "We will run a similar analysis using degree centrality and compare the results."
   ]
  },
  {
   "cell_type": "code",
   "execution_count": 12,
   "id": "unlimited-chance",
   "metadata": {},
   "outputs": [
    {
     "data": {
      "text/html": [
       "<div>\n",
       "<style scoped>\n",
       "    .dataframe tbody tr th:only-of-type {\n",
       "        vertical-align: middle;\n",
       "    }\n",
       "\n",
       "    .dataframe tbody tr th {\n",
       "        vertical-align: top;\n",
       "    }\n",
       "\n",
       "    .dataframe thead th {\n",
       "        text-align: right;\n",
       "    }\n",
       "</style>\n",
       "<table border=\"1\" class=\"dataframe\">\n",
       "  <thead>\n",
       "    <tr style=\"text-align: right;\">\n",
       "      <th></th>\n",
       "      <th>node</th>\n",
       "      <th>degree_central</th>\n",
       "    </tr>\n",
       "  </thead>\n",
       "  <tbody>\n",
       "    <tr>\n",
       "      <th>0</th>\n",
       "      <td>Pakistan</td>\n",
       "      <td>0.5625</td>\n",
       "    </tr>\n",
       "    <tr>\n",
       "      <th>1</th>\n",
       "      <td>Turkey</td>\n",
       "      <td>0.5625</td>\n",
       "    </tr>\n",
       "    <tr>\n",
       "      <th>2</th>\n",
       "      <td>Syria</td>\n",
       "      <td>0.5625</td>\n",
       "    </tr>\n",
       "    <tr>\n",
       "      <th>3</th>\n",
       "      <td>Afghanistan</td>\n",
       "      <td>0.5625</td>\n",
       "    </tr>\n",
       "    <tr>\n",
       "      <th>4</th>\n",
       "      <td>Iraq</td>\n",
       "      <td>0.5625</td>\n",
       "    </tr>\n",
       "    <tr>\n",
       "      <th>5</th>\n",
       "      <td>Israel</td>\n",
       "      <td>0.5000</td>\n",
       "    </tr>\n",
       "    <tr>\n",
       "      <th>7</th>\n",
       "      <td>Iran</td>\n",
       "      <td>0.5000</td>\n",
       "    </tr>\n",
       "    <tr>\n",
       "      <th>16</th>\n",
       "      <td>Jordan</td>\n",
       "      <td>0.3750</td>\n",
       "    </tr>\n",
       "  </tbody>\n",
       "</table>\n",
       "</div>"
      ],
      "text/plain": [
       "           node  degree_central\n",
       "0      Pakistan          0.5625\n",
       "1        Turkey          0.5625\n",
       "2         Syria          0.5625\n",
       "3   Afghanistan          0.5625\n",
       "4          Iraq          0.5625\n",
       "5        Israel          0.5000\n",
       "7          Iran          0.5000\n",
       "16       Jordan          0.3750"
      ]
     },
     "execution_count": 12,
     "metadata": {},
     "output_type": "execute_result"
    }
   ],
   "source": [
    "degree_G = nx.degree_centrality(G)\n",
    "degree_sort = sorted(degree_G.items(),\n",
    "      key=lambda x:x[1], \n",
    "      reverse=True)\n",
    "degree_df = pd.DataFrame(degree_sort, columns=['node', 'degree_central'])\n",
    "degree_df[degree_df.node.isin(us_involved)]"
   ]
  },
  {
   "cell_type": "code",
   "execution_count": 13,
   "id": "chronic-nigeria",
   "metadata": {},
   "outputs": [],
   "source": [
    "degree_list = degree_df[degree_df.degree_central >= 0.50].node.to_list()\n",
    "degree_plot_df = test_df[test_df.source.isin(degree_list)] "
   ]
  },
  {
   "cell_type": "code",
   "execution_count": 14,
   "id": "widespread-violation",
   "metadata": {},
   "outputs": [
    {
     "data": {
      "image/png": "[encoded data removed]",
      "text/plain": [
       "<Figure size 1008x432 with 1 Axes>"
      ]
     },
     "metadata": {
      "needs_background": "light"
     },
     "output_type": "display_data"
    }
   ],
   "source": [
    "plt.figure(figsize=(14,6))\n",
    "sns.countplot(data=degree_plot_df, \n",
    "              x='type',\n",
    "              palette='viridis',\n",
    "              order=test_df.type.value_counts().index)\n",
    "plt.xticks(rotation=90)\n",
    "plt.title(\"Count of Target Type Category for the most Central Nodes\")\n",
    "plt.show()"
   ]
  },
  {
   "cell_type": "markdown",
   "id": "hollywood-sacrifice",
   "metadata": {},
   "source": [
    "These two metrics; eigenvector centrality and degree centrality produce highly similar distributions of categorical counts. It seems as though this network is _too_ closed for a more meaningful comparison. We do see in the degree centrality are slight further lean for terror acts to be taken against private citizens instead of military installations. "
   ]
  },
  {
   "cell_type": "markdown",
   "id": "conservative-comedy",
   "metadata": {},
   "source": [
    "## Country, Group, Target"
   ]
  },
  {
   "cell_type": "markdown",
   "id": "educated-forth",
   "metadata": {},
   "source": [
    "We will now shift lenes on this and construct a different network where the nodes are countries and group that attacked that country. We will afix the same target type categorical to each node and run similar metrics."
   ]
  },
  {
   "cell_type": "code",
   "execution_count": 15,
   "id": "offensive-inspector",
   "metadata": {},
   "outputs": [
    {
     "data": {
      "text/html": [
       "<div>\n",
       "<style scoped>\n",
       "    .dataframe tbody tr th:only-of-type {\n",
       "        vertical-align: middle;\n",
       "    }\n",
       "\n",
       "    .dataframe tbody tr th {\n",
       "        vertical-align: top;\n",
       "    }\n",
       "\n",
       "    .dataframe thead th {\n",
       "        text-align: right;\n",
       "    }\n",
       "</style>\n",
       "<table border=\"1\" class=\"dataframe\">\n",
       "  <thead>\n",
       "    <tr style=\"text-align: right;\">\n",
       "      <th></th>\n",
       "      <th>country_txt</th>\n",
       "      <th>gname</th>\n",
       "      <th>targtype1_txt</th>\n",
       "    </tr>\n",
       "  </thead>\n",
       "  <tbody>\n",
       "    <tr>\n",
       "      <th>0</th>\n",
       "      <td>Sweden</td>\n",
       "      <td>Unknown</td>\n",
       "      <td>Government (General)</td>\n",
       "    </tr>\n",
       "    <tr>\n",
       "      <th>1</th>\n",
       "      <td>West Germany (FRG)</td>\n",
       "      <td>Unknown</td>\n",
       "      <td>Military</td>\n",
       "    </tr>\n",
       "    <tr>\n",
       "      <th>2</th>\n",
       "      <td>France</td>\n",
       "      <td>Unknown</td>\n",
       "      <td>Police</td>\n",
       "    </tr>\n",
       "    <tr>\n",
       "      <th>3</th>\n",
       "      <td>France</td>\n",
       "      <td>Unknown</td>\n",
       "      <td>Unknown</td>\n",
       "    </tr>\n",
       "    <tr>\n",
       "      <th>4</th>\n",
       "      <td>France</td>\n",
       "      <td>Unknown</td>\n",
       "      <td>Unknown</td>\n",
       "    </tr>\n",
       "  </tbody>\n",
       "</table>\n",
       "</div>"
      ],
      "text/plain": [
       "          country_txt    gname         targtype1_txt\n",
       "0              Sweden  Unknown  Government (General)\n",
       "1  West Germany (FRG)  Unknown              Military\n",
       "2              France  Unknown                Police\n",
       "3              France  Unknown               Unknown\n",
       "4              France  Unknown               Unknown"
      ]
     },
     "execution_count": 15,
     "metadata": {},
     "output_type": "execute_result"
    }
   ],
   "source": [
    "ter_df = df[[\"country_txt\", \"gname\", \"targtype1_txt\"]]\n",
    "ter_df.head()"
   ]
  },
  {
   "cell_type": "code",
   "execution_count": 16,
   "id": "faced-philadelphia",
   "metadata": {},
   "outputs": [
    {
     "name": "stdout",
     "output_type": "stream",
     "text": [
      "Name: \n",
      "Type: Graph\n",
      "Number of nodes: 3046\n",
      "Number of edges: 4249\n",
      "Average degree:   2.7899\n"
     ]
    }
   ],
   "source": [
    "H=nx.from_pandas_dataframe(ter_df, \"country_txt\", \"gname\", \"targtype1_txt\")\n",
    "print (nx.info(H))"
   ]
  },
  {
   "cell_type": "code",
   "execution_count": 17,
   "id": "sealed-mentor",
   "metadata": {},
   "outputs": [
    {
     "data": {
      "text/html": [
       "<div>\n",
       "<style scoped>\n",
       "    .dataframe tbody tr th:only-of-type {\n",
       "        vertical-align: middle;\n",
       "    }\n",
       "\n",
       "    .dataframe tbody tr th {\n",
       "        vertical-align: top;\n",
       "    }\n",
       "\n",
       "    .dataframe thead th {\n",
       "        text-align: right;\n",
       "    }\n",
       "</style>\n",
       "<table border=\"1\" class=\"dataframe\">\n",
       "  <thead>\n",
       "    <tr style=\"text-align: right;\">\n",
       "      <th></th>\n",
       "      <th>country_txt</th>\n",
       "      <th>gname</th>\n",
       "      <th>targtype1_txt</th>\n",
       "    </tr>\n",
       "  </thead>\n",
       "  <tbody>\n",
       "    <tr>\n",
       "      <th>16</th>\n",
       "      <td>Israel</td>\n",
       "      <td>Unknown</td>\n",
       "      <td>Government (General)</td>\n",
       "    </tr>\n",
       "    <tr>\n",
       "      <th>17</th>\n",
       "      <td>Israel</td>\n",
       "      <td>Unknown</td>\n",
       "      <td>Private Citizens &amp; Property</td>\n",
       "    </tr>\n",
       "    <tr>\n",
       "      <th>268</th>\n",
       "      <td>Iran</td>\n",
       "      <td>Unknown</td>\n",
       "      <td>Private Citizens &amp; Property</td>\n",
       "    </tr>\n",
       "    <tr>\n",
       "      <th>506</th>\n",
       "      <td>Iran</td>\n",
       "      <td>Mujahedin-e Khalq (MEK)</td>\n",
       "      <td>Government (General)</td>\n",
       "    </tr>\n",
       "    <tr>\n",
       "      <th>979</th>\n",
       "      <td>Iran</td>\n",
       "      <td>Unknown</td>\n",
       "      <td>Private Citizens &amp; Property</td>\n",
       "    </tr>\n",
       "  </tbody>\n",
       "</table>\n",
       "</div>"
      ],
      "text/plain": [
       "    country_txt                    gname                targtype1_txt\n",
       "16       Israel                  Unknown         Government (General)\n",
       "17       Israel                  Unknown  Private Citizens & Property\n",
       "268        Iran                  Unknown  Private Citizens & Property\n",
       "506        Iran  Mujahedin-e Khalq (MEK)         Government (General)\n",
       "979        Iran                  Unknown  Private Citizens & Property"
      ]
     },
     "execution_count": 17,
     "metadata": {},
     "output_type": "execute_result"
    }
   ],
   "source": [
    "us_involved = [\"Syria\", \"Turkey\", \"Iraq\",\"Jordan\", \n",
    "               \"Pakistan\", \"Afghanistan\", \"Israel\", \"Iran\"]\n",
    "ter_df_2 =  ter_df[ter_df.country_txt.isin(us_involved)]\n",
    "H=nx.from_pandas_dataframe(ter_df_2,\n",
    "                               \"country_txt\", \n",
    "                               \"gname\",\n",
    "                               [\"targtype1_txt\"])\n",
    "ter_df_2.head()"
   ]
  },
  {
   "cell_type": "markdown",
   "id": "acting-father",
   "metadata": {},
   "source": [
    "To view the network in pyvis toggle to `True`."
   ]
  },
  {
   "cell_type": "code",
   "execution_count": 19,
   "id": "living-plain",
   "metadata": {},
   "outputs": [],
   "source": [
    "view_pyvis = 'false'"
   ]
  },
  {
   "cell_type": "code",
   "execution_count": 20,
   "id": "several-boxing",
   "metadata": {},
   "outputs": [
    {
     "ename": "NameError",
     "evalue": "name 'net' is not defined",
     "output_type": "error",
     "traceback": [
      "\u001b[1;31m---------------------------------------------------------------------------\u001b[0m",
      "\u001b[1;31mNameError\u001b[0m                                 Traceback (most recent call last)",
      "\u001b[1;32m<ipython-input-20-8ba2688b65b7>\u001b[0m in \u001b[0;36m<module>\u001b[1;34m\u001b[0m\n\u001b[0;32m      1\u001b[0m \u001b[1;32mif\u001b[0m \u001b[0mview_pyvis\u001b[0m\u001b[1;33m:\u001b[0m\u001b[1;33m\u001b[0m\u001b[1;33m\u001b[0m\u001b[0m\n\u001b[1;32m----> 2\u001b[1;33m     M = net.Network(height='1000px',\n\u001b[0m\u001b[0;32m      3\u001b[0m                     \u001b[0mwidth\u001b[0m\u001b[1;33m=\u001b[0m\u001b[1;34m'1000px'\u001b[0m\u001b[1;33m,\u001b[0m\u001b[1;33m\u001b[0m\u001b[1;33m\u001b[0m\u001b[0m\n\u001b[0;32m      4\u001b[0m                     \u001b[0mbgcolor\u001b[0m\u001b[1;33m=\u001b[0m\u001b[1;34m'#222222'\u001b[0m\u001b[1;33m,\u001b[0m\u001b[1;33m\u001b[0m\u001b[1;33m\u001b[0m\u001b[0m\n\u001b[0;32m      5\u001b[0m                     \u001b[0mfont_color\u001b[0m\u001b[1;33m=\u001b[0m\u001b[1;34m'white'\u001b[0m\u001b[1;33m,\u001b[0m\u001b[1;33m\u001b[0m\u001b[1;33m\u001b[0m\u001b[0m\n",
      "\u001b[1;31mNameError\u001b[0m: name 'net' is not defined"
     ]
    }
   ],
   "source": [
    "if view_pyvis:\n",
    "    M = net.Network(height='1000px',\n",
    "                    width='1000px',\n",
    "                    bgcolor='#222222', \n",
    "                    font_color='white', \n",
    "                    notebook=True)\n",
    "    M.barnes_hut()\n",
    "    for n in H.nodes():\n",
    "        M.add_node(n)\n",
    "    for e in H.edges():\n",
    "        M.add_edge(e[0], e[1])\n",
    "    M.show('network_2.html')"
   ]
  },
  {
   "cell_type": "code",
   "execution_count": null,
   "id": "distant-genome",
   "metadata": {},
   "outputs": [],
   "source": [
    "node_1 = [node[0] for node in H.edges()]\n",
    "node_2 = [node[1] for node in H.edges()]\n",
    "attr_node = [H.get_edge_data(H.edges()[i][0],\n",
    "                             H.edges()[i][1])['targtype1_txt']\n",
    "            for i in range(len(H.edges()))]\n",
    "data = zip(node_1, node_2, attr_node)\n",
    "test_df_2 = pd.DataFrame(data=data,\n",
    "                      columns= [\"source\", \"target\", \"type\"])"
   ]
  },
  {
   "cell_type": "code",
   "execution_count": null,
   "id": "continued-keyboard",
   "metadata": {},
   "outputs": [],
   "source": [
    "eigen_H = nx.eigenvector_centrality_numpy(H)\n",
    "eigen_sort = sorted(eigen_H.items(),\n",
    "       key=lambda x:x[1],\n",
    "       reverse=True)\n",
    "eigen_df = pd.DataFrame(eigen_sort, \n",
    "                        columns=['node', 'eigen_central'])\n",
    "eigen_df[['node', 'eigen_central']][:10]"
   ]
  },
  {
   "cell_type": "markdown",
   "id": "silver-letters",
   "metadata": {},
   "source": [
    "With this new network that connects country to responsible group name we see that Pakistan is a much more central node. That is, it's eigenvector centrality is three times as large as the next nearest node. This means that Pakistan is connected to nodes that are well-connected. "
   ]
  },
  {
   "cell_type": "code",
   "execution_count": null,
   "id": "gothic-membership",
   "metadata": {},
   "outputs": [],
   "source": [
    "eigen_list = eigen_df.node.to_list()[:10]\n",
    "eigen_plot_df = test_df_2[test_df_2.source.isin(eigen_list)] "
   ]
  },
  {
   "cell_type": "code",
   "execution_count": null,
   "id": "affiliated-algorithm",
   "metadata": {},
   "outputs": [],
   "source": [
    "plt.figure(figsize=(14,6))\n",
    "sns.countplot(data=eigen_plot_df, \n",
    "              x='type',\n",
    "              palette='viridis',\n",
    "              order=eigen_plot_df.type.value_counts().index)\n",
    "plt.xticks(rotation=90)\n",
    "plt.title(\"Count of Target Type Category for the most Central Nodes\")\n",
    "plt.show()"
   ]
  },
  {
   "cell_type": "markdown",
   "id": "sitting-behavior",
   "metadata": {},
   "source": [
    "We see here that for the categorical target type attacks against private citizens and military installations is starting to pull away from the other target types. "
   ]
  },
  {
   "cell_type": "code",
   "execution_count": null,
   "id": "completed-orchestra",
   "metadata": {},
   "outputs": [],
   "source": [
    "degree_H = nx.degree_centrality(H)\n",
    "degree_sort = sorted(degree_H.items(),\n",
    "      key=lambda x:x[1], \n",
    "      reverse=True)\n",
    "degree_df = pd.DataFrame(degree_sort, columns=['node', 'degree_central'])\n",
    "degree_df[['node', 'degree_central']][:10]"
   ]
  },
  {
   "cell_type": "code",
   "execution_count": null,
   "id": "worth-brief",
   "metadata": {},
   "outputs": [],
   "source": [
    "degree_list = degree_df.node.to_list()[:5]\n",
    "degree_plot_df = test_df_2[test_df_2.source.isin(degree_list)] "
   ]
  },
  {
   "cell_type": "code",
   "execution_count": null,
   "id": "attended-senegal",
   "metadata": {},
   "outputs": [],
   "source": [
    "plt.figure(figsize=(14,6))\n",
    "sns.countplot(data=degree_plot_df, \n",
    "              x='type',\n",
    "              palette='viridis',\n",
    "              order=degree_plot_df.type.value_counts().index)\n",
    "plt.xticks(rotation=90)\n",
    "plt.title(\"Count of Target Type Category for the most Central Nodes\")\n",
    "plt.show()"
   ]
  },
  {
   "cell_type": "markdown",
   "id": "sitting-works",
   "metadata": {},
   "source": [
    "And a similar result is shown with degree centrality. The rate of attack against a given target type is rising almost quadratically. "
   ]
  },
  {
   "cell_type": "markdown",
   "id": "talented-april",
   "metadata": {},
   "source": [
    "## Targets, Groups, and the Weapons used"
   ]
  },
  {
   "cell_type": "markdown",
   "id": "charming-stock",
   "metadata": {},
   "source": [
    "The third network we wanted to analyze is breaking down the other two and giving us a brief look at the targets the terror groups attacked and the weapons used.  Our focus is the most prolific groups and which target types they attack.     "
   ]
  },
  {
   "cell_type": "code",
   "execution_count": null,
   "id": "hydraulic-hungary",
   "metadata": {},
   "outputs": [],
   "source": [
    "# pairing down the main dataframe\n",
    "target_org = df[['targtype1_txt', 'gname', 'weaptype1_txt']]\n",
    "target_org = target_org[target_org['gname']!= \"Unknown\"]\n",
    "#target_org.head()"
   ]
  },
  {
   "cell_type": "code",
   "execution_count": null,
   "id": "included-engineering",
   "metadata": {},
   "outputs": [],
   "source": [
    "#defining the top 5 groups\n",
    "n=5\n",
    "top_gname = target_org['gname'].value_counts()[:n].index.tolist()\n",
    "target_org_small =  target_org[target_org.gname.isin(top_gname)]\n",
    "\n",
    "S=nx.from_pandas_dataframe(target_org_small, \n",
    "                           \"weaptype1_txt\",\n",
    "                           \"gname\", \n",
    "                           \"targtype1_txt\")\n",
    "target_org_small.head()"
   ]
  },
  {
   "cell_type": "code",
   "execution_count": null,
   "id": "addressed-hollywood",
   "metadata": {},
   "outputs": [],
   "source": [
    "%matplotlib inline\n",
    "plt.rcParams['figure.figsize'] = (20, 25)\n",
    "nx.draw(S, node_color='bisque', with_labels=True)"
   ]
  },
  {
   "cell_type": "markdown",
   "id": "forty-valentine",
   "metadata": {},
   "source": [
    "Most of the Top 5 groups all affect the same type of targets.  The exception to this rule is Violent Political Parties."
   ]
  },
  {
   "cell_type": "code",
   "execution_count": null,
   "id": "twelve-headset",
   "metadata": {},
   "outputs": [],
   "source": [
    "eigen_S = nx.eigenvector_centrality_numpy(S)\n",
    "eigen_sort = sorted(eigen_S.items(),\n",
    "       key=lambda x:x[1],\n",
    "       reverse=True)\n",
    "eigen_df = pd.DataFrame(eigen_sort, \n",
    "                        columns=['node', 'eigen_central'])\n",
    "eigen_df[['node', 'eigen_central']][:10]"
   ]
  },
  {
   "cell_type": "code",
   "execution_count": null,
   "id": "enormous-pittsburgh",
   "metadata": {},
   "outputs": [],
   "source": [
    "node_1 = [node[0] for node in S.edges()]\n",
    "node_2 = [node[1] for node in S.edges()]\n",
    "attr_node = [S.get_edge_data(S.edges()[i][0],\n",
    "                             S.edges()[i][1])['targtype1_txt']\n",
    "            for i in range(len(S.edges()))]\n",
    "data = zip(node_1, node_2, attr_node)\n",
    "test_df_3 = pd.DataFrame(data=data,\n",
    "                      columns= [\"source\", \"target\", \"type\"])"
   ]
  },
  {
   "cell_type": "code",
   "execution_count": null,
   "id": "lovely-texture",
   "metadata": {},
   "outputs": [],
   "source": [
    "eigen_list = eigen_df.node.to_list()[:5]\n",
    "eigen_plot_df = test_df[test_df.source.isin(eigen_list)] "
   ]
  },
  {
   "cell_type": "code",
   "execution_count": null,
   "id": "bright-copying",
   "metadata": {},
   "outputs": [],
   "source": [
    "degree_S = nx.degree_centrality(S)\n",
    "degree_sort = sorted(degree_S.items(),\n",
    "      key=lambda x:x[1], \n",
    "      reverse=True)\n",
    "degree_df = pd.DataFrame(degree_sort, columns=['node', 'degree_central'])\n",
    "degree_df[['node', 'degree_central']][:10]\n",
    "degree_list = degree_df.node.to_list()[:5]\n",
    "degree_plot_df = test_df_3[test_df_3.source.isin(degree_list)] "
   ]
  },
  {
   "cell_type": "code",
   "execution_count": null,
   "id": "architectural-assembly",
   "metadata": {},
   "outputs": [],
   "source": [
    "plt.figure(figsize=(14,6))\n",
    "sns.countplot(data=degree_plot_df, \n",
    "              x='type',\n",
    "              palette='viridis',\n",
    "              order=test_df_3.type.value_counts().index)\n",
    "plt.xticks(rotation=90)\n",
    "plt.title(\"Count of Target Type Category for the most Central Nodes\")\n",
    "plt.show()"
   ]
  },
  {
   "cell_type": "markdown",
   "id": "qualified-recipe",
   "metadata": {},
   "source": [
    "As expected, the top 5 groups have near to the same centrality. The type of attack also has the same centrality.  It is interesting only the Taliban and ISIS use vehicle.    "
   ]
  },
  {
   "cell_type": "markdown",
   "id": "strange-organ",
   "metadata": {},
   "source": [
    "## Final Thoughts"
   ]
  },
  {
   "cell_type": "markdown",
   "id": "lucky-conference",
   "metadata": {},
   "source": [
    "The project did give us some very important insights and further works on this dataset could easily be done.\n",
    "\n",
    "* Private Citizens & Property kept coming up again and again.  We expected a more infrastructure related target\n",
    "* Car Bombs, while big in the media, only make up a very small section of the weapons used.\n",
    "* Pakistan is heavily linked with what we have always known as terror states. "
   ]
  },
  {
   "cell_type": "markdown",
   "id": "clear-principle",
   "metadata": {},
   "source": [
    "[Video Submission](!https://youtu.be/_LvUVMd4WwU)."
   ]
  }
 ],
 "metadata": {
  "kernelspec": {
   "display_name": "Python 3",
   "language": "python",
   "name": "python3"
  },
  "language_info": {
   "codemirror_mode": {
    "name": "ipython",
    "version": 3
   },
   "file_extension": ".py",
   "mimetype": "text/x-python",
   "name": "python",
   "nbconvert_exporter": "python",
   "pygments_lexer": "ipython3",
   "version": "3.7.9"
  }
 },
 "nbformat": 4,
 "nbformat_minor": 5
}
