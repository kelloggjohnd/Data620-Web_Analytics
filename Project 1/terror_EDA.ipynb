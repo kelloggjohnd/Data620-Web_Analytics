{
 "cells": [
  {
   "cell_type": "code",
   "execution_count": 1,
   "id": "described-creation",
   "metadata": {},
   "outputs": [],
   "source": [
    "import pandas as pd\n",
    "import networkx as nx\n",
    "import matplotlib.pyplot as plt"
   ]
  },
  {
   "cell_type": "code",
   "execution_count": 4,
   "id": "requested-index",
   "metadata": {},
   "outputs": [],
   "source": [
    "df=pd.read_csv('./global_terror_data_proj_1.csv')"
   ]
  },
  {
   "cell_type": "code",
   "execution_count": 6,
   "id": "overall-active",
   "metadata": {},
   "outputs": [
    {
     "data": {
      "text/html": [
       "<div>\n",
       "<style scoped>\n",
       "    .dataframe tbody tr th:only-of-type {\n",
       "        vertical-align: middle;\n",
       "    }\n",
       "\n",
       "    .dataframe tbody tr th {\n",
       "        vertical-align: top;\n",
       "    }\n",
       "\n",
       "    .dataframe thead th {\n",
       "        text-align: right;\n",
       "    }\n",
       "</style>\n",
       "<table border=\"1\" class=\"dataframe\">\n",
       "  <thead>\n",
       "    <tr style=\"text-align: right;\">\n",
       "      <th></th>\n",
       "      <th>iyear</th>\n",
       "      <th>imonth</th>\n",
       "      <th>iday</th>\n",
       "      <th>country_txt</th>\n",
       "      <th>summary</th>\n",
       "      <th>success</th>\n",
       "      <th>attacktype1</th>\n",
       "      <th>attacktype1_txt</th>\n",
       "      <th>target1</th>\n",
       "      <th>targtype1_txt</th>\n",
       "      <th>claimed</th>\n",
       "      <th>gname</th>\n",
       "      <th>weaptype1</th>\n",
       "      <th>weaptype1_txt</th>\n",
       "      <th>nkill</th>\n",
       "    </tr>\n",
       "  </thead>\n",
       "  <tbody>\n",
       "    <tr>\n",
       "      <th>0</th>\n",
       "      <td>1986</td>\n",
       "      <td>2</td>\n",
       "      <td>28</td>\n",
       "      <td>Sweden</td>\n",
       "      <td>2/28/1986: Prime Minister Olof Palme was shot ...</td>\n",
       "      <td>1</td>\n",
       "      <td>2</td>\n",
       "      <td>Armed Assault</td>\n",
       "      <td>Olof Palme</td>\n",
       "      <td>Government (General)</td>\n",
       "      <td>1.0</td>\n",
       "      <td>Unknown</td>\n",
       "      <td>5</td>\n",
       "      <td>Firearms</td>\n",
       "      <td>1.0</td>\n",
       "    </tr>\n",
       "    <tr>\n",
       "      <th>1</th>\n",
       "      <td>1985</td>\n",
       "      <td>1</td>\n",
       "      <td>0</td>\n",
       "      <td>West Germany (FRG)</td>\n",
       "      <td>NaN</td>\n",
       "      <td>0</td>\n",
       "      <td>3</td>\n",
       "      <td>Bombing/Explosion</td>\n",
       "      <td>Headquarters</td>\n",
       "      <td>Military</td>\n",
       "      <td>NaN</td>\n",
       "      <td>Unknown</td>\n",
       "      <td>6</td>\n",
       "      <td>Explosives</td>\n",
       "      <td>0.0</td>\n",
       "    </tr>\n",
       "    <tr>\n",
       "      <th>2</th>\n",
       "      <td>1985</td>\n",
       "      <td>1</td>\n",
       "      <td>0</td>\n",
       "      <td>France</td>\n",
       "      <td>NaN</td>\n",
       "      <td>1</td>\n",
       "      <td>9</td>\n",
       "      <td>Unknown</td>\n",
       "      <td>Police Headquarters</td>\n",
       "      <td>Police</td>\n",
       "      <td>NaN</td>\n",
       "      <td>Unknown</td>\n",
       "      <td>13</td>\n",
       "      <td>Unknown</td>\n",
       "      <td>1.0</td>\n",
       "    </tr>\n",
       "    <tr>\n",
       "      <th>3</th>\n",
       "      <td>1985</td>\n",
       "      <td>1</td>\n",
       "      <td>0</td>\n",
       "      <td>France</td>\n",
       "      <td>NaN</td>\n",
       "      <td>1</td>\n",
       "      <td>9</td>\n",
       "      <td>Unknown</td>\n",
       "      <td>unknown</td>\n",
       "      <td>Unknown</td>\n",
       "      <td>NaN</td>\n",
       "      <td>Unknown</td>\n",
       "      <td>13</td>\n",
       "      <td>Unknown</td>\n",
       "      <td>0.0</td>\n",
       "    </tr>\n",
       "    <tr>\n",
       "      <th>4</th>\n",
       "      <td>1985</td>\n",
       "      <td>1</td>\n",
       "      <td>0</td>\n",
       "      <td>France</td>\n",
       "      <td>NaN</td>\n",
       "      <td>1</td>\n",
       "      <td>9</td>\n",
       "      <td>Unknown</td>\n",
       "      <td>unknown</td>\n",
       "      <td>Unknown</td>\n",
       "      <td>NaN</td>\n",
       "      <td>Unknown</td>\n",
       "      <td>13</td>\n",
       "      <td>Unknown</td>\n",
       "      <td>0.0</td>\n",
       "    </tr>\n",
       "  </tbody>\n",
       "</table>\n",
       "</div>"
      ],
      "text/plain": [
       "   iyear  imonth  iday         country_txt  \\\n",
       "0   1986       2    28              Sweden   \n",
       "1   1985       1     0  West Germany (FRG)   \n",
       "2   1985       1     0              France   \n",
       "3   1985       1     0              France   \n",
       "4   1985       1     0              France   \n",
       "\n",
       "                                             summary  success  attacktype1  \\\n",
       "0  2/28/1986: Prime Minister Olof Palme was shot ...        1            2   \n",
       "1                                                NaN        0            3   \n",
       "2                                                NaN        1            9   \n",
       "3                                                NaN        1            9   \n",
       "4                                                NaN        1            9   \n",
       "\n",
       "     attacktype1_txt              target1         targtype1_txt  claimed  \\\n",
       "0      Armed Assault           Olof Palme  Government (General)      1.0   \n",
       "1  Bombing/Explosion         Headquarters              Military      NaN   \n",
       "2            Unknown  Police Headquarters                Police      NaN   \n",
       "3            Unknown              unknown               Unknown      NaN   \n",
       "4            Unknown              unknown               Unknown      NaN   \n",
       "\n",
       "     gname  weaptype1 weaptype1_txt  nkill  \n",
       "0  Unknown          5      Firearms    1.0  \n",
       "1  Unknown          6    Explosives    0.0  \n",
       "2  Unknown         13       Unknown    1.0  \n",
       "3  Unknown         13       Unknown    0.0  \n",
       "4  Unknown         13       Unknown    0.0  "
      ]
     },
     "execution_count": 6,
     "metadata": {},
     "output_type": "execute_result"
    }
   ],
   "source": [
    "df.head()"
   ]
  },
  {
   "cell_type": "code",
   "execution_count": 31,
   "id": "chicken-cocktail",
   "metadata": {},
   "outputs": [
    {
     "data": {
      "text/html": [
       "<div>\n",
       "<style scoped>\n",
       "    .dataframe tbody tr th:only-of-type {\n",
       "        vertical-align: middle;\n",
       "    }\n",
       "\n",
       "    .dataframe tbody tr th {\n",
       "        vertical-align: top;\n",
       "    }\n",
       "\n",
       "    .dataframe thead th {\n",
       "        text-align: right;\n",
       "    }\n",
       "</style>\n",
       "<table border=\"1\" class=\"dataframe\">\n",
       "  <thead>\n",
       "    <tr style=\"text-align: right;\">\n",
       "      <th></th>\n",
       "      <th>country_txt</th>\n",
       "      <th>attacktype1</th>\n",
       "      <th>targtype1_txt</th>\n",
       "    </tr>\n",
       "  </thead>\n",
       "  <tbody>\n",
       "    <tr>\n",
       "      <th>0</th>\n",
       "      <td>Sweden</td>\n",
       "      <td>2</td>\n",
       "      <td>Government (General)</td>\n",
       "    </tr>\n",
       "    <tr>\n",
       "      <th>1</th>\n",
       "      <td>West Germany (FRG)</td>\n",
       "      <td>3</td>\n",
       "      <td>Military</td>\n",
       "    </tr>\n",
       "    <tr>\n",
       "      <th>2</th>\n",
       "      <td>France</td>\n",
       "      <td>9</td>\n",
       "      <td>Police</td>\n",
       "    </tr>\n",
       "    <tr>\n",
       "      <th>3</th>\n",
       "      <td>France</td>\n",
       "      <td>9</td>\n",
       "      <td>Unknown</td>\n",
       "    </tr>\n",
       "    <tr>\n",
       "      <th>4</th>\n",
       "      <td>France</td>\n",
       "      <td>9</td>\n",
       "      <td>Unknown</td>\n",
       "    </tr>\n",
       "  </tbody>\n",
       "</table>\n",
       "</div>"
      ],
      "text/plain": [
       "          country_txt  attacktype1         targtype1_txt\n",
       "0              Sweden            2  Government (General)\n",
       "1  West Germany (FRG)            3              Military\n",
       "2              France            9                Police\n",
       "3              France            9               Unknown\n",
       "4              France            9               Unknown"
      ]
     },
     "execution_count": 31,
     "metadata": {},
     "output_type": "execute_result"
    }
   ],
   "source": [
    "ter_df = df[[\"country_txt\", \"attacktype1\", \"targtype1_txt\"]]\n",
    "ter_df.head()"
   ]
  },
  {
   "cell_type": "code",
   "execution_count": 10,
   "id": "motivated-laugh",
   "metadata": {},
   "outputs": [
    {
     "name": "stdout",
     "output_type": "stream",
     "text": [
      "Name: \n",
      "Type: Graph\n",
      "Number of nodes: 204\n",
      "Number of edges: 1226\n",
      "Average degree:  12.0196\n"
     ]
    }
   ],
   "source": [
    "G=nx.from_pandas_dataframe(ter_df, \"country_txt\", \"attacktype1\", \"targtype1_txt\")\n",
    "print (nx.info(G))"
   ]
  },
  {
   "cell_type": "code",
   "execution_count": 12,
   "id": "earned-amber",
   "metadata": {},
   "outputs": [],
   "source": [
    "from pyvis import network as net\n",
    "N = net.Network(\n",
    "                bgcolor='#222222', font_color='white', \n",
    "               notebook=True)\n",
    "N.barnes_hut()\n",
    "for n in G.nodes():\n",
    "    N.add_node(n)\n",
    "for e in G.edges():\n",
    "    N.add_edge(e[0], e[1])"
   ]
  },
  {
   "cell_type": "code",
   "execution_count": 13,
   "id": "unavailable-senegal",
   "metadata": {},
   "outputs": [
    {
     "data": {
      "text/html": [
       "\n",
       "        <iframe\n",
       "            width=\"500px\"\n",
       "            height=\"500px\"\n",
       "            src=\"test.html\"\n",
       "            frameborder=\"0\"\n",
       "            allowfullscreen\n",
       "        ></iframe>\n",
       "        "
      ],
      "text/plain": [
       "<IPython.lib.display.IFrame at 0x23b00cd9908>"
      ]
     },
     "execution_count": 13,
     "metadata": {},
     "output_type": "execute_result"
    }
   ],
   "source": [
    "N.show('test.html')"
   ]
  },
  {
   "cell_type": "code",
   "execution_count": null,
   "id": "institutional-arthritis",
   "metadata": {},
   "outputs": [],
   "source": [
    "ter_df_2 = df[[\"country_txt\", \"gname\",\"attacktype1\"]]"
   ]
  },
  {
   "cell_type": "code",
   "execution_count": null,
   "id": "valuable-bookmark",
   "metadata": {},
   "outputs": [],
   "source": [
    "H=nx.from_pandas_dataframe(ter_df_2, \"country_txt\", \"gname\",\"attacktype1\")\n",
    "N_2 = net.Network(bgcolor='#222222',\n",
    "                  font_color='white',\n",
    "                  height='1000px',\n",
    "                  width='1000px',\n",
    "                  notebook=True)\n",
    "N_2.barnes_hut()\n",
    "for n in H.nodes():\n",
    "    N_2.add_node(n)\n",
    "for e in H.edges():\n",
    "    N_2.add_edge(e[0], e[1])"
   ]
  },
  {
   "cell_type": "code",
   "execution_count": null,
   "id": "smaller-process",
   "metadata": {},
   "outputs": [],
   "source": [
    "N_2.show('test_2.html')"
   ]
  },
  {
   "cell_type": "code",
   "execution_count": 32,
   "id": "designed-fashion",
   "metadata": {},
   "outputs": [
    {
     "name": "stderr",
     "output_type": "stream",
     "text": [
      "C:\\ProgramData\\Anaconda3\\envs\\data620_web\\lib\\site-packages\\ipykernel_launcher.py:1: SettingWithCopyWarning: \n",
      "A value is trying to be set on a copy of a slice from a DataFrame.\n",
      "Try using .loc[row_indexer,col_indexer] = value instead\n",
      "\n",
      "See the caveats in the documentation: https://pandas.pydata.org/pandas-docs/stable/user_guide/indexing.html#returning-a-view-versus-a-copy\n",
      "  \"\"\"Entry point for launching an IPython kernel.\n"
     ]
    }
   ],
   "source": [
    "ter_df['index'] = df.index \n",
    "ter_df = ter_df.set_index('index')\n"
   ]
  },
  {
   "cell_type": "code",
   "execution_count": 33,
   "id": "violent-nudist",
   "metadata": {},
   "outputs": [
    {
     "data": {
      "text/html": [
       "<div>\n",
       "<style scoped>\n",
       "    .dataframe tbody tr th:only-of-type {\n",
       "        vertical-align: middle;\n",
       "    }\n",
       "\n",
       "    .dataframe tbody tr th {\n",
       "        vertical-align: top;\n",
       "    }\n",
       "\n",
       "    .dataframe thead th {\n",
       "        text-align: right;\n",
       "    }\n",
       "</style>\n",
       "<table border=\"1\" class=\"dataframe\">\n",
       "  <thead>\n",
       "    <tr style=\"text-align: right;\">\n",
       "      <th></th>\n",
       "      <th>country_txt</th>\n",
       "      <th>attacktype1</th>\n",
       "      <th>targtype1_txt</th>\n",
       "    </tr>\n",
       "    <tr>\n",
       "      <th>index</th>\n",
       "      <th></th>\n",
       "      <th></th>\n",
       "      <th></th>\n",
       "    </tr>\n",
       "  </thead>\n",
       "  <tbody>\n",
       "    <tr>\n",
       "      <th>0</th>\n",
       "      <td>Sweden</td>\n",
       "      <td>2</td>\n",
       "      <td>Government (General)</td>\n",
       "    </tr>\n",
       "    <tr>\n",
       "      <th>1</th>\n",
       "      <td>West Germany (FRG)</td>\n",
       "      <td>3</td>\n",
       "      <td>Military</td>\n",
       "    </tr>\n",
       "    <tr>\n",
       "      <th>2</th>\n",
       "      <td>France</td>\n",
       "      <td>9</td>\n",
       "      <td>Police</td>\n",
       "    </tr>\n",
       "    <tr>\n",
       "      <th>3</th>\n",
       "      <td>France</td>\n",
       "      <td>9</td>\n",
       "      <td>Unknown</td>\n",
       "    </tr>\n",
       "    <tr>\n",
       "      <th>4</th>\n",
       "      <td>France</td>\n",
       "      <td>9</td>\n",
       "      <td>Unknown</td>\n",
       "    </tr>\n",
       "  </tbody>\n",
       "</table>\n",
       "</div>"
      ],
      "text/plain": [
       "              country_txt  attacktype1         targtype1_txt\n",
       "index                                                       \n",
       "0                  Sweden            2  Government (General)\n",
       "1      West Germany (FRG)            3              Military\n",
       "2                  France            9                Police\n",
       "3                  France            9               Unknown\n",
       "4                  France            9               Unknown"
      ]
     },
     "execution_count": 33,
     "metadata": {},
     "output_type": "execute_result"
    }
   ],
   "source": [
    "ter_df.head()"
   ]
  },
  {
   "cell_type": "code",
   "execution_count": 34,
   "id": "allied-america",
   "metadata": {},
   "outputs": [],
   "source": [
    "ter_df = ter_df.reindex(G.nodes())"
   ]
  },
  {
   "cell_type": "code",
   "execution_count": 35,
   "id": "electric-melissa",
   "metadata": {},
   "outputs": [],
   "source": [
    "ter_df['attacktype1']=pd.Categorical(ter_df['attacktype1'])"
   ]
  },
  {
   "cell_type": "code",
   "execution_count": 36,
   "id": "professional-credits",
   "metadata": {},
   "outputs": [
    {
     "data": {
      "text/plain": [
       "index\n",
       "Sweden               -1\n",
       "2                     1\n",
       "West Germany (FRG)   -1\n",
       "3                     1\n",
       "France               -1\n",
       "                     ..\n",
       "Turkmenistan         -1\n",
       "Serbia-Montenegro    -1\n",
       "Bhutan               -1\n",
       "Serbia               -1\n",
       "South Sudan          -1\n",
       "Length: 204, dtype: int8"
      ]
     },
     "execution_count": 36,
     "metadata": {},
     "output_type": "execute_result"
    }
   ],
   "source": [
    "ter_df['attacktype1'].cat.codes"
   ]
  },
  {
   "cell_type": "code",
   "execution_count": 38,
   "id": "cultural-triangle",
   "metadata": {},
   "outputs": [
    {
     "data": {
      "image/png": "[encoded data removed]",
      "text/plain": [
       "<Figure size 432x288 with 1 Axes>"
      ]
     },
     "metadata": {},
     "output_type": "display_data"
    }
   ],
   "source": [
    "nx.draw(G, with_labels=True, node_color=ter_df['attacktype1'].cat.codes, cmap=plt.cm.Set1, node_size=5)"
   ]
  },
  {
   "cell_type": "code",
   "execution_count": null,
   "id": "hollywood-colombia",
   "metadata": {},
   "outputs": [],
   "source": []
  }
 ],
 "metadata": {
  "kernelspec": {
   "display_name": "Python 3",
   "language": "python",
   "name": "python3"
  },
  "language_info": {
   "codemirror_mode": {
    "name": "ipython",
    "version": 3
   },
   "file_extension": ".py",
   "mimetype": "text/x-python",
   "name": "python",
   "nbconvert_exporter": "python",
   "pygments_lexer": "ipython3",
   "version": "3.7.9"
  }
 },
 "nbformat": 4,
 "nbformat_minor": 5
}
