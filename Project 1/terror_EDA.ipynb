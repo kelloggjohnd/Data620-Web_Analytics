{
 "cells": [
  {
   "cell_type": "code",
   "execution_count": 4,
   "id": "suited-fiction",
   "metadata": {},
   "outputs": [],
   "source": [
    "import pandas as pd\n",
    "import networkx as nx\n",
    "import matplotlib.pyplot as plt"
   ]
  },
  {
   "cell_type": "code",
   "execution_count": 60,
   "id": "cellular-hacker",
   "metadata": {},
   "outputs": [],
   "source": [
    "df=pd.read_csv('./data/global_terror_data_proj_1.csv')"
   ]
  },
  {
   "cell_type": "code",
   "execution_count": 62,
   "id": "worst-drama",
   "metadata": {},
   "outputs": [
    {
     "data": {
      "text/plain": [
       "Index(['iyear', 'imonth', 'iday', 'country_txt', 'summary', 'success',\n",
       "       'attacktype1', 'attacktype1_txt', 'target1', 'targtype1',\n",
       "       'targtype1_txt', 'claimed', 'gname', 'weaptype1', 'weaptype1_txt',\n",
       "       'nkill'],\n",
       "      dtype='object')"
      ]
     },
     "execution_count": 62,
     "metadata": {},
     "output_type": "execute_result"
    }
   ],
   "source": [
    "df.columns"
   ]
  },
  {
   "cell_type": "code",
   "execution_count": null,
   "id": "joint-football",
   "metadata": {},
   "outputs": [],
   "source": []
  },
  {
   "cell_type": "code",
   "execution_count": 63,
   "id": "distinguished-documentary",
   "metadata": {},
   "outputs": [
    {
     "data": {
      "text/html": [
       "<div>\n",
       "<style scoped>\n",
       "    .dataframe tbody tr th:only-of-type {\n",
       "        vertical-align: middle;\n",
       "    }\n",
       "\n",
       "    .dataframe tbody tr th {\n",
       "        vertical-align: top;\n",
       "    }\n",
       "\n",
       "    .dataframe thead th {\n",
       "        text-align: right;\n",
       "    }\n",
       "</style>\n",
       "<table border=\"1\" class=\"dataframe\">\n",
       "  <thead>\n",
       "    <tr style=\"text-align: right;\">\n",
       "      <th></th>\n",
       "      <th>targtype1_txt</th>\n",
       "      <th>gname</th>\n",
       "      <th>attacktype1_txt</th>\n",
       "    </tr>\n",
       "  </thead>\n",
       "  <tbody>\n",
       "    <tr>\n",
       "      <th>0</th>\n",
       "      <td>Government (General)</td>\n",
       "      <td>Unknown</td>\n",
       "      <td>Armed Assault</td>\n",
       "    </tr>\n",
       "    <tr>\n",
       "      <th>1</th>\n",
       "      <td>Military</td>\n",
       "      <td>Unknown</td>\n",
       "      <td>Bombing/Explosion</td>\n",
       "    </tr>\n",
       "    <tr>\n",
       "      <th>2</th>\n",
       "      <td>Police</td>\n",
       "      <td>Unknown</td>\n",
       "      <td>Unknown</td>\n",
       "    </tr>\n",
       "    <tr>\n",
       "      <th>3</th>\n",
       "      <td>Unknown</td>\n",
       "      <td>Unknown</td>\n",
       "      <td>Unknown</td>\n",
       "    </tr>\n",
       "    <tr>\n",
       "      <th>4</th>\n",
       "      <td>Unknown</td>\n",
       "      <td>Unknown</td>\n",
       "      <td>Unknown</td>\n",
       "    </tr>\n",
       "  </tbody>\n",
       "</table>\n",
       "</div>"
      ],
      "text/plain": [
       "          targtype1_txt    gname    attacktype1_txt\n",
       "0  Government (General)  Unknown      Armed Assault\n",
       "1              Military  Unknown  Bombing/Explosion\n",
       "2                Police  Unknown            Unknown\n",
       "3               Unknown  Unknown            Unknown\n",
       "4               Unknown  Unknown            Unknown"
      ]
     },
     "execution_count": 63,
     "metadata": {},
     "output_type": "execute_result"
    }
   ],
   "source": [
    "ter_df = df[[\"targtype1_txt\", \"gname\", \"attacktype1_txt\"]]\n",
    "ter_df.head()"
   ]
  },
  {
   "cell_type": "code",
   "execution_count": 64,
   "id": "detected-terminology",
   "metadata": {},
   "outputs": [
    {
     "name": "stdout",
     "output_type": "stream",
     "text": [
      "Name: \n",
      "Type: Graph\n",
      "Number of nodes: 2872\n",
      "Number of edges: 7744\n",
      "Average degree:   5.3928\n"
     ]
    }
   ],
   "source": [
    "G=nx.from_pandas_dataframe(ter_df, \"targtype1_txt\", \"gname\", \"attacktype1_txt\")\n",
    "print (nx.info(G))"
   ]
  },
  {
   "cell_type": "code",
   "execution_count": 65,
   "id": "phantom-harrison",
   "metadata": {},
   "outputs": [],
   "source": [
    "from pyvis import network as net\n",
    "N = net.Network(\n",
    "                bgcolor='#222222', font_color='white', \n",
    "               notebook=True)\n",
    "N.barnes_hut()\n",
    "for n in G.nodes():\n",
    "    N.add_node(n)\n",
    "for e in G.edges():\n",
    "    N.add_edge(e[0], e[1])"
   ]
  },
  {
   "cell_type": "code",
   "execution_count": 73,
   "id": "british-yorkshire",
   "metadata": {},
   "outputs": [],
   "source": [
    "#N.show('test.html')"
   ]
  },
  {
   "cell_type": "code",
   "execution_count": 67,
   "id": "aware-password",
   "metadata": {},
   "outputs": [],
   "source": [
    "ter_df_2 = df[[\"country_txt\", \"gname\",\"attacktype1\"]]"
   ]
  },
  {
   "cell_type": "code",
   "execution_count": 68,
   "id": "portuguese-anthropology",
   "metadata": {},
   "outputs": [],
   "source": [
    "H=nx.from_pandas_dataframe(ter_df_2, \"country_txt\", \"gname\",\"attacktype1\")\n",
    "N_2 = net.Network(bgcolor='#222222',\n",
    "                  font_color='white',\n",
    "                  height='1000px',\n",
    "                  width='1000px',\n",
    "                  notebook=True)\n",
    "N_2.barnes_hut()\n",
    "for n in H.nodes():\n",
    "    N_2.add_node(n)\n",
    "for e in H.edges():\n",
    "    N_2.add_edge(e[0], e[1])"
   ]
  },
  {
   "cell_type": "code",
   "execution_count": 55,
   "id": "honey-satisfaction",
   "metadata": {},
   "outputs": [
    {
     "data": {
      "text/html": [
       "\n",
       "        <iframe\n",
       "            width=\"1000px\"\n",
       "            height=\"1000px\"\n",
       "            src=\"test_2.html\"\n",
       "            frameborder=\"0\"\n",
       "            allowfullscreen\n",
       "        ></iframe>\n",
       "        "
      ],
      "text/plain": [
       "<IPython.lib.display.IFrame at 0x7f7f085a9490>"
      ]
     },
     "execution_count": 55,
     "metadata": {},
     "output_type": "execute_result"
    }
   ],
   "source": [
    "N_2.show('test_2.html')"
   ]
  },
  {
   "cell_type": "code",
   "execution_count": 75,
   "id": "entire-criminal",
   "metadata": {},
   "outputs": [
    {
     "data": {
      "text/plain": [
       "['Private Citizens & Property',\n",
       " 'Government (General)',\n",
       " 'Business',\n",
       " 'Police',\n",
       " 'Military',\n",
       " 'Transportation',\n",
       " 'Government (Diplomatic)',\n",
       " 'Religious Figures/Institutions',\n",
       " 'Journalists & Media',\n",
       " 'Educational Institution',\n",
       " 'Unknown',\n",
       " 'Utilities',\n",
       " 'Terrorists/Non-State Militia',\n",
       " 'Airports & Aircraft',\n",
       " 'Violent Political Party',\n",
       " 'NGO',\n",
       " 'Tourists',\n",
       " 'Maritime',\n",
       " 'Telecommunication',\n",
       " 'Food or Water Supply']"
      ]
     },
     "execution_count": 75,
     "metadata": {},
     "output_type": "execute_result"
    }
   ],
   "source": [
    "deg_cent = nx.degree_centrality(G)\n",
    "sorted(deg_cent, key=deg_cent.get, reverse=True)[:20]"
   ]
  },
  {
   "cell_type": "code",
   "execution_count": 70,
   "id": "expired-operations",
   "metadata": {},
   "outputs": [
    {
     "data": {
      "text/plain": [
       "['Private Citizens & Property',\n",
       " 'Government (General)',\n",
       " 'Business',\n",
       " 'Police',\n",
       " 'Military',\n",
       " 'Transportation',\n",
       " 'Unknown',\n",
       " 'Religious Figures/Institutions',\n",
       " 'Educational Institution',\n",
       " 'Government (Diplomatic)',\n",
       " 'Journalists & Media',\n",
       " 'Utilities',\n",
       " 'Terrorists/Non-State Militia',\n",
       " 'Airports & Aircraft',\n",
       " 'Violent Political Party',\n",
       " 'NGO',\n",
       " 'Tourists',\n",
       " 'Telecommunication',\n",
       " 'Taliban',\n",
       " \"Kurdistan Workers' Party (PKK)\"]"
      ]
     },
     "execution_count": 70,
     "metadata": {},
     "output_type": "execute_result"
    }
   ],
   "source": [
    "eigen_cent = nx.eigenvector_centrality_numpy(G)\n",
    "sorted(eigen_cent, key=eigen_cent.get, reverse=True)[:20]"
   ]
  },
  {
   "cell_type": "code",
   "execution_count": 86,
   "id": "endangered-password",
   "metadata": {},
   "outputs": [
    {
     "data": {
      "text/plain": [
       "['India',\n",
       " 'Unknown',\n",
       " 'Pakistan',\n",
       " 'Greece',\n",
       " 'United States',\n",
       " 'France',\n",
       " 'Iraq',\n",
       " 'Lebanon',\n",
       " 'Libya',\n",
       " 'Colombia']"
      ]
     },
     "execution_count": 86,
     "metadata": {},
     "output_type": "execute_result"
    }
   ],
   "source": [
    "deg_cent_2 = nx.degree_centrality(H)\n",
    "deg_list = sorted(deg_cent_2, key=deg_cent_2.get, reverse=True)[:10]\n",
    "deg_list"
   ]
  },
  {
   "cell_type": "code",
   "execution_count": 87,
   "id": "animal-joshua",
   "metadata": {},
   "outputs": [
    {
     "data": {
      "text/plain": [
       "['India',\n",
       " 'Unknown',\n",
       " 'Muslim extremists',\n",
       " 'Gunmen',\n",
       " 'Pakistan',\n",
       " 'France',\n",
       " 'ISIS network:  Islamic State of Iraq and the Levant (ISIL)',\n",
       " 'Separatists',\n",
       " 'United Kingdom',\n",
       " 'Lebanon']"
      ]
     },
     "execution_count": 87,
     "metadata": {},
     "output_type": "execute_result"
    }
   ],
   "source": [
    "eigen_cent = nx.eigenvector_centrality_numpy(H)\n",
    "eigen_list = sorted(eigen_cent, key=eigen_cent.get, reverse=True)[:10]\n",
    "eigen_list"
   ]
  },
  {
   "cell_type": "code",
   "execution_count": 88,
   "id": "designing-affect",
   "metadata": {},
   "outputs": [
    {
     "data": {
      "text/plain": [
       "attacktype1\n",
       "3    26544\n",
       "2     7615\n",
       "1     3927\n",
       "6     1622\n",
       "7     1091\n",
       "9      464\n",
       "8      137\n",
       "5       54\n",
       "4       47\n",
       "Name: gname, dtype: int64"
      ]
     },
     "execution_count": 88,
     "metadata": {},
     "output_type": "execute_result"
    }
   ],
   "source": [
    "ter_df_2[(ter_df_2.country_txt.isin(deg_list)) &\n",
    "        (ter_df_2.gname.isin(deg_list))] \\\n",
    "        .groupby('attacktype1').count()['gname'] \\\n",
    "        .sort_values(ascending=False)"
   ]
  },
  {
   "cell_type": "code",
   "execution_count": 89,
   "id": "expensive-syndrome",
   "metadata": {},
   "outputs": [
    {
     "data": {
      "text/plain": [
       "attacktype1\n",
       "3    84856\n",
       "2    42385\n",
       "1    16712\n",
       "6    12094\n",
       "7     9769\n",
       "9     8790\n",
       "8     1141\n",
       "5      763\n",
       "4      604\n",
       "Name: gname, dtype: int64"
      ]
     },
     "execution_count": 89,
     "metadata": {},
     "output_type": "execute_result"
    }
   ],
   "source": [
    "ter_df_2.groupby('attacktype1').count()['gname'].sort_values(ascending=False)"
   ]
  },
  {
   "cell_type": "markdown",
   "id": "reasonable-juvenile",
   "metadata": {},
   "source": [
    "maybe plot those counts,the drop off in attack type based on the centrality measure. "
   ]
  },
  {
   "cell_type": "code",
   "execution_count": null,
   "id": "sharing-glossary",
   "metadata": {},
   "outputs": [],
   "source": []
  }
 ],
 "metadata": {
  "kernelspec": {
   "display_name": "Python 3",
   "language": "python",
   "name": "python3"
  },
  "language_info": {
   "codemirror_mode": {
    "name": "ipython",
    "version": 3
   },
   "file_extension": ".py",
   "mimetype": "text/x-python",
   "name": "python",
   "nbconvert_exporter": "python",
   "pygments_lexer": "ipython3",
   "version": "3.7.9"
  }
 },
 "nbformat": 4,
 "nbformat_minor": 5
}
