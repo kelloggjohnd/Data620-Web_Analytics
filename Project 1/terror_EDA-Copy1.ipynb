{
 "cells": [
  {
   "cell_type": "markdown",
   "id": "romance-rubber",
   "metadata": {},
   "source": [
    "# Project One - Global Terrorism Data\n",
    "---\n",
    "Jeff Shamp, John Kellogg, Grace Han - CUNY MSDS 620 - Spring 2021"
   ]
  },
  {
   "cell_type": "code",
   "execution_count": 1,
   "id": "authorized-columbia",
   "metadata": {},
   "outputs": [],
   "source": [
    "import pandas as pd\n",
    "import numpy as np\n",
    "import networkx as nx\n",
    "import matplotlib.pyplot as plt\n",
    "import seaborn as sns\n",
    "import warnings\n",
    "warnings.filterwarnings('ignore')"
   ]
  },
  {
   "cell_type": "code",
   "execution_count": 2,
   "id": "selected-coupon",
   "metadata": {},
   "outputs": [],
   "source": [
    "df=pd.read_csv('./global_terror_data_proj_1.csv')"
   ]
  },
  {
   "cell_type": "markdown",
   "id": "delayed-enclosure",
   "metadata": {},
   "source": [
    "## Data"
   ]
  },
  {
   "cell_type": "markdown",
   "id": "through-wheel",
   "metadata": {},
   "source": [
    "The data is from Global Terrorism Database (GTD) at the University of Maryland.\n",
    "More information about the database [can be found here](!https://www.start.umd.edu/gtd/).\n",
    "We will subset this database to only the necessary columns for this project as well as \n",
    "subset the start year to 1985 to make the data set more managable. "
   ]
  },
  {
   "cell_type": "markdown",
   "id": "empty-flight",
   "metadata": {},
   "source": [
    "### Country, Attack, Target"
   ]
  },
  {
   "cell_type": "markdown",
   "id": "fossil-harassment",
   "metadata": {},
   "source": [
    "The first network we will analyze will be comprised of the country in which an act of terror takes place, the attach type (bombing, assassination, etc), and the target of the attack (government building, private citizens, etc). For this project the categorical information will the the target type. "
   ]
  },
  {
   "cell_type": "code",
   "execution_count": 3,
   "id": "final-young",
   "metadata": {},
   "outputs": [
    {
     "data": {
      "text/html": [
       "<div>\n",
       "<style scoped>\n",
       "    .dataframe tbody tr th:only-of-type {\n",
       "        vertical-align: middle;\n",
       "    }\n",
       "\n",
       "    .dataframe tbody tr th {\n",
       "        vertical-align: top;\n",
       "    }\n",
       "\n",
       "    .dataframe thead th {\n",
       "        text-align: right;\n",
       "    }\n",
       "</style>\n",
       "<table border=\"1\" class=\"dataframe\">\n",
       "  <thead>\n",
       "    <tr style=\"text-align: right;\">\n",
       "      <th></th>\n",
       "      <th>country_txt</th>\n",
       "      <th>attacktype1_txt</th>\n",
       "      <th>attacktype1</th>\n",
       "      <th>targtype1_txt</th>\n",
       "      <th>gname</th>\n",
       "    </tr>\n",
       "  </thead>\n",
       "  <tbody>\n",
       "    <tr>\n",
       "      <th>0</th>\n",
       "      <td>Sweden</td>\n",
       "      <td>Armed Assault</td>\n",
       "      <td>2</td>\n",
       "      <td>Government (General)</td>\n",
       "      <td>Unknown</td>\n",
       "    </tr>\n",
       "    <tr>\n",
       "      <th>1</th>\n",
       "      <td>West Germany (FRG)</td>\n",
       "      <td>Bombing/Explosion</td>\n",
       "      <td>3</td>\n",
       "      <td>Military</td>\n",
       "      <td>Unknown</td>\n",
       "    </tr>\n",
       "    <tr>\n",
       "      <th>2</th>\n",
       "      <td>France</td>\n",
       "      <td>Unknown</td>\n",
       "      <td>9</td>\n",
       "      <td>Police</td>\n",
       "      <td>Unknown</td>\n",
       "    </tr>\n",
       "    <tr>\n",
       "      <th>3</th>\n",
       "      <td>France</td>\n",
       "      <td>Unknown</td>\n",
       "      <td>9</td>\n",
       "      <td>Unknown</td>\n",
       "      <td>Unknown</td>\n",
       "    </tr>\n",
       "    <tr>\n",
       "      <th>4</th>\n",
       "      <td>France</td>\n",
       "      <td>Unknown</td>\n",
       "      <td>9</td>\n",
       "      <td>Unknown</td>\n",
       "      <td>Unknown</td>\n",
       "    </tr>\n",
       "  </tbody>\n",
       "</table>\n",
       "</div>"
      ],
      "text/plain": [
       "          country_txt    attacktype1_txt  attacktype1         targtype1_txt  \\\n",
       "0              Sweden      Armed Assault            2  Government (General)   \n",
       "1  West Germany (FRG)  Bombing/Explosion            3              Military   \n",
       "2              France            Unknown            9                Police   \n",
       "3              France            Unknown            9               Unknown   \n",
       "4              France            Unknown            9               Unknown   \n",
       "\n",
       "     gname  \n",
       "0  Unknown  \n",
       "1  Unknown  \n",
       "2  Unknown  \n",
       "3  Unknown  \n",
       "4  Unknown  "
      ]
     },
     "execution_count": 3,
     "metadata": {},
     "output_type": "execute_result"
    }
   ],
   "source": [
    "ter_df = df[[\"country_txt\", \"attacktype1_txt\", \"attacktype1\", \"targtype1_txt\", \"gname\"]]\n",
    "ter_df.head()"
   ]
  },
  {
   "cell_type": "markdown",
   "id": "allied-vatican",
   "metadata": {},
   "source": [
    "Some very basic information of the constructed network. "
   ]
  },
  {
   "cell_type": "code",
   "execution_count": 4,
   "id": "brazilian-consensus",
   "metadata": {},
   "outputs": [
    {
     "name": "stdout",
     "output_type": "stream",
     "text": [
      "Name: \n",
      "Type: Graph\n",
      "Number of nodes: 204\n",
      "Number of edges: 1226\n",
      "Average degree:  12.0196\n"
     ]
    }
   ],
   "source": [
    "G=nx.from_pandas_dataframe(ter_df, \"country_txt\", \"attacktype1_txt\", \"targtype1_txt\")\n",
    "print (nx.info(G))"
   ]
  },
  {
   "cell_type": "markdown",
   "id": "entitled-beauty",
   "metadata": {},
   "source": [
    "This is a fairly large network so viewing it in matplotlib can burdensome. To visualize the network using pyvis please set the below variable `view_pyvis` to `True`. We will further subset the data to make a more viewbale network in following cells."
   ]
  },
  {
   "cell_type": "code",
   "execution_count": 5,
   "id": "packed-member",
   "metadata": {},
   "outputs": [],
   "source": [
    "view_pyvis = False"
   ]
  },
  {
   "cell_type": "code",
   "execution_count": 6,
   "id": "alien-philadelphia",
   "metadata": {},
   "outputs": [],
   "source": [
    "from pyvis import network as net\n",
    "\n",
    "\n",
    "if view_pyvis:\n",
    "    N = net.Network(\n",
    "                    bgcolor='#222222', font_color='white', \n",
    "                   notebook=True)\n",
    "    N.barnes_hut()\n",
    "    for n in G.nodes():\n",
    "        N.add_node(n)\n",
    "    for e in G.edges():\n",
    "        N.add_edge(e[0], e[1])\n",
    "    N.show('network_1.html')"
   ]
  },
  {
   "cell_type": "markdown",
   "id": "qualified-captain",
   "metadata": {},
   "source": [
    "Next we will subsest the data to active war zones in the middle east. "
   ]
  },
  {
   "cell_type": "code",
   "execution_count": 7,
   "id": "affiliated-clock",
   "metadata": {},
   "outputs": [
    {
     "data": {
      "text/html": [
       "<div>\n",
       "<style scoped>\n",
       "    .dataframe tbody tr th:only-of-type {\n",
       "        vertical-align: middle;\n",
       "    }\n",
       "\n",
       "    .dataframe tbody tr th {\n",
       "        vertical-align: top;\n",
       "    }\n",
       "\n",
       "    .dataframe thead th {\n",
       "        text-align: right;\n",
       "    }\n",
       "</style>\n",
       "<table border=\"1\" class=\"dataframe\">\n",
       "  <thead>\n",
       "    <tr style=\"text-align: right;\">\n",
       "      <th></th>\n",
       "      <th>country_txt</th>\n",
       "      <th>attacktype1_txt</th>\n",
       "      <th>attacktype1</th>\n",
       "      <th>targtype1_txt</th>\n",
       "      <th>gname</th>\n",
       "    </tr>\n",
       "  </thead>\n",
       "  <tbody>\n",
       "    <tr>\n",
       "      <th>16</th>\n",
       "      <td>Israel</td>\n",
       "      <td>Bombing/Explosion</td>\n",
       "      <td>3</td>\n",
       "      <td>Government (General)</td>\n",
       "      <td>Unknown</td>\n",
       "    </tr>\n",
       "    <tr>\n",
       "      <th>17</th>\n",
       "      <td>Israel</td>\n",
       "      <td>Bombing/Explosion</td>\n",
       "      <td>3</td>\n",
       "      <td>Private Citizens &amp; Property</td>\n",
       "      <td>Unknown</td>\n",
       "    </tr>\n",
       "    <tr>\n",
       "      <th>268</th>\n",
       "      <td>Iran</td>\n",
       "      <td>Bombing/Explosion</td>\n",
       "      <td>3</td>\n",
       "      <td>Private Citizens &amp; Property</td>\n",
       "      <td>Unknown</td>\n",
       "    </tr>\n",
       "    <tr>\n",
       "      <th>506</th>\n",
       "      <td>Iran</td>\n",
       "      <td>Bombing/Explosion</td>\n",
       "      <td>3</td>\n",
       "      <td>Government (General)</td>\n",
       "      <td>Mujahedin-e Khalq (MEK)</td>\n",
       "    </tr>\n",
       "    <tr>\n",
       "      <th>979</th>\n",
       "      <td>Iran</td>\n",
       "      <td>Bombing/Explosion</td>\n",
       "      <td>3</td>\n",
       "      <td>Private Citizens &amp; Property</td>\n",
       "      <td>Unknown</td>\n",
       "    </tr>\n",
       "  </tbody>\n",
       "</table>\n",
       "</div>"
      ],
      "text/plain": [
       "    country_txt    attacktype1_txt  attacktype1                targtype1_txt  \\\n",
       "16       Israel  Bombing/Explosion            3         Government (General)   \n",
       "17       Israel  Bombing/Explosion            3  Private Citizens & Property   \n",
       "268        Iran  Bombing/Explosion            3  Private Citizens & Property   \n",
       "506        Iran  Bombing/Explosion            3         Government (General)   \n",
       "979        Iran  Bombing/Explosion            3  Private Citizens & Property   \n",
       "\n",
       "                       gname  \n",
       "16                   Unknown  \n",
       "17                   Unknown  \n",
       "268                  Unknown  \n",
       "506  Mujahedin-e Khalq (MEK)  \n",
       "979                  Unknown  "
      ]
     },
     "execution_count": 7,
     "metadata": {},
     "output_type": "execute_result"
    }
   ],
   "source": [
    "us_involved = [\"Syria\", \"Turkey\", \"Iraq\",\"Jordan\", \n",
    "               \"Pakistan\", \"Afghanistan\", \"Israel\", \"Iran\"]\n",
    "ter_df_2 =  ter_df[ter_df.country_txt.isin(us_involved)]\n",
    "G=nx.from_pandas_dataframe(ter_df_2,\n",
    "                               \"country_txt\", \n",
    "                               \"attacktype1_txt\",\n",
    "                               \"targtype1_txt\")\n",
    "ter_df_2.head()"
   ]
  },
  {
   "cell_type": "markdown",
   "id": "rubber-iraqi",
   "metadata": {},
   "source": [
    "Again, to visual this network in pyvis simply change the variable to `True`"
   ]
  },
  {
   "cell_type": "code",
   "execution_count": 8,
   "id": "supported-tuner",
   "metadata": {},
   "outputs": [],
   "source": [
    "view_pyvis = False"
   ]
  },
  {
   "cell_type": "code",
   "execution_count": 9,
   "id": "african-count",
   "metadata": {},
   "outputs": [],
   "source": [
    "if view_pyvis:\n",
    "    N_2 = net.Network(bgcolor='#222222',\n",
    "                      font_color='white',\n",
    "                      height='1000px',\n",
    "                      width='1000px',\n",
    "                      notebook=True)\n",
    "    N_2.barnes_hut()\n",
    "    for n in H.nodes():\n",
    "        N_2.add_node(n)\n",
    "    for e in H.edges():\n",
    "        N_2.add_edge(e[0], e[1])\n",
    "    N_2.show('active_.html')"
   ]
  },
  {
   "cell_type": "markdown",
   "id": "compatible-questionnaire",
   "metadata": {},
   "source": [
    "### Centrality and Target Type"
   ]
  },
  {
   "cell_type": "markdown",
   "id": "friendly-bryan",
   "metadata": {},
   "source": [
    "Next we will look at a few centrality measures of the nodes. First, we will look at the eigenvector centrality, which is a measure of how well connected a node is to other nodes. "
   ]
  },
  {
   "cell_type": "code",
   "execution_count": 10,
   "id": "threaded-pearl",
   "metadata": {},
   "outputs": [],
   "source": [
    "node_1 = [node[0] for node in G.edges()]\n",
    "node_2 = [node[1] for node in G.edges()]\n",
    "attr_node = [G.get_edge_data(G.edges()[i][0],\n",
    "                             G.edges()[i][1])['targtype1_txt']\n",
    "            for i in range(len(G.edges()))]\n",
    "data = zip(node_1, node_2, attr_node)\n",
    "test_df = pd.DataFrame(data=data,\n",
    "                      columns= [\"source\", \"target\", \"type\"])"
   ]
  },
  {
   "cell_type": "code",
   "execution_count": 11,
   "id": "engaged-baseline",
   "metadata": {},
   "outputs": [
    {
     "data": {
      "text/html": [
       "<div>\n",
       "<style scoped>\n",
       "    .dataframe tbody tr th:only-of-type {\n",
       "        vertical-align: middle;\n",
       "    }\n",
       "\n",
       "    .dataframe tbody tr th {\n",
       "        vertical-align: top;\n",
       "    }\n",
       "\n",
       "    .dataframe thead th {\n",
       "        text-align: right;\n",
       "    }\n",
       "</style>\n",
       "<table border=\"1\" class=\"dataframe\">\n",
       "  <thead>\n",
       "    <tr style=\"text-align: right;\">\n",
       "      <th></th>\n",
       "      <th>node</th>\n",
       "      <th>eigen_central</th>\n",
       "    </tr>\n",
       "  </thead>\n",
       "  <tbody>\n",
       "    <tr>\n",
       "      <th>0</th>\n",
       "      <td>Pakistan</td>\n",
       "      <td>0.265242</td>\n",
       "    </tr>\n",
       "    <tr>\n",
       "      <th>1</th>\n",
       "      <td>Turkey</td>\n",
       "      <td>0.265242</td>\n",
       "    </tr>\n",
       "    <tr>\n",
       "      <th>2</th>\n",
       "      <td>Syria</td>\n",
       "      <td>0.265242</td>\n",
       "    </tr>\n",
       "    <tr>\n",
       "      <th>3</th>\n",
       "      <td>Iraq</td>\n",
       "      <td>0.265242</td>\n",
       "    </tr>\n",
       "    <tr>\n",
       "      <th>4</th>\n",
       "      <td>Afghanistan</td>\n",
       "      <td>0.265242</td>\n",
       "    </tr>\n",
       "    <tr>\n",
       "      <th>5</th>\n",
       "      <td>Facility/Infrastructure Attack</td>\n",
       "      <td>0.249362</td>\n",
       "    </tr>\n",
       "    <tr>\n",
       "      <th>6</th>\n",
       "      <td>Unknown</td>\n",
       "      <td>0.249362</td>\n",
       "    </tr>\n",
       "    <tr>\n",
       "      <th>7</th>\n",
       "      <td>Bombing/Explosion</td>\n",
       "      <td>0.249362</td>\n",
       "    </tr>\n",
       "    <tr>\n",
       "      <th>8</th>\n",
       "      <td>Assassination</td>\n",
       "      <td>0.249362</td>\n",
       "    </tr>\n",
       "    <tr>\n",
       "      <th>9</th>\n",
       "      <td>Armed Assault</td>\n",
       "      <td>0.249362</td>\n",
       "    </tr>\n",
       "  </tbody>\n",
       "</table>\n",
       "</div>"
      ],
      "text/plain": [
       "                             node  eigen_central\n",
       "0                        Pakistan       0.265242\n",
       "1                          Turkey       0.265242\n",
       "2                           Syria       0.265242\n",
       "3                            Iraq       0.265242\n",
       "4                     Afghanistan       0.265242\n",
       "5  Facility/Infrastructure Attack       0.249362\n",
       "6                         Unknown       0.249362\n",
       "7               Bombing/Explosion       0.249362\n",
       "8                   Assassination       0.249362\n",
       "9                   Armed Assault       0.249362"
      ]
     },
     "execution_count": 11,
     "metadata": {},
     "output_type": "execute_result"
    }
   ],
   "source": [
    "eigen_G = nx.eigenvector_centrality_numpy(G)\n",
    "eigen_sort = sorted(eigen_G.items(),\n",
    "       key=lambda x:x[1],\n",
    "       reverse=True)\n",
    "eigen_df = pd.DataFrame(eigen_sort, \n",
    "                        columns=['node', 'eigen_central'])\n",
    "eigen_df[['node', 'eigen_central']][:10]"
   ]
  },
  {
   "cell_type": "markdown",
   "id": "alien-muslim",
   "metadata": {},
   "source": [
    "Here we see that the countries that are active participants in war are the most central, and that they are tied in eigenvector centrality. One possible exception being Pakistan. It seems the pourous border between Pakistan and Afghanistan might indicate more likely terrorist activities. We should note that this is not the case for all countries. Countries like, Iran, Israel, and Jordan are much further down the list, which makes sense given that they are _less_ involved in the current conflict."
   ]
  },
  {
   "cell_type": "code",
   "execution_count": 12,
   "id": "typical-anger",
   "metadata": {},
   "outputs": [],
   "source": [
    "eigen_list = eigen_df[eigen_df.eigen_central >= .24].node.to_list()\n",
    "eigen_plot_df = test_df[test_df.source.isin(eigen_list)] "
   ]
  },
  {
   "cell_type": "markdown",
   "id": "charming-sister",
   "metadata": {},
   "source": [
    "If we filter the network for the most central nodes in this analysis and plot the counts of there respective target type category will see the following."
   ]
  },
  {
   "cell_type": "code",
   "execution_count": 13,
   "id": "parliamentary-audit",
   "metadata": {},
   "outputs": [
    {
     "data": {
      "image/png": "[encoded data removed]",
      "text/plain": [
       "<Figure size 1008x432 with 1 Axes>"
      ]
     },
     "metadata": {
      "needs_background": "light"
     },
     "output_type": "display_data"
    }
   ],
   "source": [
    "plt.figure(figsize=(14,6))\n",
    "sns.countplot(data=eigen_plot_df, \n",
    "              x='type',\n",
    "              palette='viridis',\n",
    "              order=test_df.type.value_counts().index)\n",
    "plt.xticks(rotation=90)\n",
    "plt.title(\"Count of Target Type Category for the most Central Nodes\")\n",
    "plt.show()"
   ]
  },
  {
   "cell_type": "markdown",
   "id": "humanitarian-vector",
   "metadata": {},
   "source": [
    "Attacks against private citizens, the military, and the government make up the three most common target type. "
   ]
  },
  {
   "cell_type": "markdown",
   "id": "scientific-overview",
   "metadata": {},
   "source": [
    "### Degree Centrality"
   ]
  },
  {
   "cell_type": "markdown",
   "id": "disabled-title",
   "metadata": {},
   "source": [
    "We will run a similar analysis using degree centrality and compare the results."
   ]
  },
  {
   "cell_type": "code",
   "execution_count": 14,
   "id": "facial-agriculture",
   "metadata": {},
   "outputs": [
    {
     "data": {
      "text/html": [
       "<div>\n",
       "<style scoped>\n",
       "    .dataframe tbody tr th:only-of-type {\n",
       "        vertical-align: middle;\n",
       "    }\n",
       "\n",
       "    .dataframe tbody tr th {\n",
       "        vertical-align: top;\n",
       "    }\n",
       "\n",
       "    .dataframe thead th {\n",
       "        text-align: right;\n",
       "    }\n",
       "</style>\n",
       "<table border=\"1\" class=\"dataframe\">\n",
       "  <thead>\n",
       "    <tr style=\"text-align: right;\">\n",
       "      <th></th>\n",
       "      <th>node</th>\n",
       "      <th>degree_central</th>\n",
       "    </tr>\n",
       "  </thead>\n",
       "  <tbody>\n",
       "    <tr>\n",
       "      <th>0</th>\n",
       "      <td>Pakistan</td>\n",
       "      <td>0.5625</td>\n",
       "    </tr>\n",
       "    <tr>\n",
       "      <th>1</th>\n",
       "      <td>Turkey</td>\n",
       "      <td>0.5625</td>\n",
       "    </tr>\n",
       "    <tr>\n",
       "      <th>2</th>\n",
       "      <td>Syria</td>\n",
       "      <td>0.5625</td>\n",
       "    </tr>\n",
       "    <tr>\n",
       "      <th>3</th>\n",
       "      <td>Afghanistan</td>\n",
       "      <td>0.5625</td>\n",
       "    </tr>\n",
       "    <tr>\n",
       "      <th>4</th>\n",
       "      <td>Iraq</td>\n",
       "      <td>0.5625</td>\n",
       "    </tr>\n",
       "    <tr>\n",
       "      <th>5</th>\n",
       "      <td>Israel</td>\n",
       "      <td>0.5000</td>\n",
       "    </tr>\n",
       "    <tr>\n",
       "      <th>7</th>\n",
       "      <td>Iran</td>\n",
       "      <td>0.5000</td>\n",
       "    </tr>\n",
       "    <tr>\n",
       "      <th>16</th>\n",
       "      <td>Jordan</td>\n",
       "      <td>0.3750</td>\n",
       "    </tr>\n",
       "  </tbody>\n",
       "</table>\n",
       "</div>"
      ],
      "text/plain": [
       "           node  degree_central\n",
       "0      Pakistan          0.5625\n",
       "1        Turkey          0.5625\n",
       "2         Syria          0.5625\n",
       "3   Afghanistan          0.5625\n",
       "4          Iraq          0.5625\n",
       "5        Israel          0.5000\n",
       "7          Iran          0.5000\n",
       "16       Jordan          0.3750"
      ]
     },
     "execution_count": 14,
     "metadata": {},
     "output_type": "execute_result"
    }
   ],
   "source": [
    "degree_G = nx.degree_centrality(G)\n",
    "degree_sort = sorted(degree_G.items(),\n",
    "      key=lambda x:x[1], \n",
    "      reverse=True)\n",
    "degree_df = pd.DataFrame(degree_sort, columns=['node', 'degree_central'])\n",
    "degree_df[degree_df.node.isin(us_involved)]"
   ]
  },
  {
   "cell_type": "code",
   "execution_count": 15,
   "id": "obvious-italian",
   "metadata": {},
   "outputs": [],
   "source": [
    "degree_list = degree_df[degree_df.degree_central >= 0.50].node.to_list()\n",
    "degree_plot_df = test_df[test_df.source.isin(degree_list)] "
   ]
  },
  {
   "cell_type": "code",
   "execution_count": 16,
   "id": "general-sending",
   "metadata": {},
   "outputs": [
    {
     "data": {
      "image/png": "[encoded data removed]",
      "text/plain": [
       "<Figure size 1008x432 with 1 Axes>"
      ]
     },
     "metadata": {
      "needs_background": "light"
     },
     "output_type": "display_data"
    }
   ],
   "source": [
    "plt.figure(figsize=(14,6))\n",
    "sns.countplot(data=degree_plot_df, \n",
    "              x='type',\n",
    "              palette='viridis',\n",
    "              order=test_df.type.value_counts().index)\n",
    "plt.xticks(rotation=90)\n",
    "plt.title(\"Count of Target Type Category for the most Central Nodes\")\n",
    "plt.show()"
   ]
  },
  {
   "cell_type": "markdown",
   "id": "further-feedback",
   "metadata": {},
   "source": [
    "These two metrics; eigenvector centrality and degree centrality produce highly similar distributions of categorical counts. It seems as though this network is _too_ closed for a more meaningful comparison. "
   ]
  },
  {
   "cell_type": "markdown",
   "id": "motivated-ideal",
   "metadata": {},
   "source": [
    "## Country, Group, Target"
   ]
  },
  {
   "cell_type": "markdown",
   "id": "fresh-mother",
   "metadata": {},
   "source": [
    "We will now shift lenes on this and construct a different network where the nodes are countries and group that attacked that country. We will afix the same target type categorical to each node and run similar metrics."
   ]
  },
  {
   "cell_type": "code",
   "execution_count": 17,
   "id": "hungarian-think",
   "metadata": {},
   "outputs": [
    {
     "data": {
      "text/html": [
       "<div>\n",
       "<style scoped>\n",
       "    .dataframe tbody tr th:only-of-type {\n",
       "        vertical-align: middle;\n",
       "    }\n",
       "\n",
       "    .dataframe tbody tr th {\n",
       "        vertical-align: top;\n",
       "    }\n",
       "\n",
       "    .dataframe thead th {\n",
       "        text-align: right;\n",
       "    }\n",
       "</style>\n",
       "<table border=\"1\" class=\"dataframe\">\n",
       "  <thead>\n",
       "    <tr style=\"text-align: right;\">\n",
       "      <th></th>\n",
       "      <th>country_txt</th>\n",
       "      <th>attacktype1_txt</th>\n",
       "      <th>attacktype1</th>\n",
       "      <th>targtype1_txt</th>\n",
       "      <th>gname</th>\n",
       "    </tr>\n",
       "  </thead>\n",
       "  <tbody>\n",
       "    <tr>\n",
       "      <th>0</th>\n",
       "      <td>Sweden</td>\n",
       "      <td>Armed Assault</td>\n",
       "      <td>2</td>\n",
       "      <td>Government (General)</td>\n",
       "      <td>Unknown</td>\n",
       "    </tr>\n",
       "    <tr>\n",
       "      <th>1</th>\n",
       "      <td>West Germany (FRG)</td>\n",
       "      <td>Bombing/Explosion</td>\n",
       "      <td>3</td>\n",
       "      <td>Military</td>\n",
       "      <td>Unknown</td>\n",
       "    </tr>\n",
       "    <tr>\n",
       "      <th>2</th>\n",
       "      <td>France</td>\n",
       "      <td>Unknown</td>\n",
       "      <td>9</td>\n",
       "      <td>Police</td>\n",
       "      <td>Unknown</td>\n",
       "    </tr>\n",
       "    <tr>\n",
       "      <th>3</th>\n",
       "      <td>France</td>\n",
       "      <td>Unknown</td>\n",
       "      <td>9</td>\n",
       "      <td>Unknown</td>\n",
       "      <td>Unknown</td>\n",
       "    </tr>\n",
       "    <tr>\n",
       "      <th>4</th>\n",
       "      <td>France</td>\n",
       "      <td>Unknown</td>\n",
       "      <td>9</td>\n",
       "      <td>Unknown</td>\n",
       "      <td>Unknown</td>\n",
       "    </tr>\n",
       "  </tbody>\n",
       "</table>\n",
       "</div>"
      ],
      "text/plain": [
       "          country_txt    attacktype1_txt  attacktype1         targtype1_txt  \\\n",
       "0              Sweden      Armed Assault            2  Government (General)   \n",
       "1  West Germany (FRG)  Bombing/Explosion            3              Military   \n",
       "2              France            Unknown            9                Police   \n",
       "3              France            Unknown            9               Unknown   \n",
       "4              France            Unknown            9               Unknown   \n",
       "\n",
       "     gname  \n",
       "0  Unknown  \n",
       "1  Unknown  \n",
       "2  Unknown  \n",
       "3  Unknown  \n",
       "4  Unknown  "
      ]
     },
     "execution_count": 17,
     "metadata": {},
     "output_type": "execute_result"
    }
   ],
   "source": [
    "ter_df.head()"
   ]
  },
  {
   "cell_type": "code",
   "execution_count": 18,
   "id": "silver-variation",
   "metadata": {},
   "outputs": [
    {
     "name": "stdout",
     "output_type": "stream",
     "text": [
      "Name: \n",
      "Type: Graph\n",
      "Number of nodes: 3046\n",
      "Number of edges: 4249\n",
      "Average degree:   2.7899\n"
     ]
    }
   ],
   "source": [
    "H=nx.from_pandas_dataframe(ter_df, \"country_txt\", \"gname\", \"targtype1_txt\")\n",
    "print (nx.info(H))"
   ]
  },
  {
   "cell_type": "markdown",
   "id": "brave-bernard",
   "metadata": {},
   "source": [
    "To view the network in pyvis"
   ]
  },
  {
   "cell_type": "code",
   "execution_count": 19,
   "id": "roman-alpha",
   "metadata": {},
   "outputs": [],
   "source": [
    "view_pyvis = True"
   ]
  },
  {
   "cell_type": "code",
   "execution_count": 20,
   "id": "interstate-rouge",
   "metadata": {},
   "outputs": [],
   "source": [
    "if view_pyvis:\n",
    "    M = net.Network(\n",
    "                    bgcolor='#222222', font_color='white', \n",
    "                   notebook=True)\n",
    "    M.barnes_hut()\n",
    "    for n in H.nodes():\n",
    "        M.add_node(n)\n",
    "    for e in H.edges():\n",
    "        M.add_edge(e[0], e[1])\n",
    "    M.show('network_2.html')"
   ]
  },
  {
   "cell_type": "code",
   "execution_count": 21,
   "id": "compatible-light",
   "metadata": {},
   "outputs": [
    {
     "data": {
      "text/html": [
       "<div>\n",
       "<style scoped>\n",
       "    .dataframe tbody tr th:only-of-type {\n",
       "        vertical-align: middle;\n",
       "    }\n",
       "\n",
       "    .dataframe tbody tr th {\n",
       "        vertical-align: top;\n",
       "    }\n",
       "\n",
       "    .dataframe thead th {\n",
       "        text-align: right;\n",
       "    }\n",
       "</style>\n",
       "<table border=\"1\" class=\"dataframe\">\n",
       "  <thead>\n",
       "    <tr style=\"text-align: right;\">\n",
       "      <th></th>\n",
       "      <th>country_txt</th>\n",
       "      <th>attacktype1_txt</th>\n",
       "      <th>attacktype1</th>\n",
       "      <th>targtype1_txt</th>\n",
       "      <th>gname</th>\n",
       "    </tr>\n",
       "  </thead>\n",
       "  <tbody>\n",
       "    <tr>\n",
       "      <th>16</th>\n",
       "      <td>Israel</td>\n",
       "      <td>Bombing/Explosion</td>\n",
       "      <td>3</td>\n",
       "      <td>Government (General)</td>\n",
       "      <td>Unknown</td>\n",
       "    </tr>\n",
       "    <tr>\n",
       "      <th>17</th>\n",
       "      <td>Israel</td>\n",
       "      <td>Bombing/Explosion</td>\n",
       "      <td>3</td>\n",
       "      <td>Private Citizens &amp; Property</td>\n",
       "      <td>Unknown</td>\n",
       "    </tr>\n",
       "    <tr>\n",
       "      <th>268</th>\n",
       "      <td>Iran</td>\n",
       "      <td>Bombing/Explosion</td>\n",
       "      <td>3</td>\n",
       "      <td>Private Citizens &amp; Property</td>\n",
       "      <td>Unknown</td>\n",
       "    </tr>\n",
       "    <tr>\n",
       "      <th>506</th>\n",
       "      <td>Iran</td>\n",
       "      <td>Bombing/Explosion</td>\n",
       "      <td>3</td>\n",
       "      <td>Government (General)</td>\n",
       "      <td>Mujahedin-e Khalq (MEK)</td>\n",
       "    </tr>\n",
       "    <tr>\n",
       "      <th>979</th>\n",
       "      <td>Iran</td>\n",
       "      <td>Bombing/Explosion</td>\n",
       "      <td>3</td>\n",
       "      <td>Private Citizens &amp; Property</td>\n",
       "      <td>Unknown</td>\n",
       "    </tr>\n",
       "  </tbody>\n",
       "</table>\n",
       "</div>"
      ],
      "text/plain": [
       "    country_txt    attacktype1_txt  attacktype1                targtype1_txt  \\\n",
       "16       Israel  Bombing/Explosion            3         Government (General)   \n",
       "17       Israel  Bombing/Explosion            3  Private Citizens & Property   \n",
       "268        Iran  Bombing/Explosion            3  Private Citizens & Property   \n",
       "506        Iran  Bombing/Explosion            3         Government (General)   \n",
       "979        Iran  Bombing/Explosion            3  Private Citizens & Property   \n",
       "\n",
       "                       gname  \n",
       "16                   Unknown  \n",
       "17                   Unknown  \n",
       "268                  Unknown  \n",
       "506  Mujahedin-e Khalq (MEK)  \n",
       "979                  Unknown  "
      ]
     },
     "execution_count": 21,
     "metadata": {},
     "output_type": "execute_result"
    }
   ],
   "source": [
    "us_involved = [\"Syria\", \"Turkey\", \"Iraq\",\"Jordan\", \n",
    "               \"Pakistan\", \"Afghanistan\", \"Israel\", \"Iran\"]\n",
    "ter_df_2 =  ter_df[ter_df.country_txt.isin(us_involved)]\n",
    "H=nx.from_pandas_dataframe(ter_df_2,\n",
    "                               \"country_txt\", \n",
    "                               \"gname\",\n",
    "                               \"targtype1_txt\")\n",
    "ter_df_2.head()"
   ]
  },
  {
   "cell_type": "code",
   "execution_count": 22,
   "id": "dress-documentary",
   "metadata": {},
   "outputs": [],
   "source": [
    "node_1 = [node[0] for node in H.edges()]\n",
    "node_2 = [node[1] for node in H.edges()]\n",
    "attr_node = [H.get_edge_data(H.edges()[i][0],\n",
    "                             H.edges()[i][1])['targtype1_txt']\n",
    "            for i in range(len(H.edges()))]\n",
    "data = zip(node_1, node_2, attr_node)\n",
    "test_df_2 = pd.DataFrame(data=data,\n",
    "                      columns= [\"source\", \"target\", \"type\"])"
   ]
  },
  {
   "cell_type": "code",
   "execution_count": 23,
   "id": "timely-phase",
   "metadata": {},
   "outputs": [
    {
     "data": {
      "text/html": [
       "<div>\n",
       "<style scoped>\n",
       "    .dataframe tbody tr th:only-of-type {\n",
       "        vertical-align: middle;\n",
       "    }\n",
       "\n",
       "    .dataframe tbody tr th {\n",
       "        vertical-align: top;\n",
       "    }\n",
       "\n",
       "    .dataframe thead th {\n",
       "        text-align: right;\n",
       "    }\n",
       "</style>\n",
       "<table border=\"1\" class=\"dataframe\">\n",
       "  <thead>\n",
       "    <tr style=\"text-align: right;\">\n",
       "      <th></th>\n",
       "      <th>node</th>\n",
       "      <th>eigen_central</th>\n",
       "    </tr>\n",
       "  </thead>\n",
       "  <tbody>\n",
       "    <tr>\n",
       "      <th>0</th>\n",
       "      <td>Pakistan</td>\n",
       "      <td>0.643762</td>\n",
       "    </tr>\n",
       "    <tr>\n",
       "      <th>1</th>\n",
       "      <td>Iraq</td>\n",
       "      <td>0.190405</td>\n",
       "    </tr>\n",
       "    <tr>\n",
       "      <th>2</th>\n",
       "      <td>Afghanistan</td>\n",
       "      <td>0.134182</td>\n",
       "    </tr>\n",
       "    <tr>\n",
       "      <th>3</th>\n",
       "      <td>Turkey</td>\n",
       "      <td>0.109138</td>\n",
       "    </tr>\n",
       "    <tr>\n",
       "      <th>4</th>\n",
       "      <td>Unknown</td>\n",
       "      <td>0.109030</td>\n",
       "    </tr>\n",
       "    <tr>\n",
       "      <th>5</th>\n",
       "      <td>Muslim extremists</td>\n",
       "      <td>0.109030</td>\n",
       "    </tr>\n",
       "    <tr>\n",
       "      <th>6</th>\n",
       "      <td>Gunmen</td>\n",
       "      <td>0.100933</td>\n",
       "    </tr>\n",
       "    <tr>\n",
       "      <th>7</th>\n",
       "      <td>Syria</td>\n",
       "      <td>0.092835</td>\n",
       "    </tr>\n",
       "    <tr>\n",
       "      <th>8</th>\n",
       "      <td>Islamist extremists</td>\n",
       "      <td>0.090647</td>\n",
       "    </tr>\n",
       "    <tr>\n",
       "      <th>9</th>\n",
       "      <td>Militants</td>\n",
       "      <td>0.078482</td>\n",
       "    </tr>\n",
       "  </tbody>\n",
       "</table>\n",
       "</div>"
      ],
      "text/plain": [
       "                  node  eigen_central\n",
       "0             Pakistan       0.643762\n",
       "1                 Iraq       0.190405\n",
       "2          Afghanistan       0.134182\n",
       "3               Turkey       0.109138\n",
       "4              Unknown       0.109030\n",
       "5    Muslim extremists       0.109030\n",
       "6               Gunmen       0.100933\n",
       "7                Syria       0.092835\n",
       "8  Islamist extremists       0.090647\n",
       "9            Militants       0.078482"
      ]
     },
     "execution_count": 23,
     "metadata": {},
     "output_type": "execute_result"
    }
   ],
   "source": [
    "eigen_H = nx.eigenvector_centrality_numpy(H)\n",
    "eigen_sort = sorted(eigen_H.items(),\n",
    "       key=lambda x:x[1],\n",
    "       reverse=True)\n",
    "eigen_df = pd.DataFrame(eigen_sort, \n",
    "                        columns=['node', 'eigen_central'])\n",
    "eigen_df[['node', 'eigen_central']][:10]"
   ]
  },
  {
   "cell_type": "code",
   "execution_count": 24,
   "id": "planned-collectible",
   "metadata": {},
   "outputs": [],
   "source": [
    "eigen_list = eigen_df.node.to_list()[:5]\n",
    "eigen_plot_df = test_df[test_df.source.isin(eigen_list)] "
   ]
  },
  {
   "cell_type": "code",
   "execution_count": 25,
   "id": "removable-pillow",
   "metadata": {},
   "outputs": [
    {
     "data": {
      "image/png": "[encoded data removed]",
      "text/plain": [
       "<Figure size 1008x432 with 1 Axes>"
      ]
     },
     "metadata": {
      "needs_background": "light"
     },
     "output_type": "display_data"
    }
   ],
   "source": [
    "plt.figure(figsize=(14,6))\n",
    "sns.countplot(data=eigen_plot_df, \n",
    "              x='type',\n",
    "              palette='viridis',\n",
    "              order=test_df.type.value_counts().index)\n",
    "plt.xticks(rotation=90)\n",
    "plt.title(\"Count of Target Type Category for the most Central Nodes\")\n",
    "plt.show()"
   ]
  },
  {
   "cell_type": "code",
   "execution_count": 26,
   "id": "vocational-meeting",
   "metadata": {},
   "outputs": [
    {
     "data": {
      "text/html": [
       "<div>\n",
       "<style scoped>\n",
       "    .dataframe tbody tr th:only-of-type {\n",
       "        vertical-align: middle;\n",
       "    }\n",
       "\n",
       "    .dataframe tbody tr th {\n",
       "        vertical-align: top;\n",
       "    }\n",
       "\n",
       "    .dataframe thead th {\n",
       "        text-align: right;\n",
       "    }\n",
       "</style>\n",
       "<table border=\"1\" class=\"dataframe\">\n",
       "  <thead>\n",
       "    <tr style=\"text-align: right;\">\n",
       "      <th></th>\n",
       "      <th>node</th>\n",
       "      <th>degree_central</th>\n",
       "    </tr>\n",
       "  </thead>\n",
       "  <tbody>\n",
       "    <tr>\n",
       "      <th>0</th>\n",
       "      <td>Pakistan</td>\n",
       "      <td>0.306695</td>\n",
       "    </tr>\n",
       "    <tr>\n",
       "      <th>1</th>\n",
       "      <td>Iraq</td>\n",
       "      <td>0.213823</td>\n",
       "    </tr>\n",
       "    <tr>\n",
       "      <th>2</th>\n",
       "      <td>Syria</td>\n",
       "      <td>0.159827</td>\n",
       "    </tr>\n",
       "    <tr>\n",
       "      <th>3</th>\n",
       "      <td>Israel</td>\n",
       "      <td>0.144708</td>\n",
       "    </tr>\n",
       "    <tr>\n",
       "      <th>4</th>\n",
       "      <td>Turkey</td>\n",
       "      <td>0.136069</td>\n",
       "    </tr>\n",
       "    <tr>\n",
       "      <th>5</th>\n",
       "      <td>Afghanistan</td>\n",
       "      <td>0.092873</td>\n",
       "    </tr>\n",
       "    <tr>\n",
       "      <th>6</th>\n",
       "      <td>Iran</td>\n",
       "      <td>0.082073</td>\n",
       "    </tr>\n",
       "    <tr>\n",
       "      <th>7</th>\n",
       "      <td>Jordan</td>\n",
       "      <td>0.038877</td>\n",
       "    </tr>\n",
       "    <tr>\n",
       "      <th>8</th>\n",
       "      <td>Unknown</td>\n",
       "      <td>0.017279</td>\n",
       "    </tr>\n",
       "    <tr>\n",
       "      <th>9</th>\n",
       "      <td>Muslim extremists</td>\n",
       "      <td>0.017279</td>\n",
       "    </tr>\n",
       "  </tbody>\n",
       "</table>\n",
       "</div>"
      ],
      "text/plain": [
       "                node  degree_central\n",
       "0           Pakistan        0.306695\n",
       "1               Iraq        0.213823\n",
       "2              Syria        0.159827\n",
       "3             Israel        0.144708\n",
       "4             Turkey        0.136069\n",
       "5        Afghanistan        0.092873\n",
       "6               Iran        0.082073\n",
       "7             Jordan        0.038877\n",
       "8            Unknown        0.017279\n",
       "9  Muslim extremists        0.017279"
      ]
     },
     "execution_count": 26,
     "metadata": {},
     "output_type": "execute_result"
    }
   ],
   "source": [
    "degree_H = nx.degree_centrality(H)\n",
    "degree_sort = sorted(degree_H.items(),\n",
    "      key=lambda x:x[1], \n",
    "      reverse=True)\n",
    "degree_df = pd.DataFrame(degree_sort, columns=['node', 'degree_central'])\n",
    "degree_df[['node', 'degree_central']][:10]"
   ]
  },
  {
   "cell_type": "code",
   "execution_count": 27,
   "id": "shaped-modeling",
   "metadata": {},
   "outputs": [],
   "source": [
    "degree_list = degree_df.node.to_list()[:5]\n",
    "degree_plot_df = test_df[test_df.source.isin(degree_list)] "
   ]
  },
  {
   "cell_type": "code",
   "execution_count": 28,
   "id": "grateful-nigeria",
   "metadata": {},
   "outputs": [
    {
     "data": {
      "image/png": "[encoded data removed]",
      "text/plain": [
       "<Figure size 1008x432 with 1 Axes>"
      ]
     },
     "metadata": {
      "needs_background": "light"
     },
     "output_type": "display_data"
    }
   ],
   "source": [
    "plt.figure(figsize=(14,6))\n",
    "sns.countplot(data=degree_plot_df, \n",
    "              x='type',\n",
    "              palette='viridis',\n",
    "              order=test_df.type.value_counts().index)\n",
    "plt.xticks(rotation=90)\n",
    "plt.title(\"Count of Target Type Category for the most Central Nodes\")\n",
    "plt.show()"
   ]
  },
  {
   "cell_type": "code",
   "execution_count": 56,
   "id": "forward-implement",
   "metadata": {},
   "outputs": [
    {
     "data": {
      "text/html": [
       "<div>\n",
       "<style scoped>\n",
       "    .dataframe tbody tr th:only-of-type {\n",
       "        vertical-align: middle;\n",
       "    }\n",
       "\n",
       "    .dataframe tbody tr th {\n",
       "        vertical-align: top;\n",
       "    }\n",
       "\n",
       "    .dataframe thead th {\n",
       "        text-align: right;\n",
       "    }\n",
       "</style>\n",
       "<table border=\"1\" class=\"dataframe\">\n",
       "  <thead>\n",
       "    <tr style=\"text-align: right;\">\n",
       "      <th></th>\n",
       "      <th>country_txt</th>\n",
       "      <th>attacktype1_txt</th>\n",
       "      <th>attacktype1</th>\n",
       "      <th>targtype1_txt</th>\n",
       "      <th>gname</th>\n",
       "      <th>ID</th>\n",
       "    </tr>\n",
       "  </thead>\n",
       "  <tbody>\n",
       "    <tr>\n",
       "      <th>16</th>\n",
       "      <td>Israel</td>\n",
       "      <td>Bombing/Explosion</td>\n",
       "      <td>3</td>\n",
       "      <td>Government (General)</td>\n",
       "      <td>Unknown</td>\n",
       "      <td>0</td>\n",
       "    </tr>\n",
       "    <tr>\n",
       "      <th>17</th>\n",
       "      <td>Israel</td>\n",
       "      <td>Bombing/Explosion</td>\n",
       "      <td>3</td>\n",
       "      <td>Private Citizens &amp; Property</td>\n",
       "      <td>Unknown</td>\n",
       "      <td>1</td>\n",
       "    </tr>\n",
       "    <tr>\n",
       "      <th>268</th>\n",
       "      <td>Iran</td>\n",
       "      <td>Bombing/Explosion</td>\n",
       "      <td>3</td>\n",
       "      <td>Private Citizens &amp; Property</td>\n",
       "      <td>Unknown</td>\n",
       "      <td>2</td>\n",
       "    </tr>\n",
       "    <tr>\n",
       "      <th>506</th>\n",
       "      <td>Iran</td>\n",
       "      <td>Bombing/Explosion</td>\n",
       "      <td>3</td>\n",
       "      <td>Government (General)</td>\n",
       "      <td>Mujahedin-e Khalq (MEK)</td>\n",
       "      <td>3</td>\n",
       "    </tr>\n",
       "    <tr>\n",
       "      <th>979</th>\n",
       "      <td>Iran</td>\n",
       "      <td>Bombing/Explosion</td>\n",
       "      <td>3</td>\n",
       "      <td>Private Citizens &amp; Property</td>\n",
       "      <td>Unknown</td>\n",
       "      <td>4</td>\n",
       "    </tr>\n",
       "    <tr>\n",
       "      <th>980</th>\n",
       "      <td>Israel</td>\n",
       "      <td>Bombing/Explosion</td>\n",
       "      <td>3</td>\n",
       "      <td>Private Citizens &amp; Property</td>\n",
       "      <td>Unknown</td>\n",
       "      <td>5</td>\n",
       "    </tr>\n",
       "    <tr>\n",
       "      <th>986</th>\n",
       "      <td>Israel</td>\n",
       "      <td>Bombing/Explosion</td>\n",
       "      <td>3</td>\n",
       "      <td>Private Citizens &amp; Property</td>\n",
       "      <td>Unknown</td>\n",
       "      <td>6</td>\n",
       "    </tr>\n",
       "    <tr>\n",
       "      <th>987</th>\n",
       "      <td>Israel</td>\n",
       "      <td>Bombing/Explosion</td>\n",
       "      <td>3</td>\n",
       "      <td>Private Citizens &amp; Property</td>\n",
       "      <td>Unknown</td>\n",
       "      <td>7</td>\n",
       "    </tr>\n",
       "    <tr>\n",
       "      <th>988</th>\n",
       "      <td>Israel</td>\n",
       "      <td>Bombing/Explosion</td>\n",
       "      <td>3</td>\n",
       "      <td>Private Citizens &amp; Property</td>\n",
       "      <td>Unknown</td>\n",
       "      <td>8</td>\n",
       "    </tr>\n",
       "    <tr>\n",
       "      <th>1613</th>\n",
       "      <td>Israel</td>\n",
       "      <td>Bombing/Explosion</td>\n",
       "      <td>3</td>\n",
       "      <td>Government (General)</td>\n",
       "      <td>Unknown</td>\n",
       "      <td>9</td>\n",
       "    </tr>\n",
       "    <tr>\n",
       "      <th>1652</th>\n",
       "      <td>Pakistan</td>\n",
       "      <td>Bombing/Explosion</td>\n",
       "      <td>3</td>\n",
       "      <td>Airports &amp; Aircraft</td>\n",
       "      <td>Iranians</td>\n",
       "      <td>10</td>\n",
       "    </tr>\n",
       "    <tr>\n",
       "      <th>1653</th>\n",
       "      <td>Pakistan</td>\n",
       "      <td>Bombing/Explosion</td>\n",
       "      <td>3</td>\n",
       "      <td>Government (General)</td>\n",
       "      <td>Iranians</td>\n",
       "      <td>11</td>\n",
       "    </tr>\n",
       "    <tr>\n",
       "      <th>1748</th>\n",
       "      <td>Turkey</td>\n",
       "      <td>Assassination</td>\n",
       "      <td>1</td>\n",
       "      <td>Government (Diplomatic)</td>\n",
       "      <td>Hezbollah</td>\n",
       "      <td>12</td>\n",
       "    </tr>\n",
       "    <tr>\n",
       "      <th>1776</th>\n",
       "      <td>Syria</td>\n",
       "      <td>Bombing/Explosion</td>\n",
       "      <td>3</td>\n",
       "      <td>Journalists &amp; Media</td>\n",
       "      <td>Unknown</td>\n",
       "      <td>13</td>\n",
       "    </tr>\n",
       "    <tr>\n",
       "      <th>2026</th>\n",
       "      <td>Turkey</td>\n",
       "      <td>Bombing/Explosion</td>\n",
       "      <td>3</td>\n",
       "      <td>Airports &amp; Aircraft</td>\n",
       "      <td>Unknown</td>\n",
       "      <td>14</td>\n",
       "    </tr>\n",
       "    <tr>\n",
       "      <th>2053</th>\n",
       "      <td>Israel</td>\n",
       "      <td>Bombing/Explosion</td>\n",
       "      <td>3</td>\n",
       "      <td>Transportation</td>\n",
       "      <td>Palestinians</td>\n",
       "      <td>15</td>\n",
       "    </tr>\n",
       "    <tr>\n",
       "      <th>2084</th>\n",
       "      <td>Israel</td>\n",
       "      <td>Bombing/Explosion</td>\n",
       "      <td>3</td>\n",
       "      <td>Private Citizens &amp; Property</td>\n",
       "      <td>Unknown</td>\n",
       "      <td>16</td>\n",
       "    </tr>\n",
       "    <tr>\n",
       "      <th>2218</th>\n",
       "      <td>Israel</td>\n",
       "      <td>Bombing/Explosion</td>\n",
       "      <td>3</td>\n",
       "      <td>Transportation</td>\n",
       "      <td>Unknown</td>\n",
       "      <td>17</td>\n",
       "    </tr>\n",
       "    <tr>\n",
       "      <th>2219</th>\n",
       "      <td>Israel</td>\n",
       "      <td>Bombing/Explosion</td>\n",
       "      <td>3</td>\n",
       "      <td>Military</td>\n",
       "      <td>Democratic Front for the Liberation of Palesti...</td>\n",
       "      <td>18</td>\n",
       "    </tr>\n",
       "    <tr>\n",
       "      <th>2241</th>\n",
       "      <td>Israel</td>\n",
       "      <td>Bombing/Explosion</td>\n",
       "      <td>3</td>\n",
       "      <td>Private Citizens &amp; Property</td>\n",
       "      <td>Unknown</td>\n",
       "      <td>19</td>\n",
       "    </tr>\n",
       "  </tbody>\n",
       "</table>\n",
       "</div>"
      ],
      "text/plain": [
       "     country_txt    attacktype1_txt  attacktype1                targtype1_txt  \\\n",
       "16        Israel  Bombing/Explosion            3         Government (General)   \n",
       "17        Israel  Bombing/Explosion            3  Private Citizens & Property   \n",
       "268         Iran  Bombing/Explosion            3  Private Citizens & Property   \n",
       "506         Iran  Bombing/Explosion            3         Government (General)   \n",
       "979         Iran  Bombing/Explosion            3  Private Citizens & Property   \n",
       "980       Israel  Bombing/Explosion            3  Private Citizens & Property   \n",
       "986       Israel  Bombing/Explosion            3  Private Citizens & Property   \n",
       "987       Israel  Bombing/Explosion            3  Private Citizens & Property   \n",
       "988       Israel  Bombing/Explosion            3  Private Citizens & Property   \n",
       "1613      Israel  Bombing/Explosion            3         Government (General)   \n",
       "1652    Pakistan  Bombing/Explosion            3          Airports & Aircraft   \n",
       "1653    Pakistan  Bombing/Explosion            3         Government (General)   \n",
       "1748      Turkey      Assassination            1      Government (Diplomatic)   \n",
       "1776       Syria  Bombing/Explosion            3          Journalists & Media   \n",
       "2026      Turkey  Bombing/Explosion            3          Airports & Aircraft   \n",
       "2053      Israel  Bombing/Explosion            3               Transportation   \n",
       "2084      Israel  Bombing/Explosion            3  Private Citizens & Property   \n",
       "2218      Israel  Bombing/Explosion            3               Transportation   \n",
       "2219      Israel  Bombing/Explosion            3                     Military   \n",
       "2241      Israel  Bombing/Explosion            3  Private Citizens & Property   \n",
       "\n",
       "                                                  gname  ID  \n",
       "16                                              Unknown   0  \n",
       "17                                              Unknown   1  \n",
       "268                                             Unknown   2  \n",
       "506                             Mujahedin-e Khalq (MEK)   3  \n",
       "979                                             Unknown   4  \n",
       "980                                             Unknown   5  \n",
       "986                                             Unknown   6  \n",
       "987                                             Unknown   7  \n",
       "988                                             Unknown   8  \n",
       "1613                                            Unknown   9  \n",
       "1652                                           Iranians  10  \n",
       "1653                                           Iranians  11  \n",
       "1748                                          Hezbollah  12  \n",
       "1776                                            Unknown  13  \n",
       "2026                                            Unknown  14  \n",
       "2053                                       Palestinians  15  \n",
       "2084                                            Unknown  16  \n",
       "2218                                            Unknown  17  \n",
       "2219  Democratic Front for the Liberation of Palesti...  18  \n",
       "2241                                            Unknown  19  "
      ]
     },
     "execution_count": 56,
     "metadata": {},
     "output_type": "execute_result"
    }
   ],
   "source": [
    "ter_df_sub =  ter_df[ter_df.country_txt.isin(us_involved)]\n",
    "ter_df_sub['ID'] = np.arange(len(ter_df_sub))\n",
    "ter_df_sub.head(20)"
   ]
  },
  {
   "cell_type": "code",
   "execution_count": 63,
   "id": "verbal-tucson",
   "metadata": {},
   "outputs": [
    {
     "data": {
      "text/html": [
       "<div>\n",
       "<style scoped>\n",
       "    .dataframe tbody tr th:only-of-type {\n",
       "        vertical-align: middle;\n",
       "    }\n",
       "\n",
       "    .dataframe tbody tr th {\n",
       "        vertical-align: top;\n",
       "    }\n",
       "\n",
       "    .dataframe thead th {\n",
       "        text-align: right;\n",
       "    }\n",
       "</style>\n",
       "<table border=\"1\" class=\"dataframe\">\n",
       "  <thead>\n",
       "    <tr style=\"text-align: right;\">\n",
       "      <th></th>\n",
       "      <th>attacktype1</th>\n",
       "      <th>ID</th>\n",
       "    </tr>\n",
       "  </thead>\n",
       "  <tbody>\n",
       "    <tr>\n",
       "      <th>16</th>\n",
       "      <td>3</td>\n",
       "      <td>0</td>\n",
       "    </tr>\n",
       "    <tr>\n",
       "      <th>17</th>\n",
       "      <td>3</td>\n",
       "      <td>1</td>\n",
       "    </tr>\n",
       "    <tr>\n",
       "      <th>268</th>\n",
       "      <td>3</td>\n",
       "      <td>2</td>\n",
       "    </tr>\n",
       "    <tr>\n",
       "      <th>506</th>\n",
       "      <td>3</td>\n",
       "      <td>3</td>\n",
       "    </tr>\n",
       "    <tr>\n",
       "      <th>979</th>\n",
       "      <td>3</td>\n",
       "      <td>4</td>\n",
       "    </tr>\n",
       "  </tbody>\n",
       "</table>\n",
       "</div>"
      ],
      "text/plain": [
       "     attacktype1  ID\n",
       "16             3   0\n",
       "17             3   1\n",
       "268            3   2\n",
       "506            3   3\n",
       "979            3   4"
      ]
     },
     "execution_count": 63,
     "metadata": {},
     "output_type": "execute_result"
    }
   ],
   "source": [
    "catv = ter_df_sub.filter([\"attacktype1\"], axis=1)\n",
    "catv['ID'] = catv.reset_index().index\n",
    "catv.head()"
   ]
  },
  {
   "cell_type": "code",
   "execution_count": 59,
   "id": "natural-lloyd",
   "metadata": {},
   "outputs": [
    {
     "data": {
      "text/plain": [
       "['Israel',\n",
       " 3,\n",
       " 'Iran',\n",
       " 'Pakistan',\n",
       " 'Turkey',\n",
       " 1,\n",
       " 'Syria',\n",
       " 7,\n",
       " 2,\n",
       " 9,\n",
       " 4,\n",
       " 6,\n",
       " 'Afghanistan',\n",
       " 8,\n",
       " 'Iraq',\n",
       " 5,\n",
       " 'Jordan']"
      ]
     },
     "execution_count": 59,
     "metadata": {},
     "output_type": "execute_result"
    }
   ],
   "source": [
    "G=nx.from_pandas_dataframe(ter_df_sub, 'country_txt', 'attacktype1', create_using=nx.Graph() )\n",
    "#G.nodes()"
   ]
  },
  {
   "cell_type": "code",
   "execution_count": 60,
   "id": "julian-artist",
   "metadata": {},
   "outputs": [],
   "source": [
    "catv= catv.set_index('ID')\n",
    "catv=catv.reindex(G.nodes())"
   ]
  },
  {
   "cell_type": "code",
   "execution_count": 64,
   "id": "editorial-course",
   "metadata": {},
   "outputs": [
    {
     "data": {
      "text/plain": [
       "16        2\n",
       "17        2\n",
       "268       2\n",
       "506       2\n",
       "979       2\n",
       "         ..\n",
       "177096    2\n",
       "177097    8\n",
       "177101    8\n",
       "177108    8\n",
       "177109    2\n",
       "Length: 66776, dtype: int8"
      ]
     },
     "execution_count": 64,
     "metadata": {},
     "output_type": "execute_result"
    }
   ],
   "source": [
    "catv['attacktype1']=pd.Categorical(catv['attacktype1'])\n",
    "catv['attacktype1'].cat.codes"
   ]
  },
  {
   "cell_type": "code",
   "execution_count": 65,
   "id": "lonely-simon",
   "metadata": {},
   "outputs": [
    {
     "ename": "ValueError",
     "evalue": "c of shape (66776,) not acceptable as a color sequence for x with size 17, y with size 17",
     "output_type": "error",
     "traceback": [
      "\u001b[1;31m---------------------------------------------------------------------------\u001b[0m",
      "\u001b[1;31mKeyError\u001b[0m                                  Traceback (most recent call last)",
      "\u001b[1;32mC:\\ProgramData\\Anaconda3\\envs\\data620_web\\lib\\site-packages\\matplotlib\\colors.py\u001b[0m in \u001b[0;36mto_rgba\u001b[1;34m(c, alpha)\u001b[0m\n\u001b[0;32m    165\u001b[0m     \u001b[1;32mtry\u001b[0m\u001b[1;33m:\u001b[0m\u001b[1;33m\u001b[0m\u001b[1;33m\u001b[0m\u001b[0m\n\u001b[1;32m--> 166\u001b[1;33m         \u001b[0mrgba\u001b[0m \u001b[1;33m=\u001b[0m \u001b[0m_colors_full_map\u001b[0m\u001b[1;33m.\u001b[0m\u001b[0mcache\u001b[0m\u001b[1;33m[\u001b[0m\u001b[0mc\u001b[0m\u001b[1;33m,\u001b[0m \u001b[0malpha\u001b[0m\u001b[1;33m]\u001b[0m\u001b[1;33m\u001b[0m\u001b[1;33m\u001b[0m\u001b[0m\n\u001b[0m\u001b[0;32m    167\u001b[0m     \u001b[1;32mexcept\u001b[0m \u001b[1;33m(\u001b[0m\u001b[0mKeyError\u001b[0m\u001b[1;33m,\u001b[0m \u001b[0mTypeError\u001b[0m\u001b[1;33m)\u001b[0m\u001b[1;33m:\u001b[0m  \u001b[1;31m# Not in cache, or unhashable.\u001b[0m\u001b[1;33m\u001b[0m\u001b[1;33m\u001b[0m\u001b[0m\n",
      "\u001b[1;31mKeyError\u001b[0m: (2, None)",
      "\nDuring handling of the above exception, another exception occurred:\n",
      "\u001b[1;31mValueError\u001b[0m                                Traceback (most recent call last)",
      "\u001b[1;32mC:\\ProgramData\\Anaconda3\\envs\\data620_web\\lib\\site-packages\\matplotlib\\axes\\_axes.py\u001b[0m in \u001b[0;36mscatter\u001b[1;34m(self, x, y, s, c, marker, cmap, norm, vmin, vmax, alpha, linewidths, verts, edgecolors, **kwargs)\u001b[0m\n\u001b[0;32m   4287\u001b[0m                 \u001b[1;31m# must be acceptable as PathCollection facecolors\u001b[0m\u001b[1;33m\u001b[0m\u001b[1;33m\u001b[0m\u001b[1;33m\u001b[0m\u001b[0m\n\u001b[1;32m-> 4288\u001b[1;33m                 \u001b[0mcolors\u001b[0m \u001b[1;33m=\u001b[0m \u001b[0mmcolors\u001b[0m\u001b[1;33m.\u001b[0m\u001b[0mto_rgba_array\u001b[0m\u001b[1;33m(\u001b[0m\u001b[0mc\u001b[0m\u001b[1;33m)\u001b[0m\u001b[1;33m\u001b[0m\u001b[1;33m\u001b[0m\u001b[0m\n\u001b[0m\u001b[0;32m   4289\u001b[0m             \u001b[1;32mexcept\u001b[0m \u001b[0mValueError\u001b[0m\u001b[1;33m:\u001b[0m\u001b[1;33m\u001b[0m\u001b[1;33m\u001b[0m\u001b[0m\n",
      "\u001b[1;32mC:\\ProgramData\\Anaconda3\\envs\\data620_web\\lib\\site-packages\\matplotlib\\colors.py\u001b[0m in \u001b[0;36mto_rgba_array\u001b[1;34m(c, alpha)\u001b[0m\n\u001b[0;32m    266\u001b[0m     \u001b[1;32mfor\u001b[0m \u001b[0mi\u001b[0m\u001b[1;33m,\u001b[0m \u001b[0mcc\u001b[0m \u001b[1;32min\u001b[0m \u001b[0menumerate\u001b[0m\u001b[1;33m(\u001b[0m\u001b[0mc\u001b[0m\u001b[1;33m)\u001b[0m\u001b[1;33m:\u001b[0m\u001b[1;33m\u001b[0m\u001b[1;33m\u001b[0m\u001b[0m\n\u001b[1;32m--> 267\u001b[1;33m         \u001b[0mresult\u001b[0m\u001b[1;33m[\u001b[0m\u001b[0mi\u001b[0m\u001b[1;33m]\u001b[0m \u001b[1;33m=\u001b[0m \u001b[0mto_rgba\u001b[0m\u001b[1;33m(\u001b[0m\u001b[0mcc\u001b[0m\u001b[1;33m,\u001b[0m \u001b[0malpha\u001b[0m\u001b[1;33m)\u001b[0m\u001b[1;33m\u001b[0m\u001b[1;33m\u001b[0m\u001b[0m\n\u001b[0m\u001b[0;32m    268\u001b[0m     \u001b[1;32mreturn\u001b[0m \u001b[0mresult\u001b[0m\u001b[1;33m\u001b[0m\u001b[1;33m\u001b[0m\u001b[0m\n",
      "\u001b[1;32mC:\\ProgramData\\Anaconda3\\envs\\data620_web\\lib\\site-packages\\matplotlib\\colors.py\u001b[0m in \u001b[0;36mto_rgba\u001b[1;34m(c, alpha)\u001b[0m\n\u001b[0;32m    167\u001b[0m     \u001b[1;32mexcept\u001b[0m \u001b[1;33m(\u001b[0m\u001b[0mKeyError\u001b[0m\u001b[1;33m,\u001b[0m \u001b[0mTypeError\u001b[0m\u001b[1;33m)\u001b[0m\u001b[1;33m:\u001b[0m  \u001b[1;31m# Not in cache, or unhashable.\u001b[0m\u001b[1;33m\u001b[0m\u001b[1;33m\u001b[0m\u001b[0m\n\u001b[1;32m--> 168\u001b[1;33m         \u001b[0mrgba\u001b[0m \u001b[1;33m=\u001b[0m \u001b[0m_to_rgba_no_colorcycle\u001b[0m\u001b[1;33m(\u001b[0m\u001b[0mc\u001b[0m\u001b[1;33m,\u001b[0m \u001b[0malpha\u001b[0m\u001b[1;33m)\u001b[0m\u001b[1;33m\u001b[0m\u001b[1;33m\u001b[0m\u001b[0m\n\u001b[0m\u001b[0;32m    169\u001b[0m         \u001b[1;32mtry\u001b[0m\u001b[1;33m:\u001b[0m\u001b[1;33m\u001b[0m\u001b[1;33m\u001b[0m\u001b[0m\n",
      "\u001b[1;32mC:\\ProgramData\\Anaconda3\\envs\\data620_web\\lib\\site-packages\\matplotlib\\colors.py\u001b[0m in \u001b[0;36m_to_rgba_no_colorcycle\u001b[1;34m(c, alpha)\u001b[0m\n\u001b[0;32m    218\u001b[0m         \u001b[1;31m# Test dimensionality to reject single floats.\u001b[0m\u001b[1;33m\u001b[0m\u001b[1;33m\u001b[0m\u001b[1;33m\u001b[0m\u001b[0m\n\u001b[1;32m--> 219\u001b[1;33m         \u001b[1;32mraise\u001b[0m \u001b[0mValueError\u001b[0m\u001b[1;33m(\u001b[0m\u001b[1;34m\"Invalid RGBA argument: {!r}\"\u001b[0m\u001b[1;33m.\u001b[0m\u001b[0mformat\u001b[0m\u001b[1;33m(\u001b[0m\u001b[0morig_c\u001b[0m\u001b[1;33m)\u001b[0m\u001b[1;33m)\u001b[0m\u001b[1;33m\u001b[0m\u001b[1;33m\u001b[0m\u001b[0m\n\u001b[0m\u001b[0;32m    220\u001b[0m     \u001b[1;31m# Return a tuple to prevent the cached value from being modified.\u001b[0m\u001b[1;33m\u001b[0m\u001b[1;33m\u001b[0m\u001b[1;33m\u001b[0m\u001b[0m\n",
      "\u001b[1;31mValueError\u001b[0m: Invalid RGBA argument: 2",
      "\nDuring handling of the above exception, another exception occurred:\n",
      "\u001b[1;31mValueError\u001b[0m                                Traceback (most recent call last)",
      "\u001b[1;32m<ipython-input-65-e8322d27d267>\u001b[0m in \u001b[0;36m<module>\u001b[1;34m\u001b[0m\n\u001b[0;32m      1\u001b[0m \u001b[0mplt\u001b[0m\u001b[1;33m.\u001b[0m\u001b[0mfigure\u001b[0m\u001b[1;33m(\u001b[0m\u001b[0mfigsize\u001b[0m\u001b[1;33m=\u001b[0m\u001b[1;33m(\u001b[0m\u001b[1;36m8\u001b[0m\u001b[1;33m,\u001b[0m\u001b[1;36m8\u001b[0m\u001b[1;33m)\u001b[0m\u001b[1;33m)\u001b[0m\u001b[1;33m\u001b[0m\u001b[1;33m\u001b[0m\u001b[0m\n\u001b[1;32m----> 2\u001b[1;33m \u001b[0mnx\u001b[0m\u001b[1;33m.\u001b[0m\u001b[0mdraw\u001b[0m\u001b[1;33m(\u001b[0m\u001b[0mG\u001b[0m\u001b[1;33m,\u001b[0m \u001b[0mwith_labels\u001b[0m\u001b[1;33m=\u001b[0m\u001b[1;32mTrue\u001b[0m\u001b[1;33m,\u001b[0m \u001b[0mnode_color\u001b[0m\u001b[1;33m=\u001b[0m\u001b[0mcatv\u001b[0m\u001b[1;33m[\u001b[0m\u001b[1;34m'attacktype1'\u001b[0m\u001b[1;33m]\u001b[0m\u001b[1;33m.\u001b[0m\u001b[0mcat\u001b[0m\u001b[1;33m.\u001b[0m\u001b[0mcodes\u001b[0m\u001b[1;33m,\u001b[0m \u001b[0mcmap\u001b[0m\u001b[1;33m=\u001b[0m\u001b[0mplt\u001b[0m\u001b[1;33m.\u001b[0m\u001b[0mcm\u001b[0m\u001b[1;33m.\u001b[0m\u001b[0mSet1\u001b[0m\u001b[1;33m,\u001b[0m \u001b[0mnode_size\u001b[0m\u001b[1;33m=\u001b[0m\u001b[1;36m90\u001b[0m\u001b[1;33m,\u001b[0m \u001b[0mfont_size\u001b[0m\u001b[1;33m=\u001b[0m\u001b[1;36m20\u001b[0m\u001b[1;33m)\u001b[0m\u001b[1;33m\u001b[0m\u001b[1;33m\u001b[0m\u001b[0m\n\u001b[0m\u001b[0;32m      3\u001b[0m \u001b[0mplt\u001b[0m\u001b[1;33m.\u001b[0m\u001b[0mshow\u001b[0m\u001b[1;33m(\u001b[0m\u001b[1;33m)\u001b[0m\u001b[1;33m\u001b[0m\u001b[1;33m\u001b[0m\u001b[0m\n",
      "\u001b[1;32mC:\\ProgramData\\Anaconda3\\envs\\data620_web\\lib\\site-packages\\networkx\\drawing\\nx_pylab.py\u001b[0m in \u001b[0;36mdraw\u001b[1;34m(G, pos, ax, hold, **kwds)\u001b[0m\n\u001b[0;32m    130\u001b[0m         \u001b[0mplt\u001b[0m\u001b[1;33m.\u001b[0m\u001b[0mhold\u001b[0m\u001b[1;33m(\u001b[0m\u001b[0mh\u001b[0m\u001b[1;33m)\u001b[0m\u001b[1;33m\u001b[0m\u001b[1;33m\u001b[0m\u001b[0m\n\u001b[0;32m    131\u001b[0m     \u001b[1;32mtry\u001b[0m\u001b[1;33m:\u001b[0m\u001b[1;33m\u001b[0m\u001b[1;33m\u001b[0m\u001b[0m\n\u001b[1;32m--> 132\u001b[1;33m         \u001b[0mdraw_networkx\u001b[0m\u001b[1;33m(\u001b[0m\u001b[0mG\u001b[0m\u001b[1;33m,\u001b[0m \u001b[0mpos\u001b[0m\u001b[1;33m=\u001b[0m\u001b[0mpos\u001b[0m\u001b[1;33m,\u001b[0m \u001b[0max\u001b[0m\u001b[1;33m=\u001b[0m\u001b[0max\u001b[0m\u001b[1;33m,\u001b[0m \u001b[1;33m**\u001b[0m\u001b[0mkwds\u001b[0m\u001b[1;33m)\u001b[0m\u001b[1;33m\u001b[0m\u001b[1;33m\u001b[0m\u001b[0m\n\u001b[0m\u001b[0;32m    133\u001b[0m         \u001b[0max\u001b[0m\u001b[1;33m.\u001b[0m\u001b[0mset_axis_off\u001b[0m\u001b[1;33m(\u001b[0m\u001b[1;33m)\u001b[0m\u001b[1;33m\u001b[0m\u001b[1;33m\u001b[0m\u001b[0m\n\u001b[0;32m    134\u001b[0m         \u001b[0mplt\u001b[0m\u001b[1;33m.\u001b[0m\u001b[0mdraw_if_interactive\u001b[0m\u001b[1;33m(\u001b[0m\u001b[1;33m)\u001b[0m\u001b[1;33m\u001b[0m\u001b[1;33m\u001b[0m\u001b[0m\n",
      "\u001b[1;32mC:\\ProgramData\\Anaconda3\\envs\\data620_web\\lib\\site-packages\\networkx\\drawing\\nx_pylab.py\u001b[0m in \u001b[0;36mdraw_networkx\u001b[1;34m(G, pos, arrows, with_labels, **kwds)\u001b[0m\n\u001b[0;32m    273\u001b[0m         \u001b[0mpos\u001b[0m \u001b[1;33m=\u001b[0m \u001b[0mnx\u001b[0m\u001b[1;33m.\u001b[0m\u001b[0mdrawing\u001b[0m\u001b[1;33m.\u001b[0m\u001b[0mspring_layout\u001b[0m\u001b[1;33m(\u001b[0m\u001b[0mG\u001b[0m\u001b[1;33m)\u001b[0m  \u001b[1;31m# default to spring layout\u001b[0m\u001b[1;33m\u001b[0m\u001b[1;33m\u001b[0m\u001b[0m\n\u001b[0;32m    274\u001b[0m \u001b[1;33m\u001b[0m\u001b[0m\n\u001b[1;32m--> 275\u001b[1;33m     \u001b[0mnode_collection\u001b[0m \u001b[1;33m=\u001b[0m \u001b[0mdraw_networkx_nodes\u001b[0m\u001b[1;33m(\u001b[0m\u001b[0mG\u001b[0m\u001b[1;33m,\u001b[0m \u001b[0mpos\u001b[0m\u001b[1;33m,\u001b[0m \u001b[1;33m**\u001b[0m\u001b[0mkwds\u001b[0m\u001b[1;33m)\u001b[0m\u001b[1;33m\u001b[0m\u001b[1;33m\u001b[0m\u001b[0m\n\u001b[0m\u001b[0;32m    276\u001b[0m     \u001b[0medge_collection\u001b[0m \u001b[1;33m=\u001b[0m \u001b[0mdraw_networkx_edges\u001b[0m\u001b[1;33m(\u001b[0m\u001b[0mG\u001b[0m\u001b[1;33m,\u001b[0m \u001b[0mpos\u001b[0m\u001b[1;33m,\u001b[0m \u001b[0marrows\u001b[0m\u001b[1;33m=\u001b[0m\u001b[0marrows\u001b[0m\u001b[1;33m,\u001b[0m \u001b[1;33m**\u001b[0m\u001b[0mkwds\u001b[0m\u001b[1;33m)\u001b[0m\u001b[1;33m\u001b[0m\u001b[1;33m\u001b[0m\u001b[0m\n\u001b[0;32m    277\u001b[0m     \u001b[1;32mif\u001b[0m \u001b[0mwith_labels\u001b[0m\u001b[1;33m:\u001b[0m\u001b[1;33m\u001b[0m\u001b[1;33m\u001b[0m\u001b[0m\n",
      "\u001b[1;32mC:\\ProgramData\\Anaconda3\\envs\\data620_web\\lib\\site-packages\\networkx\\drawing\\nx_pylab.py\u001b[0m in \u001b[0;36mdraw_networkx_nodes\u001b[1;34m(G, pos, nodelist, node_size, node_color, node_shape, alpha, cmap, vmin, vmax, ax, linewidths, label, **kwds)\u001b[0m\n\u001b[0;32m    397\u001b[0m                                  \u001b[0malpha\u001b[0m\u001b[1;33m=\u001b[0m\u001b[0malpha\u001b[0m\u001b[1;33m,\u001b[0m\u001b[1;33m\u001b[0m\u001b[1;33m\u001b[0m\u001b[0m\n\u001b[0;32m    398\u001b[0m                                  \u001b[0mlinewidths\u001b[0m\u001b[1;33m=\u001b[0m\u001b[0mlinewidths\u001b[0m\u001b[1;33m,\u001b[0m\u001b[1;33m\u001b[0m\u001b[1;33m\u001b[0m\u001b[0m\n\u001b[1;32m--> 399\u001b[1;33m                                  label=label)\n\u001b[0m\u001b[0;32m    400\u001b[0m \u001b[1;33m\u001b[0m\u001b[0m\n\u001b[0;32m    401\u001b[0m     \u001b[0mnode_collection\u001b[0m\u001b[1;33m.\u001b[0m\u001b[0mset_zorder\u001b[0m\u001b[1;33m(\u001b[0m\u001b[1;36m2\u001b[0m\u001b[1;33m)\u001b[0m\u001b[1;33m\u001b[0m\u001b[1;33m\u001b[0m\u001b[0m\n",
      "\u001b[1;32mC:\\ProgramData\\Anaconda3\\envs\\data620_web\\lib\\site-packages\\matplotlib\\__init__.py\u001b[0m in \u001b[0;36minner\u001b[1;34m(ax, *args, **kwargs)\u001b[0m\n\u001b[0;32m   1865\u001b[0m                         \u001b[1;34m\"the Matplotlib list!)\"\u001b[0m \u001b[1;33m%\u001b[0m \u001b[1;33m(\u001b[0m\u001b[0mlabel_namer\u001b[0m\u001b[1;33m,\u001b[0m \u001b[0mfunc\u001b[0m\u001b[1;33m.\u001b[0m\u001b[0m__name__\u001b[0m\u001b[1;33m)\u001b[0m\u001b[1;33m,\u001b[0m\u001b[1;33m\u001b[0m\u001b[1;33m\u001b[0m\u001b[0m\n\u001b[0;32m   1866\u001b[0m                         RuntimeWarning, stacklevel=2)\n\u001b[1;32m-> 1867\u001b[1;33m             \u001b[1;32mreturn\u001b[0m \u001b[0mfunc\u001b[0m\u001b[1;33m(\u001b[0m\u001b[0max\u001b[0m\u001b[1;33m,\u001b[0m \u001b[1;33m*\u001b[0m\u001b[0margs\u001b[0m\u001b[1;33m,\u001b[0m \u001b[1;33m**\u001b[0m\u001b[0mkwargs\u001b[0m\u001b[1;33m)\u001b[0m\u001b[1;33m\u001b[0m\u001b[1;33m\u001b[0m\u001b[0m\n\u001b[0m\u001b[0;32m   1868\u001b[0m \u001b[1;33m\u001b[0m\u001b[0m\n\u001b[0;32m   1869\u001b[0m         inner.__doc__ = _add_data_doc(inner.__doc__,\n",
      "\u001b[1;32mC:\\ProgramData\\Anaconda3\\envs\\data620_web\\lib\\site-packages\\matplotlib\\axes\\_axes.py\u001b[0m in \u001b[0;36mscatter\u001b[1;34m(self, x, y, s, c, marker, cmap, norm, vmin, vmax, alpha, linewidths, verts, edgecolors, **kwargs)\u001b[0m\n\u001b[0;32m   4291\u001b[0m                 raise ValueError(\"c of shape {} not acceptable as a color \"\n\u001b[0;32m   4292\u001b[0m                                  \u001b[1;34m\"sequence for x with size {}, y with size {}\"\u001b[0m\u001b[1;33m\u001b[0m\u001b[1;33m\u001b[0m\u001b[0m\n\u001b[1;32m-> 4293\u001b[1;33m                                  .format(c.shape, x.size, y.size))\n\u001b[0m\u001b[0;32m   4294\u001b[0m         \u001b[1;32melse\u001b[0m\u001b[1;33m:\u001b[0m\u001b[1;33m\u001b[0m\u001b[1;33m\u001b[0m\u001b[0m\n\u001b[0;32m   4295\u001b[0m             \u001b[0mcolors\u001b[0m \u001b[1;33m=\u001b[0m \u001b[1;32mNone\u001b[0m  \u001b[1;31m# use cmap, norm after collection is created\u001b[0m\u001b[1;33m\u001b[0m\u001b[1;33m\u001b[0m\u001b[0m\n",
      "\u001b[1;31mValueError\u001b[0m: c of shape (66776,) not acceptable as a color sequence for x with size 17, y with size 17"
     ]
    },
    {
     "data": {
      "image/png": "[encoded data removed]",
      "text/plain": [
       "<Figure size 576x576 with 1 Axes>"
      ]
     },
     "metadata": {},
     "output_type": "display_data"
    }
   ],
   "source": [
    "plt.figure(figsize=(8,8))\n",
    "nx.draw(G, with_labels=True, node_color=catv['attacktype1'].cat.codes, cmap=plt.cm.Set1, node_size=90, font_size=20)\n",
    "plt.show()\n"
   ]
  },
  {
   "cell_type": "code",
   "execution_count": 44,
   "id": "quick-marble",
   "metadata": {},
   "outputs": [
    {
     "data": {
      "text/html": [
       "<div>\n",
       "<style scoped>\n",
       "    .dataframe tbody tr th:only-of-type {\n",
       "        vertical-align: middle;\n",
       "    }\n",
       "\n",
       "    .dataframe tbody tr th {\n",
       "        vertical-align: top;\n",
       "    }\n",
       "\n",
       "    .dataframe thead th {\n",
       "        text-align: right;\n",
       "    }\n",
       "</style>\n",
       "<table border=\"1\" class=\"dataframe\">\n",
       "  <thead>\n",
       "    <tr style=\"text-align: right;\">\n",
       "      <th></th>\n",
       "      <th>country_txt</th>\n",
       "      <th>attacktype1_txt</th>\n",
       "      <th>attacktype1</th>\n",
       "      <th>targtype1_txt</th>\n",
       "      <th>gname</th>\n",
       "      <th>ID</th>\n",
       "      <th>catvalue</th>\n",
       "    </tr>\n",
       "  </thead>\n",
       "  <tbody>\n",
       "    <tr>\n",
       "      <th>16</th>\n",
       "      <td>Israel</td>\n",
       "      <td>Bombing/Explosion</td>\n",
       "      <td>3</td>\n",
       "      <td>Government (General)</td>\n",
       "      <td>Unknown</td>\n",
       "      <td>0</td>\n",
       "      <td>3</td>\n",
       "    </tr>\n",
       "    <tr>\n",
       "      <th>17</th>\n",
       "      <td>Israel</td>\n",
       "      <td>Bombing/Explosion</td>\n",
       "      <td>3</td>\n",
       "      <td>Private Citizens &amp; Property</td>\n",
       "      <td>Unknown</td>\n",
       "      <td>1</td>\n",
       "      <td>3</td>\n",
       "    </tr>\n",
       "    <tr>\n",
       "      <th>268</th>\n",
       "      <td>Iran</td>\n",
       "      <td>Bombing/Explosion</td>\n",
       "      <td>3</td>\n",
       "      <td>Private Citizens &amp; Property</td>\n",
       "      <td>Unknown</td>\n",
       "      <td>2</td>\n",
       "      <td>3</td>\n",
       "    </tr>\n",
       "    <tr>\n",
       "      <th>506</th>\n",
       "      <td>Iran</td>\n",
       "      <td>Bombing/Explosion</td>\n",
       "      <td>3</td>\n",
       "      <td>Government (General)</td>\n",
       "      <td>Mujahedin-e Khalq (MEK)</td>\n",
       "      <td>3</td>\n",
       "      <td>2</td>\n",
       "    </tr>\n",
       "    <tr>\n",
       "      <th>979</th>\n",
       "      <td>Iran</td>\n",
       "      <td>Bombing/Explosion</td>\n",
       "      <td>3</td>\n",
       "      <td>Private Citizens &amp; Property</td>\n",
       "      <td>Unknown</td>\n",
       "      <td>4</td>\n",
       "      <td>1</td>\n",
       "    </tr>\n",
       "  </tbody>\n",
       "</table>\n",
       "</div>"
      ],
      "text/plain": [
       "    country_txt    attacktype1_txt  attacktype1                targtype1_txt  \\\n",
       "16       Israel  Bombing/Explosion            3         Government (General)   \n",
       "17       Israel  Bombing/Explosion            3  Private Citizens & Property   \n",
       "268        Iran  Bombing/Explosion            3  Private Citizens & Property   \n",
       "506        Iran  Bombing/Explosion            3         Government (General)   \n",
       "979        Iran  Bombing/Explosion            3  Private Citizens & Property   \n",
       "\n",
       "                       gname  ID  catvalue  \n",
       "16                   Unknown   0         3  \n",
       "17                   Unknown   1         3  \n",
       "268                  Unknown   2         3  \n",
       "506  Mujahedin-e Khalq (MEK)   3         2  \n",
       "979                  Unknown   4         1  "
      ]
     },
     "execution_count": 44,
     "metadata": {},
     "output_type": "execute_result"
    }
   ],
   "source": []
  },
  {
   "cell_type": "code",
   "execution_count": null,
   "id": "considerable-murder",
   "metadata": {},
   "outputs": [],
   "source": [
    "target_org = df[['targtype1_txt', 'gname', 'weaptype1']]\n",
    "target_org = target_org[target_org['gname']!= \"Unknown\"]\n",
    "target_org.head()"
   ]
  },
  {
   "cell_type": "code",
   "execution_count": null,
   "id": "proper-dallas",
   "metadata": {},
   "outputs": [],
   "source": [
    "G=nx.from_pandas_dataframe(target_org, \"targtype1_txt\", \"gname\", \"weaptype1\")\n",
    "print (nx.info(G))"
   ]
  },
  {
   "cell_type": "code",
   "execution_count": null,
   "id": "electoral-knock",
   "metadata": {},
   "outputs": [],
   "source": [
    "view_pyvis = True\n",
    "from pyvis import network as net\n",
    "if view_pyvis:\n",
    "    M = net.Network(\n",
    "                    bgcolor='#222222', font_color='white', \n",
    "                   notebook=True)\n",
    "    M.barnes_hut()\n",
    "    for n in G.nodes():\n",
    "        M.add_node(n)\n",
    "    for e in G.edges():\n",
    "        M.add_edge(e[0], e[1])\n",
    "    M.show('target_org.html')"
   ]
  },
  {
   "cell_type": "code",
   "execution_count": null,
   "id": "optical-stewart",
   "metadata": {},
   "outputs": [],
   "source": [
    "n=5\n",
    "top_gname = target_org['gname'].value_counts()[:n].index.tolist()\n",
    "target_org_small =  target_org[target_org.gname.isin(top_gname)]\n",
    "\n",
    "target_org_small.count()\n",
    "#ter_df_2 =  ter_df[ter_df.country_txt.isin(us_involved)]"
   ]
  },
  {
   "cell_type": "code",
   "execution_count": null,
   "id": "egyptian-angola",
   "metadata": {},
   "outputs": [],
   "source": []
  },
  {
   "cell_type": "code",
   "execution_count": null,
   "id": "funky-timber",
   "metadata": {},
   "outputs": [],
   "source": [
    "S=nx.from_pandas_dataframe(target_org_small, \"targtype1_txt\",\"gname\")\n",
    "print (nx.info(S))"
   ]
  },
  {
   "cell_type": "code",
   "execution_count": null,
   "id": "conditional-johns",
   "metadata": {},
   "outputs": [],
   "source": [
    "%matplotlib inline\n",
    "plt.rcParams['figure.figsize'] = (10, 8)\n",
    "nx.draw(S, node_color='bisque', with_labels=True)"
   ]
  },
  {
   "cell_type": "code",
   "execution_count": null,
   "id": "early-jacksonville",
   "metadata": {},
   "outputs": [],
   "source": []
  }
 ],
 "metadata": {
  "kernelspec": {
   "display_name": "Python 3",
   "language": "python",
   "name": "python3"
  },
  "language_info": {
   "codemirror_mode": {
    "name": "ipython",
    "version": 3
   },
   "file_extension": ".py",
   "mimetype": "text/x-python",
   "name": "python",
   "nbconvert_exporter": "python",
   "pygments_lexer": "ipython3",
   "version": "3.7.9"
  }
 },
 "nbformat": 4,
 "nbformat_minor": 5
}
