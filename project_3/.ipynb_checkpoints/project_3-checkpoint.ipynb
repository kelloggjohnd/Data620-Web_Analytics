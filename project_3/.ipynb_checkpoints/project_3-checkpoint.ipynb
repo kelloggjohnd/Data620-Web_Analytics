{
 "cells": [
  {
   "cell_type": "markdown",
   "id": "oriental-reception",
   "metadata": {},
   "source": [
    "# Project 3 - Text Mining\n",
    "\n",
    "Predict Name-Gender Labels with NLTK \"names\" data.\n",
    "\n",
    "---\n",
    "\n",
    "Jeff Shamp, John Kellogg"
   ]
  },
  {
   "cell_type": "code",
   "execution_count": 1,
   "id": "promising-landing",
   "metadata": {},
   "outputs": [
    {
     "name": "stderr",
     "output_type": "stream",
     "text": [
      "[nltk_data] Downloading package names to\n",
      "[nltk_data]     C:\\Users\\x\\AppData\\Roaming\\nltk_data...\n",
      "[nltk_data]   Package names is already up-to-date!\n"
     ]
    }
   ],
   "source": [
    "import pandas as pd\n",
    "import numpy as np\n",
    "import nltk\n",
    "import matplotlib.pyplot as plt\n",
    "import seaborn as sns\n",
    "import nltk\n",
    "\n",
    "#nltk.download('names')\n",
    "nltk.download('names')\n",
    "from nltk.corpus import names\n",
    "\n",
    "\n",
    "from sklearn.linear_model import LogisticRegression\n",
    "from sklearn.ensemble import GradientBoostingClassifier\n",
    "from sklearn.svm import SVC\n",
    "from sklearn.naive_bayes import MultinomialNB\n",
    "from sklearn.feature_extraction.text import CountVectorizer\n",
    "\n",
    "from sklearn.metrics import confusion_matrix, classification_report\n",
    "from sklearn.model_selection import train_test_split\n",
    "\n",
    "%load_ext autoreload\n",
    "%autoreload 2\n",
    "\n",
    "import warnings;\n",
    "warnings.filterwarnings('ignore');"
   ]
  },
  {
   "cell_type": "markdown",
   "id": "greek-estate",
   "metadata": {},
   "source": [
    "## Assignment"
   ]
  },
  {
   "cell_type": "markdown",
   "id": "together-washer",
   "metadata": {},
   "source": [
    "Using any of the three classifiers described in chapter 6 of Natural Language Processing with Python, and any features you can think of, build the best name gender classifier you can. \n",
    "\n",
    "Begin by splitting the Names Corpus into three subsets: \n",
    "* 500 words for the test set, \n",
    "* 500 words for the dev-test set \n",
    "* 6900 words remaining for the training set. \n",
    "\n",
    "Starting with the example name gender classifier, make incremental improvements. Use the dev-test set to check your progress.\n",
    "\n",
    "Once you are satisfied with your classifier, check its final performance on the test set. \n",
    "\n",
    "* How does the performance on the test set compare to the performance on the dev-test set? \n",
    "* Is this what you'd expect?"
   ]
  },
  {
   "cell_type": "markdown",
   "id": "concrete-aaron",
   "metadata": {},
   "source": [
    "## Data Processing & Extract Features"
   ]
  },
  {
   "cell_type": "markdown",
   "id": "continuous-answer",
   "metadata": {},
   "source": [
    "As in everything the first step is to arrange the data into a usable format, like a dataframe. Once there we can ensure there is nothing we need to fix and extract some features like min, max, and average length of name.  Each of these will be useful later. "
   ]
  },
  {
   "cell_type": "code",
   "execution_count": 2,
   "id": "considerable-canyon",
   "metadata": {},
   "outputs": [],
   "source": [
    "# import the data\n",
    "names_dict = {'name':names.words()}\n",
    "names_df = pd.DataFrame(data= names_dict)"
   ]
  },
  {
   "cell_type": "code",
   "execution_count": 3,
   "id": "opposed-copying",
   "metadata": {},
   "outputs": [],
   "source": [
    "def label_names(row):\n",
    "    if row in names.words('female.txt'):\n",
    "        return \"female\"\n",
    "    if row in names.words('male.txt'):\n",
    "        return \"male\"\n",
    "    else: return -1\n",
    "    \n",
    "def get_last_letter(row):\n",
    "    return row[-1]"
   ]
  },
  {
   "cell_type": "code",
   "execution_count": 4,
   "id": "champion-display",
   "metadata": {},
   "outputs": [],
   "source": [
    "# Not the most efficient use of python or lists or encoders, but it works\n",
    "names_df['label'] = names_df.name.apply(lambda x: label_names(x))"
   ]
  },
  {
   "cell_type": "code",
   "execution_count": 5,
   "id": "environmental-numbers",
   "metadata": {},
   "outputs": [],
   "source": [
    "names_df['last_letter'] = names_df.name.apply(lambda x: get_last_letter(x))\n",
    "names_df = names_df.sample(frac=1).reset_index(drop=True)"
   ]
  },
  {
   "cell_type": "code",
   "execution_count": 6,
   "id": "applied-justice",
   "metadata": {},
   "outputs": [
    {
     "name": "stdout",
     "output_type": "stream",
     "text": [
      "Min length name: 2\n",
      "Average length name: 6.03285498489426\n",
      "Median length name: 6.0\n",
      "Max length name: 15\n"
     ]
    }
   ],
   "source": [
    "print(f\"Min length name: {names_df.name.apply(len).min()}\",\n",
    "      f\"Average length name: {names_df.name.apply(len).mean()}\",\n",
    "      f\"Median length name: {names_df.name.apply(len).median()}\",\n",
    "      f\"Max length name: {names_df.name.apply(len).max()}\",\n",
    "      sep=\"\\n\")"
   ]
  },
  {
   "cell_type": "markdown",
   "id": "hearing-crawford",
   "metadata": {},
   "source": [
    "Now, we have some useful stats and a way to clearly define Male/Female.  The Mean/Median length is around 6 characters.  "
   ]
  },
  {
   "cell_type": "markdown",
   "id": "british-atmosphere",
   "metadata": {},
   "source": [
    "## Base Line Model (of this report)"
   ]
  },
  {
   "cell_type": "markdown",
   "id": "surprised-vanilla",
   "metadata": {},
   "source": [
    "The book uses a Naive Bayes classifer for determining name-gender congruence using a simple last letter scheme. The model shown in the book achieved a 0.782 accuracy. We intend to beat that. \n",
    "\n",
    "We will leverage the diversity of name length to create character n-grams of the names and assign count scores to those character n-grams. Using the data from earlier, we see that the minimum length name is 2 characters and maximum is 15. \n",
    "\n",
    "Our process is to build n-grams to count from 0 - 15.  We found that this combination is likely to be the best for model accuracy and precision in our goal to beat the book. "
   ]
  },
  {
   "cell_type": "code",
   "execution_count": 7,
   "id": "wound-diploma",
   "metadata": {},
   "outputs": [],
   "source": [
    "char_vectorizer = CountVectorizer(analyzer='char', ngram_range=(0, 16))\n",
    "X = char_vectorizer.fit_transform(names_df.name)"
   ]
  },
  {
   "cell_type": "code",
   "execution_count": 8,
   "id": "rental-bermuda",
   "metadata": {},
   "outputs": [],
   "source": [
    "# collapse to sparse matrix\n",
    "X = X.tocsc()"
   ]
  },
  {
   "cell_type": "code",
   "execution_count": 9,
   "id": "falling-private",
   "metadata": {},
   "outputs": [],
   "source": [
    "train_dev = X[500:]\n",
    "test = X[:500]"
   ]
  },
  {
   "cell_type": "code",
   "execution_count": 10,
   "id": "soviet-wyoming",
   "metadata": {},
   "outputs": [],
   "source": [
    "X_train, X_dev, y_train, y_dev = \\\n",
    "train_test_split(train_dev,\n",
    "                  names_df['label'][500:],\n",
    "                  test_size=0.07,\n",
    "                  random_state=42)"
   ]
  },
  {
   "cell_type": "code",
   "execution_count": 11,
   "id": "independent-refund",
   "metadata": {},
   "outputs": [],
   "source": [
    "naive_model = MultinomialNB().fit(X_train, y_train)"
   ]
  },
  {
   "cell_type": "code",
   "execution_count": 12,
   "id": "square-conservation",
   "metadata": {},
   "outputs": [
    {
     "name": "stdout",
     "output_type": "stream",
     "text": [
      "              precision    recall  f1-score   support\n",
      "\n",
      "      female       0.86      0.93      0.89       365\n",
      "        male       0.80      0.64      0.71       157\n",
      "\n",
      "    accuracy                           0.84       522\n",
      "   macro avg       0.83      0.78      0.80       522\n",
      "weighted avg       0.84      0.84      0.84       522\n",
      "\n"
     ]
    }
   ],
   "source": [
    "print(classification_report(y_dev, naive_model.predict(X_dev)))"
   ]
  },
  {
   "cell_type": "code",
   "execution_count": 13,
   "id": "patent-daisy",
   "metadata": {},
   "outputs": [
    {
     "name": "stdout",
     "output_type": "stream",
     "text": [
      "[[340  25]\n",
      " [ 57 100]]\n"
     ]
    }
   ],
   "source": [
    "print(confusion_matrix(y_dev, naive_model.predict(X_dev)))"
   ]
  },
  {
   "cell_type": "markdown",
   "id": "angry-breeding",
   "metadata": {},
   "source": [
    "### Initial Results\n",
    "\n",
    "Success! We have beat the book in all parameters.  The accuracy numbers are around 0.85\n",
    "\n",
    "Using a similar (or same family of classifiers) model we can achieve much higher accuracy on predicting name-gender using character n-grams than what was used in the book. Let's push it further.  Can we get those numbers up higher?"
   ]
  },
  {
   "cell_type": "markdown",
   "id": "secret-emperor",
   "metadata": {},
   "source": [
    "## Potential other models\n",
    "\n",
    "### SVM Model"
   ]
  },
  {
   "cell_type": "code",
   "execution_count": 14,
   "id": "motivated-liberty",
   "metadata": {},
   "outputs": [],
   "source": [
    "svm_model = SVC(gamma='scale').fit(X_train, y_train)"
   ]
  },
  {
   "cell_type": "code",
   "execution_count": 15,
   "id": "proper-amazon",
   "metadata": {},
   "outputs": [
    {
     "name": "stdout",
     "output_type": "stream",
     "text": [
      "              precision    recall  f1-score   support\n",
      "\n",
      "      female       0.83      0.95      0.89       365\n",
      "        male       0.83      0.55      0.66       157\n",
      "\n",
      "    accuracy                           0.83       522\n",
      "   macro avg       0.83      0.75      0.77       522\n",
      "weighted avg       0.83      0.83      0.82       522\n",
      "\n"
     ]
    }
   ],
   "source": [
    "print(classification_report(y_dev, svm_model.predict(X_dev)))"
   ]
  },
  {
   "cell_type": "code",
   "execution_count": 16,
   "id": "unknown-forum",
   "metadata": {},
   "outputs": [
    {
     "name": "stdout",
     "output_type": "stream",
     "text": [
      "[[347  18]\n",
      " [ 71  86]]\n"
     ]
    }
   ],
   "source": [
    "print(confusion_matrix(y_dev, svm_model.predict(X_dev)))"
   ]
  },
  {
   "cell_type": "markdown",
   "id": "yellow-thumbnail",
   "metadata": {},
   "source": [
    "#### SVM is no better than the base line model. "
   ]
  },
  {
   "cell_type": "markdown",
   "id": "straight-image",
   "metadata": {},
   "source": [
    "### Logistic Regression"
   ]
  },
  {
   "cell_type": "code",
   "execution_count": 17,
   "id": "negative-nudist",
   "metadata": {},
   "outputs": [],
   "source": [
    "logit_model = LogisticRegression(max_iter=3000).fit(X_train, y_train)"
   ]
  },
  {
   "cell_type": "code",
   "execution_count": 18,
   "id": "blank-witness",
   "metadata": {},
   "outputs": [
    {
     "name": "stdout",
     "output_type": "stream",
     "text": [
      "              precision    recall  f1-score   support\n",
      "\n",
      "      female       0.91      0.95      0.93       365\n",
      "        male       0.87      0.79      0.83       157\n",
      "\n",
      "    accuracy                           0.90       522\n",
      "   macro avg       0.89      0.87      0.88       522\n",
      "weighted avg       0.90      0.90      0.90       522\n",
      "\n"
     ]
    }
   ],
   "source": [
    "print(classification_report(y_dev, logit_model.predict(X_dev)))"
   ]
  },
  {
   "cell_type": "code",
   "execution_count": 19,
   "id": "killing-message",
   "metadata": {},
   "outputs": [
    {
     "name": "stdout",
     "output_type": "stream",
     "text": [
      "[[346  19]\n",
      " [ 33 124]]\n"
     ]
    }
   ],
   "source": [
    "print(confusion_matrix(y_dev, logit_model.predict(X_dev)))"
   ]
  },
  {
   "cell_type": "markdown",
   "id": "greater-spectacular",
   "metadata": {},
   "source": [
    "#### So far the Logistic Regression model is the best in terms of precision and accuracy.  It also minimizes False Negatives/False Positive ratio."
   ]
  },
  {
   "cell_type": "markdown",
   "id": "still-feeding",
   "metadata": {},
   "source": [
    "### GMB Model"
   ]
  },
  {
   "cell_type": "code",
   "execution_count": 20,
   "id": "occupied-consultancy",
   "metadata": {},
   "outputs": [],
   "source": [
    "gmb_model = GradientBoostingClassifier().fit(X_train, y_train)"
   ]
  },
  {
   "cell_type": "code",
   "execution_count": 21,
   "id": "received-journey",
   "metadata": {},
   "outputs": [
    {
     "name": "stdout",
     "output_type": "stream",
     "text": [
      "              precision    recall  f1-score   support\n",
      "\n",
      "      female       0.80      0.97      0.87       365\n",
      "        male       0.85      0.42      0.56       157\n",
      "\n",
      "    accuracy                           0.80       522\n",
      "   macro avg       0.82      0.69      0.72       522\n",
      "weighted avg       0.81      0.80      0.78       522\n",
      "\n"
     ]
    }
   ],
   "source": [
    "print(classification_report(y_dev, gmb_model.predict(X_dev)))"
   ]
  },
  {
   "cell_type": "code",
   "execution_count": 22,
   "id": "improved-alert",
   "metadata": {},
   "outputs": [
    {
     "name": "stdout",
     "output_type": "stream",
     "text": [
      "[[353  12]\n",
      " [ 91  66]]\n"
     ]
    }
   ],
   "source": [
    "print(confusion_matrix(y_dev, gmb_model.predict(X_dev)))"
   ]
  },
  {
   "cell_type": "markdown",
   "id": "patient-simpson",
   "metadata": {},
   "source": [
    "#### The GMB model is lower than the baseline model."
   ]
  },
  {
   "cell_type": "markdown",
   "id": "impressed-private",
   "metadata": {},
   "source": [
    "## Development Results"
   ]
  },
  {
   "cell_type": "markdown",
   "id": "discrete-trademark",
   "metadata": {},
   "source": [
    "We see that the best model is the Logistic Regression model as it is significantly better than both the book's and our baseline model. The more complex (and generally superior) Tree Boosted model was worse than the both base models. \n",
    "\n",
    "If constrained to a Naive Bayesian model only, our model trained on character n-grams demonstrated better results (86% accuracy) as compared to the book's base model (78%). "
   ]
  },
  {
   "cell_type": "markdown",
   "id": "received-michigan",
   "metadata": {},
   "source": [
    "## Test Set Results"
   ]
  },
  {
   "cell_type": "markdown",
   "id": "eleven-subject",
   "metadata": {},
   "source": [
    "We will now answer the initial question: \"How does the performance on the test set compare to the performance on the dev-test set?\"  Using the LogRegression model as our best dev model we fit it to the entire training set and evaluate on the test set. "
   ]
  },
  {
   "cell_type": "code",
   "execution_count": 23,
   "id": "conceptual-setting",
   "metadata": {},
   "outputs": [],
   "source": [
    "final_model = LogisticRegression(max_iter=3000).fit(train_dev, names_df.label[500:])"
   ]
  },
  {
   "cell_type": "code",
   "execution_count": 24,
   "id": "retired-freeware",
   "metadata": {},
   "outputs": [
    {
     "name": "stdout",
     "output_type": "stream",
     "text": [
      "              precision    recall  f1-score   support\n",
      "\n",
      "      female       0.91      0.94      0.92       353\n",
      "        male       0.85      0.77      0.81       147\n",
      "\n",
      "    accuracy                           0.89       500\n",
      "   macro avg       0.88      0.86      0.87       500\n",
      "weighted avg       0.89      0.89      0.89       500\n",
      "\n"
     ]
    }
   ],
   "source": [
    "print(classification_report(names_df.label[:500], final_model.predict(test)))"
   ]
  },
  {
   "cell_type": "code",
   "execution_count": 25,
   "id": "arranged-characterization",
   "metadata": {},
   "outputs": [
    {
     "name": "stdout",
     "output_type": "stream",
     "text": [
      "[[333  20]\n",
      " [ 34 113]]\n"
     ]
    }
   ],
   "source": [
    "print(confusion_matrix(names_df.label[:500], final_model.predict(test)))"
   ]
  },
  {
   "cell_type": "markdown",
   "id": "turkish-manchester",
   "metadata": {},
   "source": [
    "The secondary question: \"Is this what you'd expect?\" is Yes, this is what was expected.  We achieved consistent results from the development set into the training/test set. While the numbers are lower than the dev numbers, they are still greater than the book's model numbers and still slightly higher than our base model numbers.\n",
    "\n",
    "Great!"
   ]
  },
  {
   "cell_type": "markdown",
   "id": "advisory-western",
   "metadata": {},
   "source": [
    "[Video Submission](!https://youtu.be/pQiAWf8XyEw)."
   ]
  }
 ],
 "metadata": {
  "hide_input": false,
  "kernelspec": {
   "display_name": "Python 3",
   "language": "python",
   "name": "python3"
  },
  "language_info": {
   "codemirror_mode": {
    "name": "ipython",
    "version": 3
   },
   "file_extension": ".py",
   "mimetype": "text/x-python",
   "name": "python",
   "nbconvert_exporter": "python",
   "pygments_lexer": "ipython3",
   "version": "3.7.9"
  }
 },
 "nbformat": 4,
 "nbformat_minor": 5
}
