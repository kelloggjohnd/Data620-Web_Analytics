{
 "cells": [
  {
   "cell_type": "code",
   "execution_count": 144,
   "id": "tropical-bolivia",
   "metadata": {},
   "outputs": [
    {
     "name": "stdout",
     "output_type": "stream",
     "text": [
      "The autoreload extension is already loaded. To reload it, use:\n",
      "  %reload_ext autoreload\n"
     ]
    }
   ],
   "source": [
    "import pandas as pd\n",
    "import numpy as np\n",
    "import nltk\n",
    "import matplotlib.pyplot as plt\n",
    "import seaborn as sns\n",
    "\n",
    "#nltk.download('names')\n",
    "from nltk.corpus import names\n",
    "\n",
    "from sklearn.linear_model import LogisticRegression\n",
    "from sklearn.ensemble import GradientBoostingClassifier\n",
    "from sklearn.svm import SVC\n",
    "from sklearn.naive_bayes import MultinomialNB\n",
    "from sklearn.feature_extraction.text import CountVectorizer\n",
    "\n",
    "from sklearn.metrics import confusion_matrix, classification_report\n",
    "from sklearn.model_selection import train_test_split\n",
    "\n",
    "%load_ext autoreload\n",
    "%autoreload 2"
   ]
  },
  {
   "cell_type": "code",
   "execution_count": 325,
   "id": "prescription-handbook",
   "metadata": {},
   "outputs": [],
   "source": [
    "names_dict = {'name':names.words()}\n",
    "names_df = pd.DataFrame(data= names_dict)"
   ]
  },
  {
   "cell_type": "code",
   "execution_count": 326,
   "id": "wooden-department",
   "metadata": {},
   "outputs": [],
   "source": [
    "def label_names(row):\n",
    "    if row in names.words('female.txt'):\n",
    "        return \"female\"\n",
    "    if row in names.words('male.txt'):\n",
    "        return \"male\"\n",
    "    else: return -1\n",
    "    \n",
    "def get_last_letter(row):\n",
    "    return row[-1]"
   ]
  },
  {
   "cell_type": "code",
   "execution_count": 327,
   "id": "urban-weather",
   "metadata": {},
   "outputs": [],
   "source": [
    "names_df['label'] = names_df.name.apply(lambda x: label_names(x))"
   ]
  },
  {
   "cell_type": "code",
   "execution_count": 328,
   "id": "moved-cigarette",
   "metadata": {},
   "outputs": [],
   "source": [
    "names_df['last_letter'] = names_df.name.apply(lambda x: get_last_letter(x))\n",
    "names_df = names_df.sample(frac=1).reset_index(drop=True)"
   ]
  },
  {
   "cell_type": "code",
   "execution_count": 329,
   "id": "practical-appeal",
   "metadata": {},
   "outputs": [
    {
     "name": "stdout",
     "output_type": "stream",
     "text": [
      "Min length name: 2\n",
      "Average length name: 6.03285498489426\n",
      "Median length name: 6.0\n",
      "Max length name: 15\n"
     ]
    }
   ],
   "source": [
    "print(f\"Min length name: {names_df.name.apply(len).min()}\",\n",
    "      f\"Average length name: {names_df.name.apply(len).mean()}\",\n",
    "      f\"Median length name: {names_df.name.apply(len).median()}\",\n",
    "      f\"Max length name: {names_df.name.apply(len).max()}\",\n",
    "      sep=\"\\n\")"
   ]
  },
  {
   "cell_type": "markdown",
   "id": "stretch-shanghai",
   "metadata": {},
   "source": [
    "## Base Line Model"
   ]
  },
  {
   "cell_type": "markdown",
   "id": "supreme-gregory",
   "metadata": {},
   "source": [
    "The book uses a Naive Bayes classifer for determining name-gender congruence. The model shown in the book achieved a 0.782 accuracy. This is what we intend to beat. \n",
    "\n",
    "We will leverage the fact that there is a diversity of name length to create character n-grams of the names and assign count scores to those character n-grams. Above we see that the minimum length name is 2 characters and maximum is 15 characters. We will build n-grams to count from 0 - 15. After several tests we found that this combination is likely to be the best for model accuaracy and precision. "
   ]
  },
  {
   "cell_type": "code",
   "execution_count": 330,
   "id": "eastern-madrid",
   "metadata": {},
   "outputs": [],
   "source": [
    "char_vectorizer = CountVectorizer(analyzer='char', ngram_range=(0, 15))\n",
    "X = char_vectorizer.fit_transform(names_df.name)"
   ]
  },
  {
   "cell_type": "code",
   "execution_count": 331,
   "id": "peaceful-wisconsin",
   "metadata": {},
   "outputs": [],
   "source": [
    "# collapse to sparse matrix\n",
    "X = X.tocsc()"
   ]
  },
  {
   "cell_type": "code",
   "execution_count": 332,
   "id": "selected-subject",
   "metadata": {},
   "outputs": [],
   "source": [
    "train_dev = X[500:]\n",
    "test = X[:500]"
   ]
  },
  {
   "cell_type": "code",
   "execution_count": 333,
   "id": "inappropriate-lithuania",
   "metadata": {},
   "outputs": [],
   "source": [
    "X_train, X_dev, y_train, y_dev = train_test_split(train_dev, names_df['label'][500:],\n",
    "                                                    test_size=0.07, random_state=42)"
   ]
  },
  {
   "cell_type": "code",
   "execution_count": 334,
   "id": "consistent-radar",
   "metadata": {},
   "outputs": [],
   "source": [
    "naive_model = MultinomialNB().fit(X_train, y_train)"
   ]
  },
  {
   "cell_type": "code",
   "execution_count": 335,
   "id": "upset-college",
   "metadata": {},
   "outputs": [
    {
     "name": "stdout",
     "output_type": "stream",
     "text": [
      "              precision    recall  f1-score   support\n",
      "\n",
      "      female       0.84      0.95      0.89       340\n",
      "        male       0.87      0.65      0.75       182\n",
      "\n",
      "    accuracy                           0.84       522\n",
      "   macro avg       0.85      0.80      0.82       522\n",
      "weighted avg       0.85      0.84      0.84       522\n",
      "\n"
     ]
    }
   ],
   "source": [
    "print(classification_report(y_dev, naive_model.predict(X_dev)))"
   ]
  },
  {
   "cell_type": "code",
   "execution_count": 336,
   "id": "fifth-sellers",
   "metadata": {},
   "outputs": [
    {
     "name": "stdout",
     "output_type": "stream",
     "text": [
      "[[322  18]\n",
      " [ 63 119]]\n"
     ]
    }
   ],
   "source": [
    "print(confusion_matrix(y_dev, naive_model.predict(X_dev)))"
   ]
  },
  {
   "cell_type": "code",
   "execution_count": 337,
   "id": "extra-atlas",
   "metadata": {},
   "outputs": [],
   "source": [
    "svm_model = SVC().fit(X_train, y_train)"
   ]
  },
  {
   "cell_type": "code",
   "execution_count": 338,
   "id": "offensive-stuff",
   "metadata": {},
   "outputs": [
    {
     "name": "stdout",
     "output_type": "stream",
     "text": [
      "              precision    recall  f1-score   support\n",
      "\n",
      "      female       0.82      0.95      0.88       340\n",
      "        male       0.87      0.61      0.72       182\n",
      "\n",
      "    accuracy                           0.83       522\n",
      "   macro avg       0.85      0.78      0.80       522\n",
      "weighted avg       0.84      0.83      0.82       522\n",
      "\n"
     ]
    }
   ],
   "source": [
    "print(classification_report(y_dev, svm_model.predict(X_dev)))"
   ]
  },
  {
   "cell_type": "code",
   "execution_count": 339,
   "id": "unsigned-editing",
   "metadata": {},
   "outputs": [
    {
     "name": "stdout",
     "output_type": "stream",
     "text": [
      "[[324  16]\n",
      " [ 71 111]]\n"
     ]
    }
   ],
   "source": [
    "print(confusion_matrix(y_dev, svm_model.predict(X_dev)))"
   ]
  },
  {
   "cell_type": "markdown",
   "id": "violent-conservation",
   "metadata": {},
   "source": [
    "#### Logistic Regression is the best model"
   ]
  },
  {
   "cell_type": "code",
   "execution_count": 340,
   "id": "intended-digit",
   "metadata": {},
   "outputs": [],
   "source": [
    "logit_model = LogisticRegression(max_iter=3000).fit(X_train, y_train)"
   ]
  },
  {
   "cell_type": "code",
   "execution_count": 341,
   "id": "finite-ending",
   "metadata": {},
   "outputs": [
    {
     "name": "stdout",
     "output_type": "stream",
     "text": [
      "              precision    recall  f1-score   support\n",
      "\n",
      "      female       0.87      0.96      0.91       340\n",
      "        male       0.91      0.74      0.81       182\n",
      "\n",
      "    accuracy                           0.88       522\n",
      "   macro avg       0.89      0.85      0.86       522\n",
      "weighted avg       0.88      0.88      0.88       522\n",
      "\n"
     ]
    }
   ],
   "source": [
    "print(classification_report(y_dev, logit_model.predict(X_dev)))"
   ]
  },
  {
   "cell_type": "code",
   "execution_count": 342,
   "id": "protected-parts",
   "metadata": {},
   "outputs": [
    {
     "name": "stdout",
     "output_type": "stream",
     "text": [
      "[[326  14]\n",
      " [ 48 134]]\n"
     ]
    }
   ],
   "source": [
    "print(confusion_matrix(y_dev, logit_model.predict(X_dev)))"
   ]
  },
  {
   "cell_type": "markdown",
   "id": "essential-controversy",
   "metadata": {},
   "source": [
    "The Logit also minimizes False Negtives/False Positive ratio."
   ]
  },
  {
   "cell_type": "code",
   "execution_count": 343,
   "id": "metric-digest",
   "metadata": {},
   "outputs": [],
   "source": [
    "gmb_model = GradientBoostingClassifier().fit(X_train, y_train)"
   ]
  },
  {
   "cell_type": "code",
   "execution_count": 344,
   "id": "educational-damage",
   "metadata": {},
   "outputs": [
    {
     "name": "stdout",
     "output_type": "stream",
     "text": [
      "              precision    recall  f1-score   support\n",
      "\n",
      "      female       0.76      0.96      0.85       340\n",
      "        male       0.86      0.43      0.58       182\n",
      "\n",
      "    accuracy                           0.78       522\n",
      "   macro avg       0.81      0.70      0.71       522\n",
      "weighted avg       0.79      0.78      0.75       522\n",
      "\n"
     ]
    }
   ],
   "source": [
    "print(classification_report(y_dev, gmb_model.predict(X_dev)))"
   ]
  },
  {
   "cell_type": "code",
   "execution_count": 345,
   "id": "found-japan",
   "metadata": {},
   "outputs": [
    {
     "name": "stdout",
     "output_type": "stream",
     "text": [
      "[[327  13]\n",
      " [103  79]]\n"
     ]
    }
   ],
   "source": [
    "print(confusion_matrix(y_dev, gmb_model.predict(X_dev)))"
   ]
  },
  {
   "cell_type": "markdown",
   "id": "tested-handbook",
   "metadata": {},
   "source": [
    "## Development Results"
   ]
  },
  {
   "cell_type": "markdown",
   "id": "accredited-accounting",
   "metadata": {},
   "source": [
    "We see that the best model is the most simple. The logistic regression model significantly better, with the SVM classifier a close second place. Whereas the, more complex, and generally superior Tree Boosted model was equal to the base model. If constrained to a Navie Bayesian model only, our NB model trained on character n-grams demonstrated better results (83% accuracy) as compared to the base model. "
   ]
  },
  {
   "cell_type": "markdown",
   "id": "scientific-theater",
   "metadata": {},
   "source": [
    "## Test Set Results"
   ]
  },
  {
   "cell_type": "markdown",
   "id": "secret-annotation",
   "metadata": {},
   "source": [
    "Fit the best development model to the entire training set and evaluate on the test set. "
   ]
  },
  {
   "cell_type": "code",
   "execution_count": 346,
   "id": "funded-billion",
   "metadata": {},
   "outputs": [],
   "source": [
    "final_model = LogisticRegression(max_iter=3000).fit(train_dev, names_df.label[500:])"
   ]
  },
  {
   "cell_type": "code",
   "execution_count": 347,
   "id": "rolled-demographic",
   "metadata": {},
   "outputs": [
    {
     "name": "stdout",
     "output_type": "stream",
     "text": [
      "              precision    recall  f1-score   support\n",
      "\n",
      "      female       0.88      0.95      0.91       346\n",
      "        male       0.87      0.69      0.77       154\n",
      "\n",
      "    accuracy                           0.87       500\n",
      "   macro avg       0.87      0.82      0.84       500\n",
      "weighted avg       0.87      0.87      0.87       500\n",
      "\n"
     ]
    }
   ],
   "source": [
    "print(classification_report(names_df.label[:500], final_model.predict(test)))"
   ]
  },
  {
   "cell_type": "code",
   "execution_count": 348,
   "id": "casual-canyon",
   "metadata": {},
   "outputs": [
    {
     "name": "stdout",
     "output_type": "stream",
     "text": [
      "[[330  16]\n",
      " [ 47 107]]\n"
     ]
    }
   ],
   "source": [
    "print(confusion_matrix(names_df.label[:500], final_model.predict(test)))"
   ]
  },
  {
   "cell_type": "markdown",
   "id": "juvenile-aquatic",
   "metadata": {},
   "source": [
    "Consistent results from the development set. Great!"
   ]
  },
  {
   "cell_type": "code",
   "execution_count": null,
   "id": "accomplished-hearts",
   "metadata": {},
   "outputs": [],
   "source": []
  }
 ],
 "metadata": {
  "kernelspec": {
   "display_name": "Python 3",
   "language": "python",
   "name": "python3"
  },
  "language_info": {
   "codemirror_mode": {
    "name": "ipython",
    "version": 3
   },
   "file_extension": ".py",
   "mimetype": "text/x-python",
   "name": "python",
   "nbconvert_exporter": "python",
   "pygments_lexer": "ipython3",
   "version": "3.7.9"
  }
 },
 "nbformat": 4,
 "nbformat_minor": 5
}
