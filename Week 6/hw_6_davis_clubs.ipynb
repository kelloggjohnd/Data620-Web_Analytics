{
 "cells": [
  {
   "cell_type": "markdown",
   "id": "typical-monroe",
   "metadata": {},
   "source": [
    "# HW Week 6 - Davis Club\n",
    "\n",
    "---\n",
    "\n",
    "Jeff Shamp, John Kellogg, Grace Han\n",
    "\n",
    "---"
   ]
  },
  {
   "cell_type": "markdown",
   "id": "advised-entry",
   "metadata": {},
   "source": [
    "From BB and the NetworkX documentation"
   ]
  },
  {
   "cell_type": "code",
   "execution_count": 15,
   "id": "increased-colonial",
   "metadata": {},
   "outputs": [
    {
     "name": "stdout",
     "output_type": "stream",
     "text": [
      "\n",
      "#Friends, Member\n",
      "17 Evelyn Jefferson\n",
      "15 Laura Mandeville\n",
      "17 Theresa Anderson\n",
      "15 Brenda Rogers\n",
      "11 Charlotte McDowd\n",
      "15 Frances Anderson\n",
      "15 Eleanor Nye\n",
      "16 Pearl Oglethorpe\n",
      "17 Ruth DeSand\n",
      "17 Verne Sanderson\n",
      "16 Myra Liddel\n",
      "16 Katherina Rogers\n",
      "17 Sylvia Avondale\n",
      "17 Nora Fayette\n",
      "17 Helen Lloyd\n",
      "16 Dorothy Murchison\n",
      "12 Olivia Carleton\n",
      "12 Flora Price\n",
      "\n",
      "#Friend meetings, Member\n",
      "50 Evelyn Jefferson\n",
      "45 Laura Mandeville\n",
      "57 Theresa Anderson\n",
      "46 Brenda Rogers\n",
      "24 Charlotte McDowd\n",
      "32 Frances Anderson\n",
      "36 Eleanor Nye\n",
      "31 Pearl Oglethorpe\n",
      "40 Ruth DeSand\n",
      "38 Verne Sanderson\n",
      "33 Myra Liddel\n",
      "37 Katherina Rogers\n",
      "46 Sylvia Avondale\n",
      "43 Nora Fayette\n",
      "34 Helen Lloyd\n",
      "24 Dorothy Murchison\n",
      "14 Olivia Carleton\n",
      "14 Flora Price\n"
     ]
    }
   ],
   "source": [
    "import matplotlib.pyplot as plt\n",
    "import networkx as nx\n",
    "import networkx.algorithms.bipartite as bipartite\n",
    "import warnings\n",
    "from pyvis.network import Network\n",
    "\n",
    "warnings.filterwarnings('ignore')\n",
    "% matplotlib inline\n",
    "\n",
    "\n",
    "G = nx.davis_southern_women_graph()\n",
    "women = G.graph[\"top\"]\n",
    "clubs = G.graph[\"bottom\"]\n",
    "\n",
    "# Omitting the biadjacent matrix for brevity\n",
    "# print(\"Biadjacency matrix\")\n",
    "# print(bipartite.biadjacency_matrix(G, women, clubs))\n",
    "\n",
    "# project bipartite graph onto women nodes\n",
    "W = bipartite.projected_graph(G, women)\n",
    "print()\n",
    "print(\"#Friends, Member\")\n",
    "for w in women:\n",
    "    print(f\"{W.degree(w)} {w}\")\n",
    "\n",
    "# project bipartite graph onto women nodes keeping number of co-occurence\n",
    "# the degree computed is weighted and counts the total number of shared contacts\n",
    "W = bipartite.weighted_projected_graph(G, women)\n",
    "print()\n",
    "print(\"#Friend meetings, Member\")\n",
    "for w in women:\n",
    "    print(f\"{W.degree(w, weight='weight')} {w}\")"
   ]
  },
  {
   "cell_type": "markdown",
   "id": "requested-ebony",
   "metadata": {},
   "source": [
    "We see from the degrees of members and member meetings that all of the woman have about the same number of friends, so this network isn't \"held together\" by a small number of \"super-friends\". Also with 18 total women and most women having around 15 friends, almost all the women know all the other women. We also see that there is a gradient of number of meetings each member attends. We do have several women who meet many many other women, this is likely due to the club they attend. We will visual this original 2-mode network and then the 1-mode projection. "
   ]
  },
  {
   "cell_type": "code",
   "execution_count": 17,
   "id": "packed-grace",
   "metadata": {},
   "outputs": [
    {
     "data": {
      "text/html": [
       "\n",
       "        <iframe\n",
       "            width=\"1000px\"\n",
       "            height=\"800px\"\n",
       "            src=\"network_2.html\"\n",
       "            frameborder=\"0\"\n",
       "            allowfullscreen\n",
       "        ></iframe>\n",
       "        "
      ],
      "text/plain": [
       "<IPython.lib.display.IFrame at 0x7f9e0c4fda90>"
      ]
     },
     "execution_count": 17,
     "metadata": {},
     "output_type": "execute_result"
    }
   ],
   "source": [
    "M = Network(height='800px',\n",
    "            width='1000px',\n",
    "            bgcolor='#222222', \n",
    "            font_color='white', \n",
    "            notebook=True)\n",
    "\n",
    "M.barnes_hut()\n",
    "for n in G.nodes():\n",
    "    M.add_node(n)\n",
    "for e in G.edges():\n",
    "    M.add_edge(e[0], e[1])\n",
    "M.show('network_2.html')"
   ]
  },
  {
   "cell_type": "markdown",
   "id": "victorian-cooler",
   "metadata": {},
   "source": [
    "So it is clear that there are large and small clubs that serve has connectors between members. There are about four clubs that connect a large number of women and several smaller clubs that connect only a few new people to the larger network. "
   ]
  },
  {
   "cell_type": "code",
   "execution_count": 14,
   "id": "sharp-facing",
   "metadata": {},
   "outputs": [
    {
     "data": {
      "text/html": [
       "\n",
       "        <iframe\n",
       "            width=\"1000px\"\n",
       "            height=\"1000px\"\n",
       "            src=\"network_2.html\"\n",
       "            frameborder=\"0\"\n",
       "            allowfullscreen\n",
       "        ></iframe>\n",
       "        "
      ],
      "text/plain": [
       "<IPython.lib.display.IFrame at 0x7f9e0c517250>"
      ]
     },
     "execution_count": 14,
     "metadata": {},
     "output_type": "execute_result"
    }
   ],
   "source": [
    "C = Network(height='1000px',\n",
    "            width='1000px',\n",
    "            bgcolor='#222222', \n",
    "            font_color='white', \n",
    "            notebook=True)\n",
    "\n",
    "C.barnes_hut()\n",
    "for n in W.nodes():\n",
    "    C.add_node(n)\n",
    "for e in W.edges():\n",
    "    C.add_edge(e[0], e[1])\n",
    "C.show('network_2.html')"
   ]
  },
  {
   "cell_type": "markdown",
   "id": "engaging-egyptian",
   "metadata": {},
   "source": [
    "For the seven women in the middle of the network who have many (40 +) connections they attend at least one of the major clubs in addition to some smaller clubs. This makes gives them such a high weighted degree. "
   ]
  }
 ],
 "metadata": {
  "kernelspec": {
   "display_name": "Python 3",
   "language": "python",
   "name": "python3"
  },
  "language_info": {
   "codemirror_mode": {
    "name": "ipython",
    "version": 3
   },
   "file_extension": ".py",
   "mimetype": "text/x-python",
   "name": "python",
   "nbconvert_exporter": "python",
   "pygments_lexer": "ipython3",
   "version": "3.7.9"
  }
 },
 "nbformat": 4,
 "nbformat_minor": 5
}
